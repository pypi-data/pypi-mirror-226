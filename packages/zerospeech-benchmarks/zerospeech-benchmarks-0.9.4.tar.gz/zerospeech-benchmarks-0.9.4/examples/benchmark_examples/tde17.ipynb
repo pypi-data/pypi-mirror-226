{
 "cells": [
  {
   "cell_type": "code",
   "execution_count": null,
   "metadata": {},
   "outputs": [],
   "source": [
    "\"\"\" Download the benchmark dataset \"\"\"\n",
    "%env APP_DIR=zr-data\n",
    "%env TMP_DIR=/tmp\n",
    "from zerospeech.model.datasets import DatasetsDir\n",
    "from zerospeech.benchmarks.datasets import ZRC2017Dataset\n",
    "\n",
    "\n",
    "# Load and download AbxLs dataset\n",
    "datasets_dir = DatasetsDir.load()\n",
    "dataset = datasets_dir.get(\"zrc2017-test-dataset\", cls=ZRC2017Dataset)\n",
    "if not dataset.installed:\n",
    "    dataset.pull()"
   ]
  },
  {
   "cell_type": "code",
   "execution_count": null,
   "metadata": {
    "collapsed": false
   },
   "outputs": [],
   "source": [
    "\"\"\" Download a sample submission (Optional) \"\"\"\n",
    "%env APP_DIR=zr-data\n",
    "%env TMP_DIR=/tmp\n",
    "# from zerospeech.model.samples import SamplesDir\n",
    "\n",
    "# Load sample dir\n",
    "# sample_dir = SamplesDir.load()\n",
    "\n",
    "# todo: create sample submissions for tde17\n",
    "# sample_itm = sample_dir.get(\"....\")\n",
    "# if not sample_itm.installed:\n",
    "#    sample_itm.pull()"
   ]
  },
  {
   "cell_type": "code",
   "execution_count": null,
   "metadata": {},
   "outputs": [],
   "source": [
    "%env APP_DIR=zr-data\n",
    "from zerospeech.benchmarks import tde_17\n",
    "from pathlib import Path\n",
    "\n",
    "\n",
    "# Path to your submission\n",
    "sub_location: Path = ...\n",
    "\n",
    "# load submission from disk\n",
    "submission_obj = tde_17.TDE17Submission.load(sub_location)\n",
    "# load benchmark\n",
    "benchmark = tde_17.TDE17Benchmark()\n",
    "# run benchmark\n",
    "benchmark.run(submission_obj)\n",
    "\n",
    "# Results are in sub_location / 'scores' dir by default"
   ]
  }
 ],
 "metadata": {
  "kernelspec": {
   "display_name": "Python 3 (ipykernel)",
   "language": "python",
   "name": "python3"
  },
  "orig_nbformat": 4,
  "vscode": {
   "interpreter": {
    "hash": "d1da385c3704c36a0fc1b78896f214ded57d0f475a7c8a2720df970b3e945e6d"
   }
  }
 },
 "nbformat": 4,
 "nbformat_minor": 2
}
