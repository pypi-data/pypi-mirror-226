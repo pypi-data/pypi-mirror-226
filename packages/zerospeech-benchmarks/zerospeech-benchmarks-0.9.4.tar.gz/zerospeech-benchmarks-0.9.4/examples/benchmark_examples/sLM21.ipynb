{
 "cells": [
  {
   "cell_type": "code",
   "execution_count": null,
   "metadata": {},
   "outputs": [],
   "source": [
    "\"\"\" Download the benchmark dataset \"\"\"\n",
    "%env APP_DIR=~/zr-data\n",
    "%env TMP_DIR=/tmp\n",
    "from zerospeech.model.datasets import DatasetsDir\n",
    "from zerospeech.benchmarks.datasets import SLM21Dataset\n",
    "\n",
    "\n",
    "# Load and download AbxLs dataset\n",
    "datasets_dir = DatasetsDir.load()\n",
    "dataset = datasets_dir.get(\"sLM21-dataset\", cls=SLM21Dataset)\n",
    "if not dataset.installed:\n",
    "    dataset.pull()"
   ]
  },
  {
   "cell_type": "code",
   "execution_count": null,
   "metadata": {
    "collapsed": false
   },
   "outputs": [],
   "source": [
    "\"\"\" Download a sample submission (Optional) \"\"\"\n",
    "%env APP_DIR=zr-data\n",
    "%env TMP_DIR=/tmp\n",
    "from zerospeech.model.samples import SamplesDir\n",
    "\n",
    "# Load sample dir\n",
    "sample_dir = SamplesDir.load()\n",
    "\n",
    "# Download randomly generated submission\n",
    "random_sub = sample_dir.get(\"sLM-random-submission\")\n",
    "if not random_sub.installed:\n",
    "    random_sub.pull()\n",
    "\n",
    "# Download the bert baseline\n",
    "bert_baseline_sub = sample_dir.get(\"sLM-baseline-bert-submission\")\n",
    "if not bert_baseline_sub.installed:\n",
    "    bert_baseline_sub.pull()\n",
    "\n",
    "\n",
    "# Download the lstm baseline\n",
    "lstm_baseline_sub = sample_dir.get(\"sLM-baseline-lstm-submission\")\n",
    "if not lstm_baseline_sub.installed:\n",
    "    lstm_baseline_sub.pull()\n"
   ]
  },
  {
   "cell_type": "code",
   "execution_count": null,
   "metadata": {},
   "outputs": [],
   "source": [
    "\"\"\" Evaluate a submission \"\"\"\n",
    "%env APP_DIR=zr-data\n",
    "%env TMP_DIR=/tmp\n",
    "from zerospeech.benchmarks import sLM_21\n",
    "from pathlib import Path\n",
    "\n",
    "# Path to your submission\n",
    "sub_location: Path = random_sub.location\n",
    "\n",
    "# load submission from disk\n",
    "submission_obj = sLM_21.SLM21Submission.load(sub_location)\n",
    "# load benchmark\n",
    "benchmark = sLM_21.SLM21Benchmark()\n",
    "# run benchmark\n",
    "benchmark.run(submission_obj)\n",
    "\n",
    "# Results are in sub_location / 'scores' dir by default"
   ]
  }
 ],
 "metadata": {
  "kernelspec": {
   "display_name": "Python 3 (ipykernel)",
   "language": "python",
   "name": "python3"
  },
  "orig_nbformat": 4,
  "vscode": {
   "interpreter": {
    "hash": "d1da385c3704c36a0fc1b78896f214ded57d0f475a7c8a2720df970b3e945e6d"
   }
  }
 },
 "nbformat": 4,
 "nbformat_minor": 2
}
