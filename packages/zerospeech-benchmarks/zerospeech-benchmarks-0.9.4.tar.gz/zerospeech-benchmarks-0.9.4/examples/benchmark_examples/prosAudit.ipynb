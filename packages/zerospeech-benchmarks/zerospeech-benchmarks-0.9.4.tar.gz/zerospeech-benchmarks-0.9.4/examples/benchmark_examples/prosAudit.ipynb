{
 "cells": [
  {
   "cell_type": "code",
   "execution_count": null,
   "metadata": {},
   "outputs": [],
   "source": [
    "\"\"\" Download the benchmark dataset \"\"\"\n",
    "%env APP_DIR=zr-data\n",
    "%env TMP_DIR=/tmp\n",
    "from zerospeech.model.datasets import DatasetsDir\n",
    "from zerospeech.benchmarks.datasets import ProsAuditLMDataset\n",
    "\n",
    "# Load and download the ProsAudit Dataset\n",
    "dataset_dir = DatasetsDir.load()\n",
    "dataset = dataset_dir.get('prosaudit-dataset', cls=ProsAuditLMDataset)\n",
    "\n",
    "if not dataset.installed:\n",
    "    dataset.pull()"
   ]
  },
  {
   "cell_type": "code",
   "execution_count": null,
   "metadata": {},
   "outputs": [],
   "source": [
    "\"\"\" Evaluate a submission \"\"\"\n",
    "%env APP_DIR=zr-data\n",
    "%env TMP_DIR=/tmp\n",
    "from zerospeech.benchmarks import pros_audit\n",
    "from pathlib import Path\n",
    "\n",
    "# Path to your submission\n",
    "sub_location: Path = ...\n",
    "\n",
    "# load submission\n",
    "submission_obj = pros_audit.ProsodySubmission.load(sub_location)\n",
    "\n",
    "# Optional validation\n",
    "if not submission_obj.valid:\n",
    "    raise ValueError('submission is not valid')\n",
    "\n",
    "\n",
    "# load benchmark\n",
    "benchmark = pros_audit.SLMProsodyBenchmark()\n",
    "# run benchmark\n",
    "benchmark.run(submission_obj)\n",
    "\n",
    "# Results are in sub_location / 'scores' dir by default"
   ]
  }
 ],
 "metadata": {
  "kernelspec": {
   "display_name": "zr-bench",
   "language": "python",
   "name": "python3"
  },
  "language_info": {
   "codemirror_mode": {
    "name": "ipython",
    "version": 3
   },
   "file_extension": ".py",
   "mimetype": "text/x-python",
   "name": "python",
   "nbconvert_exporter": "python",
   "pygments_lexer": "ipython3",
   "version": "3.9.14"
  },
  "orig_nbformat": 4,
  "vscode": {
   "interpreter": {
    "hash": "d1da385c3704c36a0fc1b78896f214ded57d0f475a7c8a2720df970b3e945e6d"
   }
  }
 },
 "nbformat": 4,
 "nbformat_minor": 2
}
