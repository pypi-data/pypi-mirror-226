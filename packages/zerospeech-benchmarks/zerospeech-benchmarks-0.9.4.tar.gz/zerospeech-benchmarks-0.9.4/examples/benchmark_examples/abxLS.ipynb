{
 "cells": [
  {
   "cell_type": "code",
   "execution_count": null,
   "metadata": {},
   "outputs": [],
   "source": [
    "\"\"\" Download the benchmark dataset \"\"\"\n",
    "%env APP_DIR=zr-data\n",
    "%env TMP_DIR=/tmp\n",
    "from zerospeech.model.datasets import DatasetsDir\n",
    "from zerospeech.benchmarks.datasets import AbxLSDataset\n",
    "\n",
    "\n",
    "# Load and download AbxLs dataset\n",
    "datasets_dir = DatasetsDir.load()\n",
    "dataset = datasets_dir.get(\"abxLS-dataset\", cls=AbxLSDataset)\n",
    "if not dataset.installed:\n",
    "    dataset.pull()"
   ]
  },
  {
   "cell_type": "code",
   "execution_count": null,
   "metadata": {
    "collapsed": false
   },
   "outputs": [],
   "source": [
    "\"\"\" Download a sample submission (Optional) \"\"\"\n",
    "%env APP_DIR=zr-data\n",
    "%env TMP_DIR=/tmp\n",
    "from zerospeech.model.samples import SamplesDir\n",
    "\n",
    "# Load sample dir\n",
    "sample_dir = SamplesDir.load()\n",
    "\n",
    "\n",
    "# Download abxLS randomly generated submission\n",
    "random_sub = sample_dir.get(\"abxLS-random-submission\")\n",
    "if not random_sub.installed:\n",
    "    random_sub.pull()\n",
    "\n",
    "# Download the bert baseline\n",
    "bert_baseline_sub = sample_dir.get(\"abxLS-baseline-bert-submission\")\n",
    "if not bert_baseline_sub.installed:\n",
    "    bert_baseline_sub.pull()\n",
    "\n",
    "\n",
    "# Download the lstm baseline\n",
    "lstm_baseline_sub = sample_dir.get(\"abxLS-baseline-lstm-submission\")\n",
    "if not lstm_baseline_sub.installed:\n",
    "    lstm_baseline_sub.pull()\n"
   ]
  },
  {
   "cell_type": "code",
   "execution_count": null,
   "metadata": {},
   "outputs": [],
   "source": [
    "\"\"\" Evaluate a submission \"\"\"\n",
    "%env APP_DIR=zr-data\n",
    "%env TMP_DIR=/tmp\n",
    "from zerospeech.benchmarks import abx_LS\n",
    "from pathlib import Path\n",
    "\n",
    "# Path to your submission\n",
    "sub_location: Path = random_sub.location\n",
    "\n",
    "# load submission from disk\n",
    "submission_obj = abx_LS.AbxLSSubmission.load(random_sub.location)\n",
    "# load benchmark\n",
    "benchmark = abx_LS.AbxLSBenchmark()\n",
    "# run benchmark\n",
    "benchmark.run(submission_obj)\n",
    "\n",
    "# Results are in sub_location / 'scores' dir by default"
   ]
  }
 ],
 "metadata": {
  "kernelspec": {
   "display_name": "Python 3 (ipykernel)",
   "language": "python",
   "name": "python3"
  },
  "orig_nbformat": 4,
  "vscode": {
   "interpreter": {
    "hash": "d1da385c3704c36a0fc1b78896f214ded57d0f475a7c8a2720df970b3e945e6d"
   }
  }
 },
 "nbformat": 4,
 "nbformat_minor": 2
}
