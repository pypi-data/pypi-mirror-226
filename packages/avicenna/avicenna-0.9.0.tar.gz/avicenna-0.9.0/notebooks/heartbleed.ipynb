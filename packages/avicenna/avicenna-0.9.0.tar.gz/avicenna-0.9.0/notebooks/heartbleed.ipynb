{
 "cells": [
  {
   "cell_type": "markdown",
   "metadata": {},
   "source": [
    "# Understanding the Heartbleed Bug\n",
    "\n",
    "The Heartbleed Bug is a serious vulnerability in the popular OpenSSL cryptographic software library. OpenSSL is an open-source toolkit for implementing the Secure Sockets Layer (SSL) and Transport Layer Security (TLS) protocols; it's widely used in web servers, browsers, and various networked devices. The Heartbleed Bug allows malicious users to steal the information protected by the SSL/TLS encryption, thus undermining the very essence of online security. The vulnerability means that personal and sensitive data, like passwords, credit card information, and even server encryption keys, could be exposed to attackers.\n",
    "\n",
    "### The Heartbeat Protocol\n",
    "\n",
    "The heartbeat protocol plays a pivotal role in the TLS protocol, ensuring that both ends of a connection are alive and well. Essentially, it's a keep-alive feature. One end sends a \"heartbeat\" message, waiting for the other end to respond, verifying that the connection remains intact. A heartbeat message contains a payload, its length, and some random padding data.\n",
    "\n",
    "If, for instance, one end of the connection doesn't receive a heartbeat response within a certain timeframe, it might deduce that the connection has been lost.\n",
    "\n",
    "**Heartbeat Message Format**:\n",
    "```plaintext\n",
    "| Type (1 byte) | Payload Length (2 bytes) | Payload (variable) | Padding (variable) |\n",
    "```"
   ]
  },
  {
   "cell_type": "markdown",
   "metadata": {},
   "source": [
    "### Simulating a Heartbeat Request\n",
    "Let's create a sample heartbeat request. The type is `0x01`, indicating a request, and the payload is `Hello`."
   ]
  },
  {
   "cell_type": "code",
   "execution_count": 12,
   "metadata": {},
   "outputs": [],
   "source": [
    "import random\n",
    "import string\n",
    "from avicenna_formalizations.heartbeat import generate_random_utf8_string\n",
    "\n",
    "# Define the type for the heartbeat request\n",
    "heartbeat_type = \"\\x01\"\n",
    "\n",
    "# Define the payload as the string \"Hello\"\n",
    "payload = \"Hello\"\n",
    "\n",
    "# Calculate the payload length\n",
    "payload_length = str(len(payload))\n",
    "\n",
    "# Generate random padding of 3 characters\n",
    "padding = ''.join(random.choice(string.ascii_letters) for _ in range(3))"
   ]
  },
  {
   "cell_type": "markdown",
   "metadata": {},
   "source": [
    "Let us combine everything into one heartbeat request:"
   ]
  },
  {
   "cell_type": "code",
   "execution_count": 13,
   "metadata": {},
   "outputs": [
    {
     "name": "stdout",
     "output_type": "stream",
     "text": [
      "b'\\x01 5 Hello oqQ'\n"
     ]
    }
   ],
   "source": [
    "# Combine everything to create the heartbeat request string\n",
    "string_request = f\"{heartbeat_type} {payload_length} {payload} {padding}\"\n",
    "\n",
    "# Print the encoded request\n",
    "print(string_request.encode())"
   ]
  },
  {
   "cell_type": "markdown",
   "metadata": {},
   "source": [
    "For a clearer representation of the data being transmitted over the network, we convert the string request into its hexadecimal form. This way, we can view the raw byte values that would be sent during an actual heartbeat request, highlighting any potential discrepancies or anomalies."
   ]
  },
  {
   "cell_type": "code",
   "execution_count": 14,
   "metadata": {},
   "outputs": [
    {
     "name": "stdout",
     "output_type": "stream",
     "text": [
      "Heartbeat Request: 01 00 05 48 65 6C 6C 6F 6F 71 51\n"
     ]
    }
   ],
   "source": [
    "from avicenna_formalizations.heartbeat import heartbeat_string_to_hex\n",
    "\n",
    "# Convert the heartbeat request string to its hexadecimal representation\n",
    "heartbeat_request = heartbeat_string_to_hex(string_request)\n",
    "\n",
    "# Print the hexadecimal representation of the heartbeat request\n",
    "print(\"Heartbeat Request:\", heartbeat_request)"
   ]
  },
  {
   "cell_type": "markdown",
   "metadata": {},
   "source": [
    "By converting the request to hex, we get a raw view of the data, which can be instrumental when diagnosing or understanding vulnerabilities like Heartbleed."
   ]
  },
  {
   "cell_type": "markdown",
   "metadata": {},
   "source": [
    "Once we have the heartbeat request, the next logical step is to simulate what a typical response would look like. This gives us insights into the normal behavior of the heartbeat protocol and helps to contrast it with what happens during a Heartbleed attack."
   ]
  },
  {
   "cell_type": "code",
   "execution_count": 15,
   "metadata": {},
   "outputs": [
    {
     "name": "stdout",
     "output_type": "stream",
     "text": [
      "Heartbeat Response: 02 00 05 48 65 6C 6C 6F\n"
     ]
    }
   ],
   "source": [
    "from avicenna_formalizations.heartbeat import heartbeat_response\n",
    "\n",
    "# Generate a simulated heartbeat response based on the request\n",
    "response = heartbeat_response(heartbeat_request)\n",
    "\n",
    "# Print the simulated heartbeat response\n",
    "print(\"Heartbeat Response:\", response)"
   ]
  },
  {
   "cell_type": "markdown",
   "metadata": {},
   "source": [
    "Having the raw response is beneficial, but for a clearer understanding, we can decode this response back into its string format. This allows us to see the actual content being returned by the server."
   ]
  },
  {
   "cell_type": "code",
   "execution_count": 16,
   "metadata": {},
   "outputs": [
    {
     "name": "stdout",
     "output_type": "stream",
     "text": [
      "Decoded Response: \\x02 5 Hello \n"
     ]
    }
   ],
   "source": [
    "from avicenna_formalizations.heartbeat import hex_to_heartbeat_string\n",
    "\n",
    "# Decode the hexadecimal response back to its string representation\n",
    "decoded_response = hex_to_heartbeat_string(response)\n",
    "\n",
    "# Print the decoded heartbeat response\n",
    "print(\"Decoded Response:\", decoded_response)"
   ]
  },
  {
   "cell_type": "markdown",
   "metadata": {},
   "source": [
    "By understanding the standard behavior of the heartbeat protocol, we can better grasp the abnormalities and vulnerabilities introduced by the Heartbleed bug."
   ]
  },
  {
   "cell_type": "markdown",
   "metadata": {},
   "source": [
    "### Simulating the Heartbleed Bug\n",
    "\n",
    "The Heartbleed bug essentially exploits a mismatch between the declared payload length and the actual payload length in the heartbeat request. In a vulnerable server, if the payload length is declared longer than the actual payload, the server might return data equivalent to that length. As a result, it reveals extra data from its memory which could be sensitive information.\n",
    "\n",
    "Let's simulate this with a crafted malicious request:"
   ]
  },
  {
   "cell_type": "code",
   "execution_count": 17,
   "metadata": {},
   "outputs": [
    {
     "name": "stdout",
     "output_type": "stream",
     "text": [
      "Heartbeat Request: 01 00 64 48 65 6C 6C 6F 58 59\n"
     ]
    }
   ],
   "source": [
    "# Malicious heartbeat request: Declared payload length is \"100\" but the actual payload is \"Hello\"\n",
    "s = \"\\x01 100 Hello XY\"\n",
    "\n",
    "# Convert the malicious request to its hexadecimal representation\n",
    "heartbeat_request = heartbeat_string_to_hex(s)\n",
    "print(\"Heartbeat Request:\", heartbeat_request)"
   ]
  },
  {
   "cell_type": "markdown",
   "metadata": {},
   "source": [
    "When this request is sent to a vulnerable server, it triggers the Heartbleed vulnerability:"
   ]
  },
  {
   "cell_type": "code",
   "execution_count": 18,
   "metadata": {},
   "outputs": [
    {
     "name": "stdout",
     "output_type": "stream",
     "text": [
      "Heartbeat Response: 02 00 64 48 65 6C 6C 6F 58 59 50 7C 65 6E 3F 4E 29 68 4D 26 29 7A 34 31 4E 31 5D 77 70 71 26 67 69 6B 54 40 47 27 51 2E 6F 2E 74 3D 4C 6E 5C 41 56 2E 47 46 57 23 6C 7C 5C 3C 3D 5A 44 44 6B 3B 2E 3F 31 65 47 6B 31 34 24 2B 22 7D 31 39 33 31 2F 54 7E 77 62 54 74 2C 57 51 22 58 6C 49 73 67 54 67 63 53 6B 6F 73\n"
     ]
    }
   ],
   "source": [
    "# Simulate the response from a vulnerable server\n",
    "response = heartbeat_response(heartbeat_request)\n",
    "print(\"Heartbeat Response:\", response)"
   ]
  },
  {
   "cell_type": "code",
   "execution_count": 19,
   "metadata": {},
   "outputs": [
    {
     "name": "stdout",
     "output_type": "stream",
     "text": [
      "Decoded Response: \\x02 100 HelloXYP|en?N)hM&)z41N1]wpq&gikT@G'Q.o.t=Ln\\AV.GFW#l|\\<=ZDDk;.?1eGk14$+\"}1931/T~wbTt,WQ\"XlIsgTgcSkos \n"
     ]
    }
   ],
   "source": [
    "# Decode the hexadecimal response back to its string representation\n",
    "decoded_response = hex_to_heartbeat_string(response)\n",
    "print(\"Decoded Response:\", decoded_response)"
   ]
  },
  {
   "cell_type": "markdown",
   "metadata": {},
   "source": [
    "Notice the excessive data in the response. This represents the kind of sensitive information that could be leaked due to the Heartbleed bug."
   ]
  },
  {
   "cell_type": "markdown",
   "metadata": {},
   "source": [
    "## Using Avicenna to Automatically Derive an Explanation\n",
    "\n",
    "Avicenna is designed to automate vulnerability testing. In the context of the Heartbleed bug, it can be set up to identify whether a given heartbeat request-response pair is potentially vulnerable. Here's how this is done:"
   ]
  },
  {
   "cell_type": "code",
   "execution_count": 20,
   "metadata": {},
   "outputs": [],
   "source": [
    "def test_heartbleed_vulnerability(request_str, response_hex):\n",
    "    \"\"\"Test if the Heartbleed bug occurred based on the request and response.\"\"\"\n",
    "    \n",
    "    # Extract specified payload length and actual payload from the request string\n",
    "    specified_payload_length = int(request_str.split()[1])\n",
    "    actual_payload = request_str.split()[2][:specified_payload_length].encode('utf-8')\n",
    "    \n",
    "    # Convert the hex response to byte data and extract the payload and extra data from the response\n",
    "    response_byte_data = bytes.fromhex(response_hex.replace(\" \", \"\"))\n",
    "    response_payload_and_extra = response_byte_data[3:3+specified_payload_length+len(actual_payload)]\n",
    "\n",
    "    # Check if there's a discrepancy between response and request payload\n",
    "    return response_payload_and_extra != actual_payload"
   ]
  },
  {
   "cell_type": "code",
   "execution_count": 21,
   "metadata": {},
   "outputs": [],
   "source": [
    "from avicenna.oracle import OracleResult\n",
    "\n",
    "def oracle(inp):\n",
    "    \"\"\"Check if a given request string indicates a Heartbleed vulnerability.\"\"\"\n",
    "    try:\n",
    "        heartbeat_request_str = str(inp)\n",
    "        hex_request = heartbeat_string_to_hex(heartbeat_request_str)\n",
    "        response = heartbeat_response(hex_request)\n",
    "        is_vulnerable = test_heartbleed_vulnerability(heartbeat_request_str, response)\n",
    "    except OverflowError:\n",
    "        return OracleResult.UNDEF\n",
    "    return OracleResult.BUG if is_vulnerable else OracleResult.NO_BUG"
   ]
  },
  {
   "cell_type": "markdown",
   "metadata": {},
   "source": [
    "Now, we can use this setup to automatically test heartbeat requests:"
   ]
  },
  {
   "cell_type": "code",
   "execution_count": 22,
   "metadata": {},
   "outputs": [],
   "source": [
    "# Test with a regular heartbeat request\n",
    "assert oracle(\"\\x01 5 Hello abc\") == OracleResult.NO_BUG\n",
    "\n",
    "# Test with a malicious heartbeat request simulating the Heartbleed bug\n",
    "assert oracle(\"\\x01 100 Hello abc\") == OracleResult.BUG"
   ]
  },
  {
   "cell_type": "markdown",
   "metadata": {},
   "source": [
    "The first assertion confirms normal behavior, while the second highlights a potential Heartbleed vulnerability. With Avicenna, the process becomes seamless and automated, enhancing the speed and reliability of vulnerability checks."
   ]
  },
  {
   "cell_type": "markdown",
   "metadata": {},
   "source": [
    "## Setting Up Avicenna for Automated Diagnosis"
   ]
  },
  {
   "cell_type": "markdown",
   "metadata": {},
   "source": [
    "Avicenna is a powerful tool designed to provide automated explanations for software behavior. In the context of the Heartbleed bug, we will configure Avicenna to process the heartbeat messages, use our oracle to detect vulnerabilities, and then generate a diagnosis explaining the failure conditions."
   ]
  },
  {
   "cell_type": "code",
   "execution_count": 23,
   "metadata": {},
   "outputs": [
    {
     "name": "stdout",
     "output_type": "stream",
     "text": [
      "Avicenna determined the following constraints to describe the failure circumstances:\n",
      "\n",
      "exists <payload> container1 in start:\n",
      "  exists <payload-length> length_field in start:\n",
      "    (< (str.len container1) (str.to.int length_field))\n",
      "Avicenna calculated a precision: 100.00% and recall 100.00%\n"
     ]
    }
   ],
   "source": [
    "from avicenna.avicenna import Avicenna\n",
    "from avicenna_formalizations.heartbeat import initial_inputs, oracle, grammar\n",
    "from isla.language import ISLaUnparser\n",
    "\n",
    "# Initialize Avicenna with grammar, inputs, and the oracle\n",
    "avicenna = Avicenna(\n",
    "    grammar=grammar,\n",
    "    initial_inputs=initial_inputs,\n",
    "    oracle=oracle\n",
    ")\n",
    "\n",
    "# Generate a diagnosis explaining the failure conditions\n",
    "diagnosis = avicenna.explain()\n",
    "\n",
    "print(f\"Avicenna determined the following constraints to describe the failure circumstances:\\n\")\n",
    "print(ISLaUnparser(diagnosis[0]).unparse())\n",
    "print(f\"Avicenna calculated a precision: {diagnosis[1]*100:.2f}% and recall {diagnosis[2]*100:.2f}%\")"
   ]
  },
  {
   "cell_type": "markdown",
   "metadata": {},
   "source": [
    "Interpreting the Output:\n",
    "\n",
    "- The result is a first-order logic formula defined over the grammar elements.\n",
    "- The formula suggests that there exists a `<payload>` such that its length (`str.len`) is smaller than the value indicated in the `<payload-length>` field.\n",
    "\n",
    "\n",
    "This logic mirrors the Heartbleed vulnerability's essence, where the specified payload length is larger than the actual payload, causing servers to leak more data than intended. The precision and recall values indicate that Avicenna is very confident in its diagnosis."
   ]
  },
  {
   "cell_type": "markdown",
   "metadata": {},
   "source": [
    "### Generating More Heartbleed Inputs from the Diagnosis\n",
    "\n",
    "With the ISLa formula obtained from Avicenna, we can extrapolate and generate additional inputs that are likely to trigger the Heartbleed vulnerability. This demonstrates the predictive power of Avicenna and ISLa combined. By understanding the underlying logic of a known vulnerability, we can potentially uncover similar vulnerabilities in different contexts.\n",
    "\n",
    "To achieve this, we'll utilize the `ISLaSolver`. This tool attempts to compute solutions to a given ISLa formula, providing us with new input strings that conform to the failure conditions identified by Avicenna.\n",
    "Note: The function `ISLaSolver.solve()` will keep generating solutions until it can't find any more, at which point a `StopIteration` exception is raised. If it takes too long, a `TimeoutError` will occur."
   ]
  },
  {
   "cell_type": "code",
   "execution_count": 24,
   "metadata": {},
   "outputs": [
    {
     "name": "stdout",
     "output_type": "stream",
     "text": [
      "b'\\x01 8 c nX                      ' BUG\n",
      "b'\\x01 8 c D                       ' BUG\n",
      "b'\\x01 8 c Y                       ' BUG\n",
      "b'\\x01 8 c mbSN                    ' BUG\n",
      "b'\\x01 8 c Q                       ' BUG\n",
      "b'\\x01 8 c a                       ' BUG\n",
      "b'\\x01 8 c x                       ' BUG\n",
      "b'\\x01 8 c cty                     ' BUG\n",
      "b'\\x01 8 c q                       ' BUG\n",
      "b'\\x01 8 c Ku                      ' BUG\n"
     ]
    }
   ],
   "source": [
    "from isla.solver import ISLaSolver\n",
    "\n",
    "# Initialize the solver with the grammar and the diagnosis formula\n",
    "solver = ISLaSolver(grammar, diagnosis[0], enable_optimized_z3_queries=False)\n",
    "\n",
    "# Generate and display 10 inputs potentially causing the Heartbleed vulnerability\n",
    "for _ in range(10):\n",
    "    try:\n",
    "        inp = solver.solve()\n",
    "        print(str(inp).encode().ljust(30), oracle(inp))\n",
    "    except (StopIteration, TimeoutError):\n",
    "        print(\"No more solutions or timeout reached.\")\n",
    "        break"
   ]
  },
  {
   "cell_type": "markdown",
   "metadata": {},
   "source": [
    "The generated inputs, when tested with our oracle, should mostly produce a result indicating the potential Heartbleed vulnerability. This exercise reaffirms the correctness and utility of the diagnosis provided by Avicenna."
   ]
  },
  {
   "cell_type": "markdown",
   "metadata": {},
   "source": [
    "### Conclusion\n",
    "\n",
    "The Heartbleed bug epitomizes the challenges and intricacies of ensuring software security, even in widely adopted and trusted libraries like OpenSSL. Such vulnerabilities, while seemingly arcane, can have vast and detrimental effects on the digital infrastructure that underpins our modern world. It underscores the imperative need for rigorous, nuanced, and comprehensive analysis tools.\n",
    "\n",
    "**Enter Avicenna.**\n",
    "\n",
    "- **Automated Explanations:** Rather than relying on labor-intensive manual debugging and assessment, Avicenna provides automatic explanations for software behavior. In the case of Heartbleed, it swiftly discerned the vulnerability's core logic, generating a formula that precisely delineated the conditions leading to the flaw.\n",
    "- **Predictive Analysis:** Avicenna doesn't just identify known issues — it predicts and extrapolates. Armed with a diagnostic formula, it can generate myriad inputs that might trigger the same vulnerability, highlighting its capacity to preemptively pinpoint potential attack vectors.\n",
    "- **Streamlined Testing:** By integrating with tools like ISLaSolver, Avicenna offers a seamless way to generate, test, and validate potential vulnerability scenarios, making the process of vulnerability assessment both comprehensive and efficient.\n",
    "\n",
    "In conclusion, the Heartbleed bug exemplifies the importance of rigorous software security testing and validation. Avicenna, with its ability to provide automated explanations and predict potential vulnerabilities, offers a valuable tool in this endeavor. By streamlining the vulnerability assessment process, Avicenna contributes to more efficient and thorough software analysis. While no tool can guarantee absolute security, innovations like Avicenna play an essential role in enhancing our understanding and mitigation of potential risks in our digital infrastructure."
   ]
  }
 ],
 "metadata": {
  "kernelspec": {
   "display_name": "Python 3 (ipykernel)",
   "language": "python",
   "name": "python3"
  },
  "language_info": {
   "codemirror_mode": {
    "name": "ipython",
    "version": 3
   },
   "file_extension": ".py",
   "mimetype": "text/x-python",
   "name": "python",
   "nbconvert_exporter": "python",
   "pygments_lexer": "ipython3",
   "version": "3.10.9"
  }
 },
 "nbformat": 4,
 "nbformat_minor": 4
}
