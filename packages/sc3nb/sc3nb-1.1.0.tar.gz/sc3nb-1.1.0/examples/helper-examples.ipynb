{
 "cells": [
  {
   "cell_type": "markdown",
   "metadata": {
    "code_folding": []
   },
   "source": [
    "## Helper functions"
   ]
  },
  {
   "cell_type": "code",
   "execution_count": null,
   "metadata": {},
   "outputs": [],
   "source": [
    "import numpy as np\n",
    "import matplotlib.pyplot as plt\n",
    "%matplotlib inline"
   ]
  },
  {
   "cell_type": "code",
   "execution_count": null,
   "metadata": {},
   "outputs": [],
   "source": [
    "import sc3nb as scn"
   ]
  },
  {
   "cell_type": "markdown",
   "metadata": {},
   "source": [
    "* SuperCollider coders are familiar and frequently use a number of useful converter functions\n",
    "* the helper functions provide pythonic pendants namely currently for (to be extended):"
   ]
  },
  {
   "cell_type": "markdown",
   "metadata": {
    "code_folding": []
   },
   "source": [
    "### `linlin(x, x1, x2, y1, y2, clip)`"
   ]
  },
  {
   "cell_type": "markdown",
   "metadata": {
    "code_folding": []
   },
   "source": [
    "* to linearly map x from between [x1, x2] to [y1, y2]\n",
    "* no range check is done, clipping as specified (None, \"min\", \"max\" or anything for \"minmax\") "
   ]
  },
  {
   "cell_type": "code",
   "execution_count": null,
   "metadata": {},
   "outputs": [],
   "source": [
    "xs = np.linspace(1, 9, 100)\n",
    "plt.figure(figsize=(15,2))\n",
    "for i, clip in enumerate([None, \"min\", \"max\", \"minmax\"]):\n",
    "    plt.subplot(1, 4, i+1);\n",
    "    plt.plot(xs, scn.linlin(xs, 3, 7, 500, 300, clip))"
   ]
  },
  {
   "cell_type": "markdown",
   "metadata": {},
   "source": [
    "### `midicps` and `cpsmidi`"
   ]
  },
  {
   "cell_type": "code",
   "execution_count": null,
   "metadata": {
    "code_folding": []
   },
   "outputs": [],
   "source": [
    "scn.midicps(69.2)  # convert MIDI note to cycles per second (cps) in [Hz]"
   ]
  },
  {
   "cell_type": "code",
   "execution_count": null,
   "metadata": {
    "code_folding": []
   },
   "outputs": [],
   "source": [
    "scn.cpsmidi(440)   # and back to MIDI note (in float resolution)"
   ]
  },
  {
   "cell_type": "markdown",
   "metadata": {
    "code_folding": []
   },
   "source": [
    "### `clip(value, minimim, maximum)`"
   ]
  },
  {
   "cell_type": "code",
   "execution_count": null,
   "metadata": {},
   "outputs": [],
   "source": [
    "xs = np.linspace(1,9,100)\n",
    "plt.plot([scn.clip(x, 5, 7) for x in xs]);"
   ]
  },
  {
   "cell_type": "markdown",
   "metadata": {},
   "source": [
    "### `ampdb` and `dbamp`"
   ]
  },
  {
   "cell_type": "code",
   "execution_count": null,
   "metadata": {
    "code_folding": []
   },
   "outputs": [],
   "source": [
    "# dbamp(db) converts dB value in amplitude, 0 dB = 1, '*2' \\approx +6dB\n",
    "dbs = np.linspace(-20, 20)\n",
    "plt.plot(dbs, [scn.dbamp(d) for d in dbs]);\n",
    "# plt.semilogy()"
   ]
  },
  {
   "cell_type": "code",
   "execution_count": null,
   "metadata": {
    "code_folding": []
   },
   "outputs": [],
   "source": [
    "# ampdb(amp) converts an amplitude to dB, assuming 0dB=1\n",
    "scn.ampdb(0.2)"
   ]
  },
  {
   "cell_type": "code",
   "execution_count": null,
   "metadata": {},
   "outputs": [],
   "source": []
  }
 ],
 "metadata": {
  "hide_input": false,
  "toc": {
   "base_numbering": 1,
   "nav_menu": {},
   "number_sections": true,
   "sideBar": true,
   "skip_h1_title": false,
   "title_cell": "Table of Contents",
   "title_sidebar": "Contents",
   "toc_cell": false,
   "toc_position": {},
   "toc_section_display": true,
   "toc_window_display": false
  }
 },
 "nbformat": 4,
 "nbformat_minor": 4
}
