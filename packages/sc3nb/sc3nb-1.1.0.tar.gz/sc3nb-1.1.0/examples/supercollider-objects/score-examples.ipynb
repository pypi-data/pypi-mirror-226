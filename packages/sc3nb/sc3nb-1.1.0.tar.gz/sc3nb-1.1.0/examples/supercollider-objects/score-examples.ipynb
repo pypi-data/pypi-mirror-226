{
 "cells": [
  {
   "cell_type": "markdown",
   "id": "d94cc915",
   "metadata": {},
   "source": [
    "# Score"
   ]
  },
  {
   "cell_type": "code",
   "execution_count": null,
   "id": "8a02aaad",
   "metadata": {},
   "outputs": [],
   "source": [
    "import sc3nb as scn"
   ]
  },
  {
   "cell_type": "code",
   "execution_count": null,
   "id": "639cfa3c",
   "metadata": {},
   "outputs": [],
   "source": [
    "sc = scn.startup()"
   ]
  },
  {
   "cell_type": "code",
   "execution_count": null,
   "id": "75ae0551",
   "metadata": {},
   "outputs": [],
   "source": [
    "from sc3nb import Score, SynthDef"
   ]
  },
  {
   "cell_type": "markdown",
   "id": "c4a54ee3",
   "metadata": {},
   "source": [
    "The Score class can be used for non-realtime synthesis. \n",
    "\n",
    "* This is done by starting the SuperCollider audio server scsynth in the non-realtime mode.\n",
    "* The server will read the provided OSC file and render the sound to the specified sound file.\n",
    "* **Note** that this will require to send all required SynthDefs and Buffers at the beginning. However you can start using the Buffers & SynthDefs immediately after the corresponding OSCMessages as the audio server will handle all messages in the specified order.\n",
    "\n",
    "\n",
    "The `Score.record_nrt` class method provides an easy interface that generates a OSC file from a dict with timings as keys and lists of `OSCMessages` as values."
   ]
  },
  {
   "cell_type": "code",
   "execution_count": null,
   "id": "09f49299",
   "metadata": {},
   "outputs": [],
   "source": [
    "help(Score.record_nrt)"
   ]
  },
  {
   "cell_type": "markdown",
   "id": "a70f0bbf",
   "metadata": {},
   "source": [
    "Lets create a simple SynthDef for this demonstration"
   ]
  },
  {
   "cell_type": "code",
   "execution_count": null,
   "id": "2946df64",
   "metadata": {},
   "outputs": [],
   "source": [
    "synthdef = SynthDef(\n",
    "    \"test\",\n",
    "    r\"\"\"{ |out, freq = 440|\n",
    "            OffsetOut.ar(out,\n",
    "                SinOsc.ar(freq, 0, 0.2) * Line.kr(1, 0, 0.5, doneAction: Done.freeSelf)\n",
    "            )\n",
    "        }\"\"\",\n",
    ")"
   ]
  },
  {
   "cell_type": "markdown",
   "id": "e5831fd0",
   "metadata": {},
   "source": [
    "For creating the messages its recommended to use the Bundler class"
   ]
  },
  {
   "cell_type": "code",
   "execution_count": null,
   "id": "b809a28d",
   "metadata": {},
   "outputs": [],
   "source": [
    "with sc.server.bundler(send_on_exit=False) as bundler:\n",
    "    synthdef.add()  # Send the test SynthDef\n",
    "    bundler.add(0.0, \"/s_new\", [\"test\", 1003, 0, 0, \"freq\", 440])\n",
    "    bundler.add(0.2, \"/s_new\", [\"test\", 1000, 0, 0, \"freq\", 440])\n",
    "    bundler.add(0.4, \"/s_new\", [\"test\", 1001, 0, 0, \"freq\", 660])\n",
    "    bundler.add(0.6, \"/s_new\", [\"test\", 1002, 0, 0, \"freq\", 220])\n",
    "    bundler.add(1, \"/c_set\", [0, 0])  # The /c_set [0, 0] will close the audio file"
   ]
  },
  {
   "cell_type": "markdown",
   "id": "90cd5332",
   "metadata": {},
   "source": [
    "The corresponding messages can be seen with"
   ]
  },
  {
   "cell_type": "code",
   "execution_count": null,
   "id": "91e17fe6",
   "metadata": {},
   "outputs": [],
   "source": [
    "bundler.messages()"
   ]
  },
  {
   "cell_type": "markdown",
   "id": "41c1ce0f",
   "metadata": {},
   "source": [
    "Lets start the non-realtime synthesis"
   ]
  },
  {
   "cell_type": "code",
   "execution_count": null,
   "id": "027fc513",
   "metadata": {},
   "outputs": [],
   "source": [
    "Score.record_nrt(bundler.messages(), \"../media/score.osc\", \"../media/score.wav\", header_format=\"WAV\")"
   ]
  },
  {
   "cell_type": "markdown",
   "id": "2f73cc4c",
   "metadata": {},
   "source": [
    "Lets listen to the created audio file with the IPython Audio class that allows to read and play audio files "
   ]
  },
  {
   "cell_type": "code",
   "execution_count": null,
   "id": "0a9a54c5",
   "metadata": {},
   "outputs": [],
   "source": [
    "from IPython.display import Audio"
   ]
  },
  {
   "cell_type": "code",
   "execution_count": null,
   "id": "b53bc871",
   "metadata": {},
   "outputs": [],
   "source": [
    "Audio(\"../media/score.wav\")"
   ]
  },
  {
   "cell_type": "code",
   "execution_count": null,
   "id": "f5a6e0b7",
   "metadata": {},
   "outputs": [],
   "source": [
    "sc.exit()"
   ]
  },
  {
   "cell_type": "code",
   "execution_count": null,
   "id": "809080b1",
   "metadata": {},
   "outputs": [],
   "source": []
  }
 ],
 "metadata": {},
 "nbformat": 4,
 "nbformat_minor": 5
}
