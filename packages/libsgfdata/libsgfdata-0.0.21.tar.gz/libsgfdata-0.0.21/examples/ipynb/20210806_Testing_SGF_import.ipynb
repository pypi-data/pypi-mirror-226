{
 "cells": [
  {
   "cell_type": "markdown",
   "metadata": {},
   "source": [
    "2021-08-06\n",
    "\n",
    "Craig W. Christensen (Duke-of-Lizard)\n",
    "\n",
    "Testing import of various SGF-based files with geotechnical sounding data. "
   ]
  },
  {
   "cell_type": "markdown",
   "metadata": {},
   "source": [
    "# Import statements"
   ]
  },
  {
   "cell_type": "code",
   "execution_count": 37,
   "metadata": {},
   "outputs": [],
   "source": [
    "import libsgfdata as sgf\n",
    "import pandas as pd\n",
    "\n",
    "import os"
   ]
  },
  {
   "cell_type": "markdown",
   "metadata": {},
   "source": [
    "# User parameters "
   ]
  },
  {
   "cell_type": "code",
   "execution_count": 40,
   "metadata": {},
   "outputs": [],
   "source": [
    "dir_data = '../data'"
   ]
  },
  {
   "cell_type": "markdown",
   "metadata": {},
   "source": [
    "# Parse data"
   ]
  },
  {
   "cell_type": "code",
   "execution_count": 41,
   "metadata": {},
   "outputs": [
    {
     "name": "stdout",
     "output_type": "stream",
     "text": [
      "['Bp.1091 20140918 10270.TOT', '6 20120911 1430.DTR', '1-CPT.std', '31.STD', '1059.cpt', '5 20121008 1466.TOT']\n",
      "0\n",
      "0\n",
      "0\n",
      "0\n",
      "0\n",
      "0\n"
     ]
    }
   ],
   "source": [
    "outputs = []\n",
    "df_main = pd.DataFrame(columns=['file','section_no'])\n",
    "filenames = os.listdir(dir_data)\n",
    "print(filenames)\n",
    "for filename in filenames:\n",
    "    f = '%s/%s'%(dir_data, filename)\n",
    "    sections = sgf.parse(f)\n",
    "    outputs.append(sections)\n",
    "    \n",
    "    for val, s in enumerate(sections): \n",
    "        print(val)\n",
    "        df_main = pd.concat( (df_main, pd.DataFrame(s['main'])), ignore_index=True)\n",
    "        df_main.loc[df_main.index.max(),'file'] = filename\n",
    "        df_main.loc[df_main.index.max(),'section_no'] = val"
   ]
  },
  {
   "cell_type": "code",
   "execution_count": 30,
   "metadata": {},
   "outputs": [
    {
     "data": {
      "text/html": [
       "<div>\n",
       "<style scoped>\n",
       "    .dataframe tbody tr th:only-of-type {\n",
       "        vertical-align: middle;\n",
       "    }\n",
       "\n",
       "    .dataframe tbody tr th {\n",
       "        vertical-align: top;\n",
       "    }\n",
       "\n",
       "    .dataframe thead th {\n",
       "        text-align: right;\n",
       "    }\n",
       "</style>\n",
       "<table border=\"1\" class=\"dataframe\">\n",
       "  <thead>\n",
       "    <tr style=\"text-align: right;\">\n",
       "      <th></th>\n",
       "      <th>file</th>\n",
       "      <th>section_no</th>\n",
       "      <th>lopnummer_huvud</th>\n",
       "      <th>anvand_programvara</th>\n",
       "      <th>lopnummer_sondering</th>\n",
       "      <th>datum_for_undersokning</th>\n",
       "      <th>HI</th>\n",
       "      <th>pre_drilling_depth</th>\n",
       "      <th>method_code</th>\n",
       "      <th>IS</th>\n",
       "      <th>...</th>\n",
       "      <th>skalfaktor_portryck</th>\n",
       "      <th>spetsareafaktor_a</th>\n",
       "      <th>mantelareafaktor_b</th>\n",
       "      <th>spetsarea_sond</th>\n",
       "      <th>friktionsarea_sond</th>\n",
       "      <th>ME</th>\n",
       "      <th>jorddensitet</th>\n",
       "      <th>RN</th>\n",
       "      <th>skalfaktor_elektrisk_konduktivitet</th>\n",
       "      <th>inverteringsfaktor_konduktivitet</th>\n",
       "    </tr>\n",
       "  </thead>\n",
       "  <tbody>\n",
       "    <tr>\n",
       "      <th>0</th>\n",
       "      <td>Bp.1091 20140918 10270.TOT</td>\n",
       "      <td>0</td>\n",
       "      <td>1.0</td>\n",
       "      <td>826617.0</td>\n",
       "      <td>10271.0</td>\n",
       "      <td>20140918.0</td>\n",
       "      <td>74911.0</td>\n",
       "      <td></td>\n",
       "      <td>norwegian_total_sounding</td>\n",
       "      <td>XPL071213</td>\n",
       "      <td>...</td>\n",
       "      <td>NaN</td>\n",
       "      <td>NaN</td>\n",
       "      <td>NaN</td>\n",
       "      <td>NaN</td>\n",
       "      <td>NaN</td>\n",
       "      <td>NaN</td>\n",
       "      <td>NaN</td>\n",
       "      <td>NaN</td>\n",
       "      <td>NaN</td>\n",
       "      <td>NaN</td>\n",
       "    </tr>\n",
       "    <tr>\n",
       "      <th>1</th>\n",
       "      <td>6 20120911 1430.DTR</td>\n",
       "      <td>0</td>\n",
       "      <td>1.0</td>\n",
       "      <td>826617.0</td>\n",
       "      <td>1431.0</td>\n",
       "      <td>20120911.0</td>\n",
       "      <td>101839.0</td>\n",
       "      <td></td>\n",
       "      <td>rotary_pressure_sounding</td>\n",
       "      <td>XPL101114</td>\n",
       "      <td>...</td>\n",
       "      <td>NaN</td>\n",
       "      <td>NaN</td>\n",
       "      <td>NaN</td>\n",
       "      <td>NaN</td>\n",
       "      <td>NaN</td>\n",
       "      <td>NaN</td>\n",
       "      <td>NaN</td>\n",
       "      <td>NaN</td>\n",
       "      <td>NaN</td>\n",
       "      <td>NaN</td>\n",
       "    </tr>\n",
       "    <tr>\n",
       "      <th>2</th>\n",
       "      <td>1-CPT.std</td>\n",
       "      <td>0</td>\n",
       "      <td>1.0</td>\n",
       "      <td>GTB-PC</td>\n",
       "      <td>1.0</td>\n",
       "      <td>20120105.0</td>\n",
       "      <td>1130.0</td>\n",
       "      <td>15.0</td>\n",
       "      <td>7</td>\n",
       "      <td>NaN</td>\n",
       "      <td>...</td>\n",
       "      <td>NaN</td>\n",
       "      <td>NaN</td>\n",
       "      <td>NaN</td>\n",
       "      <td>NaN</td>\n",
       "      <td>NaN</td>\n",
       "      <td>NaN</td>\n",
       "      <td>NaN</td>\n",
       "      <td>NaN</td>\n",
       "      <td>NaN</td>\n",
       "      <td>NaN</td>\n",
       "    </tr>\n",
       "    <tr>\n",
       "      <th>3</th>\n",
       "      <td>31.STD</td>\n",
       "      <td>0</td>\n",
       "      <td>1.0</td>\n",
       "      <td>8212</td>\n",
       "      <td>2.0</td>\n",
       "      <td>20060421.0</td>\n",
       "      <td>NaN</td>\n",
       "      <td>0.0</td>\n",
       "      <td>rotary_pressure_sounding</td>\n",
       "      <td>060111PT</td>\n",
       "      <td>...</td>\n",
       "      <td>NaN</td>\n",
       "      <td>NaN</td>\n",
       "      <td>NaN</td>\n",
       "      <td>NaN</td>\n",
       "      <td>NaN</td>\n",
       "      <td>NaN</td>\n",
       "      <td>NaN</td>\n",
       "      <td>NaN</td>\n",
       "      <td>NaN</td>\n",
       "      <td>NaN</td>\n",
       "    </tr>\n",
       "    <tr>\n",
       "      <th>4</th>\n",
       "      <td>NaN</td>\n",
       "      <td>NaN</td>\n",
       "      <td>1.0</td>\n",
       "      <td>CPTLOG-2.00</td>\n",
       "      <td>1.0</td>\n",
       "      <td>27.06.2014</td>\n",
       "      <td>NaN</td>\n",
       "      <td>0.0</td>\n",
       "      <td>7.0</td>\n",
       "      <td>NaN</td>\n",
       "      <td>...</td>\n",
       "      <td>3886.0</td>\n",
       "      <td>0.861</td>\n",
       "      <td>0.0</td>\n",
       "      <td>10.0</td>\n",
       "      <td>150.0</td>\n",
       "      <td>nova4354</td>\n",
       "      <td>0.0</td>\n",
       "      <td>NaN</td>\n",
       "      <td>NaN</td>\n",
       "      <td>NaN</td>\n",
       "    </tr>\n",
       "    <tr>\n",
       "      <th>5</th>\n",
       "      <td>1059.cpt</td>\n",
       "      <td>0</td>\n",
       "      <td>NaN</td>\n",
       "      <td>NaN</td>\n",
       "      <td>NaN</td>\n",
       "      <td>NaN</td>\n",
       "      <td>NaN</td>\n",
       "      <td>NaN</td>\n",
       "      <td>NaN</td>\n",
       "      <td>NaN</td>\n",
       "      <td>...</td>\n",
       "      <td>NaN</td>\n",
       "      <td>NaN</td>\n",
       "      <td>NaN</td>\n",
       "      <td>NaN</td>\n",
       "      <td>NaN</td>\n",
       "      <td>NaN</td>\n",
       "      <td>NaN</td>\n",
       "      <td></td>\n",
       "      <td>402244.0</td>\n",
       "      <td>-1.0042</td>\n",
       "    </tr>\n",
       "    <tr>\n",
       "      <th>6</th>\n",
       "      <td>5 20121008 1466.TOT</td>\n",
       "      <td>0</td>\n",
       "      <td>1.0</td>\n",
       "      <td>826617</td>\n",
       "      <td>1467.0</td>\n",
       "      <td>20121008</td>\n",
       "      <td>104517.0</td>\n",
       "      <td></td>\n",
       "      <td>norwegian_total_sounding</td>\n",
       "      <td>XPL101114</td>\n",
       "      <td>...</td>\n",
       "      <td>NaN</td>\n",
       "      <td>NaN</td>\n",
       "      <td>NaN</td>\n",
       "      <td>NaN</td>\n",
       "      <td>NaN</td>\n",
       "      <td>NaN</td>\n",
       "      <td>NaN</td>\n",
       "      <td>NaN</td>\n",
       "      <td>NaN</td>\n",
       "      <td>NaN</td>\n",
       "    </tr>\n",
       "  </tbody>\n",
       "</table>\n",
       "<p>7 rows × 36 columns</p>\n",
       "</div>"
      ],
      "text/plain": [
       "                         file section_no  lopnummer_huvud anvand_programvara  \\\n",
       "0  Bp.1091 20140918 10270.TOT          0              1.0           826617.0   \n",
       "1         6 20120911 1430.DTR          0              1.0           826617.0   \n",
       "2                   1-CPT.std          0              1.0             GTB-PC   \n",
       "3                      31.STD          0              1.0               8212   \n",
       "4                         NaN        NaN              1.0        CPTLOG-2.00   \n",
       "5                    1059.cpt          0              NaN                NaN   \n",
       "6         5 20121008 1466.TOT          0              1.0             826617   \n",
       "\n",
       "   lopnummer_sondering datum_for_undersokning        HI pre_drilling_depth  \\\n",
       "0              10271.0             20140918.0   74911.0                      \n",
       "1               1431.0             20120911.0  101839.0                      \n",
       "2                  1.0             20120105.0    1130.0               15.0   \n",
       "3                  2.0             20060421.0       NaN                0.0   \n",
       "4                  1.0             27.06.2014       NaN                0.0   \n",
       "5                  NaN                    NaN       NaN                NaN   \n",
       "6               1467.0               20121008  104517.0                      \n",
       "\n",
       "                method_code         IS  ...  skalfaktor_portryck  \\\n",
       "0  norwegian_total_sounding  XPL071213  ...                  NaN   \n",
       "1  rotary_pressure_sounding  XPL101114  ...                  NaN   \n",
       "2                         7        NaN  ...                  NaN   \n",
       "3  rotary_pressure_sounding   060111PT  ...                  NaN   \n",
       "4                       7.0        NaN  ...               3886.0   \n",
       "5                       NaN        NaN  ...                  NaN   \n",
       "6  norwegian_total_sounding  XPL101114  ...                  NaN   \n",
       "\n",
       "  spetsareafaktor_a mantelareafaktor_b spetsarea_sond  friktionsarea_sond  \\\n",
       "0               NaN                NaN            NaN                 NaN   \n",
       "1               NaN                NaN            NaN                 NaN   \n",
       "2               NaN                NaN            NaN                 NaN   \n",
       "3               NaN                NaN            NaN                 NaN   \n",
       "4             0.861                0.0           10.0               150.0   \n",
       "5               NaN                NaN            NaN                 NaN   \n",
       "6               NaN                NaN            NaN                 NaN   \n",
       "\n",
       "         ME  jorddensitet   RN  skalfaktor_elektrisk_konduktivitet  \\\n",
       "0       NaN           NaN  NaN                                 NaN   \n",
       "1       NaN           NaN  NaN                                 NaN   \n",
       "2       NaN           NaN  NaN                                 NaN   \n",
       "3       NaN           NaN  NaN                                 NaN   \n",
       "4  nova4354           0.0  NaN                                 NaN   \n",
       "5       NaN           NaN                                 402244.0   \n",
       "6       NaN           NaN  NaN                                 NaN   \n",
       "\n",
       "   inverteringsfaktor_konduktivitet  \n",
       "0                               NaN  \n",
       "1                               NaN  \n",
       "2                               NaN  \n",
       "3                               NaN  \n",
       "4                               NaN  \n",
       "5                           -1.0042  \n",
       "6                               NaN  \n",
       "\n",
       "[7 rows x 36 columns]"
      ]
     },
     "execution_count": 30,
     "metadata": {},
     "output_type": "execute_result"
    }
   ],
   "source": [
    "df_main"
   ]
  },
  {
   "cell_type": "markdown",
   "metadata": {},
   "source": [
    "# Inspect data"
   ]
  },
  {
   "cell_type": "code",
   "execution_count": 27,
   "metadata": {},
   "outputs": [
    {
     "data": {
      "text/plain": [
       "['Bp.1091 20140918 10270.TOT',\n",
       " '6 20120911 1430.DTR',\n",
       " '1-CPT.std',\n",
       " '31.STD',\n",
       " '1059.cpt',\n",
       " '5 20121008 1466.TOT']"
      ]
     },
     "execution_count": 27,
     "metadata": {},
     "output_type": "execute_result"
    }
   ],
   "source": [
    "filenames"
   ]
  },
  {
   "cell_type": "code",
   "execution_count": 35,
   "metadata": {},
   "outputs": [
    {
     "name": "stdout",
     "output_type": "stream",
     "text": [
      "1\n",
      "1\n",
      "1\n",
      "1\n",
      "1\n",
      "1\n"
     ]
    }
   ],
   "source": [
    "for el in outputs:\n",
    "    print(len(el))"
   ]
  },
  {
   "cell_type": "code",
   "execution_count": 47,
   "metadata": {},
   "outputs": [
    {
     "data": {
      "text/plain": [
       "[{'lopnummer_huvud': 1,\n",
       "  'lopnummer_sondering': 1,\n",
       "  'anvand_programvara': 'CPTLOG-2.00',\n",
       "  'datum_for_undersokning': '27.06.2014',\n",
       "  'grundvattenniva': '',\n",
       "  'work_or_project_number': 416746,\n",
       "  'investigation_point': 1059,\n",
       "  'method_code': 7,\n",
       "  'serial_number_measurement_probe': 4354,\n",
       "  'pre_drilling_depth': 0.0,\n",
       "  'signature': 'BEK',\n",
       "  'x_coordinate': 0.0,\n",
       "  'y_coordinate': 0.0,\n",
       "  'z_coordinate': 0.0,\n",
       "  'skalfaktor_spetstryck': 1291.0,\n",
       "  'skalfaktor_lokal_friktion': 3730.0,\n",
       "  'skalfaktor_portryck': 3886.0,\n",
       "  'spetsareafaktor_a': 0.861,\n",
       "  'mantelareafaktor_b': 0.0,\n",
       "  'spetsarea_sond': 10.0,\n",
       "  'friktionsarea_sond': 150.0,\n",
       "  'ME': 'nova4354',\n",
       "  'jorddensitet': 0.0},\n",
       " {'RN': '',\n",
       "  'skalfaktor_elektrisk_konduktivitet': 402244,\n",
       "  'inverteringsfaktor_konduktivitet': -1.0042}]"
      ]
     },
     "execution_count": 47,
     "metadata": {},
     "output_type": "execute_result"
    }
   ],
   "source": [
    "outputs[4][0]['main']"
   ]
  },
  {
   "cell_type": "code",
   "execution_count": null,
   "metadata": {},
   "outputs": [],
   "source": [
    "outputs[4][0]['main']"
   ]
  }
 ],
 "metadata": {
  "kernelspec": {
   "display_name": "EIvenv",
   "language": "python",
   "name": "eivenv"
  },
  "language_info": {
   "codemirror_mode": {
    "name": "ipython",
    "version": 3
   },
   "file_extension": ".py",
   "mimetype": "text/x-python",
   "name": "python",
   "nbconvert_exporter": "python",
   "pygments_lexer": "ipython3",
   "version": "3.8.3"
  }
 },
 "nbformat": 4,
 "nbformat_minor": 4
}
