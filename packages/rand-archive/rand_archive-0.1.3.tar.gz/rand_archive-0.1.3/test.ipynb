{
 "cells": [
  {
   "cell_type": "code",
   "execution_count": 1,
   "id": "initial_id",
   "metadata": {
    "collapsed": true,
    "ExecuteTime": {
     "end_time": "2023-08-15T20:15:37.584305Z",
     "start_time": "2023-08-15T20:15:37.578925Z"
    }
   },
   "outputs": [],
   "source": [
    "from rand_archive import ArchiveWriter"
   ]
  },
  {
   "cell_type": "code",
   "execution_count": 2,
   "outputs": [],
   "source": [
    "writer = ArchiveWriter('tests/cache/temp.ra')\n",
    "writer.write('test', bytes('hi', 'utf-8'))"
   ],
   "metadata": {
    "collapsed": false,
    "ExecuteTime": {
     "end_time": "2023-08-15T20:15:40.007776Z",
     "start_time": "2023-08-15T20:15:40.002267Z"
    }
   },
   "id": "2e962949ffd0907a"
  },
  {
   "cell_type": "code",
   "execution_count": 3,
   "outputs": [],
   "source": [
    "writer.close()"
   ],
   "metadata": {
    "collapsed": false,
    "ExecuteTime": {
     "end_time": "2023-08-15T20:15:42.920049Z",
     "start_time": "2023-08-15T20:15:42.914658Z"
    }
   },
   "id": "3b915cb111b3fe90"
  },
  {
   "cell_type": "code",
   "execution_count": 1,
   "outputs": [],
   "source": [
    "from rand_archive import Header"
   ],
   "metadata": {
    "collapsed": false,
    "ExecuteTime": {
     "end_time": "2023-08-15T20:14:26.121520Z",
     "start_time": "2023-08-15T20:14:25.957656Z"
    }
   },
   "id": "77e87085f76a7296"
  },
  {
   "cell_type": "code",
   "execution_count": 2,
   "outputs": [],
   "source": [
    "h = Header.read('tests/cache/temp.ra')"
   ],
   "metadata": {
    "collapsed": false,
    "ExecuteTime": {
     "end_time": "2023-08-15T20:14:27.230002Z",
     "start_time": "2023-08-15T20:14:27.211653Z"
    }
   },
   "id": "e38693ac61e25150"
  },
  {
   "cell_type": "code",
   "execution_count": 3,
   "outputs": [
    {
     "data": {
      "text/plain": "{'test': {'start': 0, 'end': 316731}}"
     },
     "execution_count": 3,
     "metadata": {},
     "output_type": "execute_result"
    }
   ],
   "source": [
    "h.inner()"
   ],
   "metadata": {
    "collapsed": false,
    "ExecuteTime": {
     "end_time": "2023-08-15T20:14:28.460301Z",
     "start_time": "2023-08-15T20:14:28.452771Z"
    }
   },
   "id": "84f33aff6395f1d2"
  },
  {
   "cell_type": "code",
   "execution_count": null,
   "outputs": [],
   "source": [],
   "metadata": {
    "collapsed": false
   },
   "id": "f779408b2992f1d1"
  }
 ],
 "metadata": {
  "kernelspec": {
   "display_name": "Python 3",
   "language": "python",
   "name": "python3"
  },
  "language_info": {
   "codemirror_mode": {
    "name": "ipython",
    "version": 2
   },
   "file_extension": ".py",
   "mimetype": "text/x-python",
   "name": "python",
   "nbconvert_exporter": "python",
   "pygments_lexer": "ipython2",
   "version": "2.7.6"
  }
 },
 "nbformat": 4,
 "nbformat_minor": 5
}
