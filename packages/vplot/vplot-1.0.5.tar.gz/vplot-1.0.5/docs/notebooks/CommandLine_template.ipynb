{
 "cells": [
  {
   "cell_type": "markdown",
   "metadata": {},
   "source": [
    "# The command line interface"
   ]
  },
  {
   "cell_type": "code",
   "execution_count": null,
   "metadata": {
    "tags": [
     "hide_input"
    ]
   },
   "outputs": [],
   "source": [
    "%matplotlib inline\n",
    "\n",
    "from IPython.display import set_matplotlib_formats\n",
    "\n",
    "set_matplotlib_formats('retina')"
   ]
  },
  {
   "cell_type": "markdown",
   "metadata": {},
   "source": [
    "## Overview"
   ]
  },
  {
   "cell_type": "raw",
   "metadata": {
    "raw_mimetype": "text/restructuredtext"
   },
   "source": [
    "If you are in the directory of a completed :py:obj:`vplanet` simulation, you can use the command-line function :py:obj:`vplot` to generate plots of any/all of the simulated quantities as a function of time."
   ]
  },
  {
   "cell_type": "code",
   "execution_count": null,
   "metadata": {
    "tags": [
     "hide_input"
    ]
   },
   "outputs": [],
   "source": [
    "# Tar up the example folder\n",
    "import glob\n",
    "import tarfile\n",
    "import os\n",
    "\n",
    "with tarfile.open(\"examples/CircumbinaryOrbit.tar.gz\", \"w:gz\") as tar:\n",
    "    for file in glob.glob(\"examples/CircumbinaryOrbit/*.in\"):\n",
    "        tar.add(file, arcname=os.path.basename(file))"
   ]
  },
  {
   "cell_type": "raw",
   "metadata": {
    "raw_mimetype": "text/restructuredtext"
   },
   "source": [
    "Let's run :py:obj:`vplot` on the :download:`CircumbinaryOrbit <examples/CircumbinaryOrbit.tar.gz>` example. If we are in that directory, we can simply run\n",
    "\n",
    ".. code-block:: bash\n",
    "\n",
    "    vplot\n",
    "    \n",
    "This should cause the following figures to pop up:"
   ]
  },
  {
   "cell_type": "code",
   "execution_count": null,
   "metadata": {
    "tags": [
     "hide_input"
    ]
   },
   "outputs": [],
   "source": [
    "from figure_grid import FigureGrid\n",
    "import vplot\n",
    "\n",
    "FigureGrid(\n",
    "    vplot.auto_plot(\"examples/CircumbinaryOrbit\", show=False, figsize=(5, 3), dpi=300)\n",
    ").display()"
   ]
  },
  {
   "cell_type": "raw",
   "metadata": {
    "raw_mimetype": "text/restructuredtext"
   },
   "source": [
    ".. note::\n",
    "    You must actually run :py:obj:`vplanet` before calling :py:obj:`vplot`!"
   ]
  },
  {
   "cell_type": "raw",
   "metadata": {
    "raw_mimetype": "text/restructuredtext"
   },
   "source": [
    "By default, parameters are grouped by *parameter name*. This means that if there are multiple bodies with the same parameter, they will all show up in the same plot, with labels indicating the body they correspond to. We can disable grouping by running\n",
    "\n",
    ".. code-block:: bash\n",
    "\n",
    "    vplot -g none"
   ]
  },
  {
   "cell_type": "code",
   "execution_count": null,
   "metadata": {
    "tags": [
     "hide_input"
    ]
   },
   "outputs": [],
   "source": [
    "FigureGrid(\n",
    "    vplot.auto_plot(\"examples/CircumbinaryOrbit\", show=False, figsize=(5, 3), dpi=300, group=\"none\")\n",
    ").display()"
   ]
  },
  {
   "cell_type": "raw",
   "metadata": {
    "raw_mimetype": "text/restructuredtext"
   },
   "source": [
    "Alternatively, we can group by *physical type*. This means that everything that is an angle will be grouped into one plot, everything that has units of distance will be grouped into a different plot, and so forth. It isn't always useful, particularly if you have *lots* of parameters of the same physical type (as is the case here).\n",
    "\n",
    ".. code-block:: bash\n",
    "\n",
    "    vplot -g type"
   ]
  },
  {
   "cell_type": "code",
   "execution_count": null,
   "metadata": {
    "tags": [
     "hide_input"
    ]
   },
   "outputs": [],
   "source": [
    "FigureGrid(\n",
    "    vplot.auto_plot(\"examples/CircumbinaryOrbit\", show=False, figsize=(5, 3), dpi=300, group=\"type\")\n",
    ").display()"
   ]
  },
  {
   "cell_type": "markdown",
   "metadata": {},
   "source": [
    "## Useful options"
   ]
  },
  {
   "cell_type": "raw",
   "metadata": {
    "raw_mimetype": "text/restructuredtext"
   },
   "source": [
    "We can plot only specific parameters:\n",
    "\n",
    ".. code-block:: bash\n",
    "\n",
    "    vplot -p eccentricity cbpr"
   ]
  },
  {
   "cell_type": "code",
   "execution_count": null,
   "metadata": {
    "tags": [
     "hide_input"
    ]
   },
   "outputs": [],
   "source": [
    "FigureGrid(\n",
    "    vplot.auto_plot(\n",
    "        \"examples/CircumbinaryOrbit\",\n",
    "        show=False,\n",
    "        figsize=(5, 3),\n",
    "        dpi=300,\n",
    "        params=[\"eccentricity\", \"CBPR\"],\n",
    "    )\n",
    ").display()"
   ]
  },
  {
   "cell_type": "raw",
   "metadata": {
    "raw_mimetype": "text/restructuredtext"
   },
   "source": [
    "And we can plot only specific bodies:\n",
    "\n",
    ".. code-block:: bash\n",
    "\n",
    "    vplot -p eccentricity cbpr -b earth"
   ]
  },
  {
   "cell_type": "code",
   "execution_count": null,
   "metadata": {
    "tags": [
     "hide_input"
    ]
   },
   "outputs": [],
   "source": [
    "FigureGrid(\n",
    "    vplot.auto_plot(\n",
    "        \"examples/CircumbinaryOrbit\",\n",
    "        show=False,\n",
    "        figsize=(5, 3),\n",
    "        dpi=300,\n",
    "        params=[\"eccentricity\", \"CBPR\"],\n",
    "        bodies=\"earth\",\n",
    "    ),\n",
    ").display()"
   ]
  },
  {
   "cell_type": "raw",
   "metadata": {
    "raw_mimetype": "text/restructuredtext"
   },
   "source": [
    ".. note::\n",
    "   Body and parameter names are case-insensitive, but otherwise \n",
    "   they must match the values in the ``.in`` files exactly.\n",
    "   Note that the parameter names are those specified in the\n",
    "   ``saOutputOrder`` line of the ``.in`` files."
   ]
  },
  {
   "cell_type": "raw",
   "metadata": {
    "raw_mimetype": "text/restructuredtext"
   },
   "source": [
    "We can also plot things logarithmically:\n",
    "\n",
    ".. code-block:: bash\n",
    "\n",
    "    vplot -p eccentricity cbpr -b earth --xlog"
   ]
  },
  {
   "cell_type": "code",
   "execution_count": null,
   "metadata": {
    "tags": [
     "hide_input"
    ]
   },
   "outputs": [],
   "source": [
    "FigureGrid(\n",
    "    vplot.auto_plot(\n",
    "        \"examples/CircumbinaryOrbit\",\n",
    "        show=False,\n",
    "        figsize=(5, 3),\n",
    "        dpi=300,\n",
    "        params=[\"eccentricity\", \"CBPR\"],\n",
    "        bodies=\"earth\",\n",
    "        xlog=True,\n",
    "        ylog=False\n",
    "    ),\n",
    ").display()"
   ]
  },
  {
   "cell_type": "raw",
   "metadata": {
    "raw_mimetype": "text/restructuredtext"
   },
   "source": [
    "Finally, you can run\n",
    "\n",
    ".. code-block:: bash\n",
    "\n",
    "    vplot --help\n",
    "    \n",
    "to view all available options:"
   ]
  },
  {
   "cell_type": "code",
   "execution_count": null,
   "metadata": {
    "tags": [
     "hide_input"
    ]
   },
   "outputs": [],
   "source": [
    "import subprocess\n",
    "print(subprocess.getoutput(\"vplot --help\"))"
   ]
  }
 ],
 "metadata": {
  "celltoolbar": "Tags",
  "kernelspec": {
   "display_name": "Python 3",
   "language": "python",
   "name": "python3"
  },
  "language_info": {
   "codemirror_mode": {
    "name": "ipython",
    "version": 3
   },
   "file_extension": ".py",
   "mimetype": "text/x-python",
   "name": "python",
   "nbconvert_exporter": "python",
   "pygments_lexer": "ipython3",
   "version": "3.8.3"
  }
 },
 "nbformat": 4,
 "nbformat_minor": 2
}
