{
 "cells": [
  {
   "cell_type": "markdown",
   "id": "1b81a705-0b59-4fd3-9429-ab8b18d38219",
   "metadata": {},
   "source": [
    "# Comparison of mesonic and sc3nb code snippets\n",
    "\n",
    "This notebook compares sc3nb and mesonic performance wise."
   ]
  },
  {
   "cell_type": "code",
   "execution_count": 1,
   "id": "a1f98df2-dbf4-441f-a204-f9906947b91a",
   "metadata": {},
   "outputs": [],
   "source": [
    "import time"
   ]
  },
  {
   "cell_type": "markdown",
   "id": "841c5253-6a16-440d-bc39-3b6c90456e2e",
   "metadata": {},
   "source": [
    "## sc3nb preparation"
   ]
  },
  {
   "cell_type": "code",
   "execution_count": 2,
   "id": "3378e490-b2d6-4bd2-9e04-a47ac1c031da",
   "metadata": {},
   "outputs": [],
   "source": [
    "import sc3nb as scn"
   ]
  },
  {
   "cell_type": "code",
   "execution_count": 3,
   "id": "181ee092-9477-43e4-b4e0-71df43760a28",
   "metadata": {},
   "outputs": [
    {
     "data": {
      "application/javascript": [
       "if (typeof Jupyter !== 'undefined') {\n",
       "                        Jupyter.keyboard_manager.command_shortcuts.add_shortcut(\n",
       "                        'Ctrl-.', {\n",
       "                        help : 'Free all nodes on SC server',\n",
       "                        help_index : 'zz',\n",
       "                        handler : function (event) {\n",
       "                            IPython.notebook.kernel.execute(\n",
       "                                \"import sc3nb; sc3nb.SC.get_default().server.free_all(root=True)\"\n",
       "                            )\n",
       "                            return true;}\n",
       "                        });\n",
       "                    }"
      ],
      "text/plain": [
       "<IPython.core.display.Javascript object>"
      ]
     },
     "metadata": {},
     "output_type": "display_data"
    },
    {
     "name": "stdout",
     "output_type": "stream",
     "text": [
      "Starting sclang process... Done.\n",
      "Registering OSC /return callback in sclang... Done.\n",
      "Loading default sc3nb SynthDefs... Done.\n",
      "Booting SuperCollider Server... Done.\n"
     ]
    }
   ],
   "source": [
    "sc = scn.startup()"
   ]
  },
  {
   "cell_type": "markdown",
   "id": "034c5ea5-ccc5-4d2d-84f0-f867ddae119b",
   "metadata": {},
   "source": [
    "## mesonic preparation"
   ]
  },
  {
   "cell_type": "code",
   "execution_count": 4,
   "id": "6ce57e8b-aa95-479d-a69b-0c57a2aee6d3",
   "metadata": {},
   "outputs": [],
   "source": [
    "import mesonic"
   ]
  },
  {
   "cell_type": "code",
   "execution_count": 5,
   "id": "b77c0af1-716d-49fc-917e-8faa6c3c1b36",
   "metadata": {},
   "outputs": [
    {
     "data": {
      "application/javascript": [
       "if (typeof Jupyter !== 'undefined') {\n",
       "                        Jupyter.keyboard_manager.command_shortcuts.add_shortcut(\n",
       "                        'Ctrl-.', {\n",
       "                        help : 'Free all nodes on SC server',\n",
       "                        help_index : 'zz',\n",
       "                        handler : function (event) {\n",
       "                            IPython.notebook.kernel.execute(\n",
       "                                \"import sc3nb; sc3nb.SC.get_default().server.free_all(root=True)\"\n",
       "                            )\n",
       "                            return true;}\n",
       "                        });\n",
       "                    }"
      ],
      "text/plain": [
       "<IPython.core.display.Javascript object>"
      ]
     },
     "metadata": {},
     "output_type": "display_data"
    },
    {
     "name": "stderr",
     "output_type": "stream",
     "text": [
      "SC already started\n",
      "sclang already started\n",
      "scsynth already started\n"
     ]
    }
   ],
   "source": [
    "context = mesonic.create_context()"
   ]
  },
  {
   "cell_type": "code",
   "execution_count": 6,
   "id": "659e8550-cf89-44d1-8eb1-13c2135909eb",
   "metadata": {},
   "outputs": [],
   "source": [
    "s1i = context.synths.create(\"s1\", mutable=False)\n",
    "pb = context.create_playback()"
   ]
  },
  {
   "cell_type": "markdown",
   "id": "1a7d33f2-788a-458f-8c5d-fb50150d603f",
   "metadata": {},
   "source": [
    "mesonic does use the same sc3nb SC instance as sc3nb therefore the warnings are created.\n",
    "\n",
    "This means that both implementation will use the same SuperCollider (SC) server."
   ]
  },
  {
   "cell_type": "code",
   "execution_count": 7,
   "id": "aeb88cae-e5eb-4e92-b3fa-0a679e84c092",
   "metadata": {},
   "outputs": [
    {
     "data": {
      "text/plain": [
       "True"
      ]
     },
     "execution_count": 7,
     "metadata": {},
     "output_type": "execute_result"
    }
   ],
   "source": [
    "context.backend.sc is sc"
   ]
  },
  {
   "cell_type": "markdown",
   "id": "50620103-1f75-400f-ab52-a2aa184580f9",
   "metadata": {},
   "source": [
    "## data preparation"
   ]
  },
  {
   "cell_type": "markdown",
   "id": "2db44aa8-610a-42da-87e3-17fe5b535d65",
   "metadata": {},
   "source": [
    "We use the random data generated by numpy and use the linlin function to generate valid parameters."
   ]
  },
  {
   "cell_type": "code",
   "execution_count": 8,
   "id": "1b251d9a-b509-4dc1-86c1-ca15b33e0125",
   "metadata": {},
   "outputs": [],
   "source": [
    "import numpy as np\n",
    "from sc3nb import linlin"
   ]
  },
  {
   "cell_type": "markdown",
   "id": "fddd25ce-3b02-434a-9068-6f35c2841c98",
   "metadata": {},
   "source": [
    "We spawn 10.000 Synths over 5 secounds time.\n",
    "\n",
    "A further reduction of the duration will lead to errors from SuperCollider: too many nodes.\n",
    "\n",
    "This means we operate at the maximum of SC\n"
   ]
  },
  {
   "cell_type": "code",
   "execution_count": 9,
   "id": "91b5e440-2163-4cd4-b66c-04d69c1c355e",
   "metadata": {},
   "outputs": [],
   "source": [
    "N = 10000\n",
    "duration = 5"
   ]
  },
  {
   "cell_type": "code",
   "execution_count": 10,
   "id": "85328e6d-1f94-44d2-ab41-df9694eb905a",
   "metadata": {},
   "outputs": [],
   "source": [
    "onsets = [linlin(val, 0, 1, 0, duration) for val in np.random.rand(N)]"
   ]
  },
  {
   "cell_type": "code",
   "execution_count": 11,
   "id": "d68ae043-2e0a-456f-b732-e8a7775ec332",
   "metadata": {},
   "outputs": [],
   "source": [
    "freqs = [linlin(val, 0, 1, 300, 1000) for val in np.random.rand(N)]"
   ]
  },
  {
   "cell_type": "markdown",
   "id": "28685c34-f8df-4bdc-a9ca-3c12a14fb27a",
   "metadata": {},
   "source": [
    "## mesonic vs sc3nb direct sending"
   ]
  },
  {
   "cell_type": "markdown",
   "id": "b8d87e7e-7c20-4868-bdac-327fe4e19fd1",
   "metadata": {},
   "source": [
    "### mesonic naive version"
   ]
  },
  {
   "cell_type": "markdown",
   "id": "c9026c55-36d9-4c1d-b37f-ac5aa1649203",
   "metadata": {},
   "source": [
    "Typical code (naive) snippet"
   ]
  },
  {
   "cell_type": "code",
   "execution_count": 12,
   "id": "8e65dc73-6f5d-4b10-b5f0-6b41f617e3f4",
   "metadata": {},
   "outputs": [],
   "source": [
    "context.reset()\n",
    "for idx, onset in enumerate(onsets):\n",
    "    with context.at(onset):\n",
    "        s1i.start(freq = freqs[idx], amp=0.005)"
   ]
  },
  {
   "cell_type": "code",
   "execution_count": 14,
   "id": "1d1e9d5e-e495-4135-846f-7c2d5ea05051",
   "metadata": {},
   "outputs": [],
   "source": [
    "pb.start()"
   ]
  },
  {
   "cell_type": "code",
   "execution_count": 16,
   "id": "c8f16c6b-35dc-40ad-a5b4-5880c32714d5",
   "metadata": {},
   "outputs": [],
   "source": [
    "pb.stop()"
   ]
  },
  {
   "cell_type": "markdown",
   "id": "766f8902-aac3-406f-9aa4-ec7845a90d1d",
   "metadata": {},
   "source": [
    "Stop the time of the code snippet"
   ]
  },
  {
   "cell_type": "code",
   "execution_count": 17,
   "id": "f202b22a-6f1a-4895-83b7-4da223e0c0b8",
   "metadata": {},
   "outputs": [
    {
     "name": "stdout",
     "output_type": "stream",
     "text": [
      "2.49 s ± 23.2 ms per loop (mean ± std. dev. of 7 runs, 1 loop each)\n"
     ]
    }
   ],
   "source": [
    "%%timeit\n",
    "context.reset()\n",
    "for idx, onset in enumerate(onsets):\n",
    "    with context.at(onset):\n",
    "        s1i.start(freq = freqs[idx], amp=0.005)"
   ]
  },
  {
   "cell_type": "markdown",
   "id": "1fbd6d68-8b6f-4410-b288-c06a6dae5a34",
   "metadata": {},
   "source": [
    "Profile the code snippet to see what is taking so long."
   ]
  },
  {
   "cell_type": "code",
   "execution_count": 18,
   "id": "15a0adba-4d51-4e52-a3f0-abc2f54c271c",
   "metadata": {},
   "outputs": [
    {
     "name": "stdout",
     "output_type": "stream",
     "text": [
      " "
     ]
    },
    {
     "data": {
      "text/plain": [
       "         470009 function calls in 2.631 seconds\n",
       "\n",
       "   Ordered by: internal time\n",
       "\n",
       "   ncalls  tottime  percall  cumtime  percall filename:lineno(function)\n",
       "    10000    2.383    0.000    2.394    0.000 timeline.py:49(insert)\n",
       "    10000    0.026    0.000    0.048    0.000 <attrs generated init mesonic.events.SynthEvent>:1(__init__)\n",
       "    10000    0.026    0.000    2.434    0.000 contextlib.py:116(__exit__)\n",
       "    10000    0.025    0.000    0.148    0.000 synth.py:252(start)\n",
       "        1    0.020    0.020    2.631    2.631 <string>:1(<module>)\n",
       "    10000    0.015    0.000    0.067    0.000 synth.py:337(_send_event)\n",
       "    20000    0.014    0.000    0.022    0.000 synth.py:127(_verify_and_adjust)\n",
       "    10000    0.014    0.000    0.022    0.000 synth.py:335(<dictcomp>)\n",
       "    20000    0.012    0.000    2.407    0.000 context.py:154(at)\n",
       "    10000    0.011    0.000    0.013    0.000 contextlib.py:81(__init__)\n",
       "    70000    0.009    0.000    0.009    0.000 synth.py:95(value)\n",
       "    10000    0.007    0.000    0.012    0.000 contextlib.py:107(__enter__)\n",
       "    10000    0.007    0.000    0.010    0.000 enum.py:319(__contains__)\n",
       "    10000    0.007    0.000    0.030    0.000 synth.py:326(_param_values)\n",
       "    20000    0.005    0.000    2.413    0.000 {built-in method builtins.next}\n",
       "    10000    0.005    0.000    0.014    0.000 validators.py:222(__call__)\n",
       "    10000    0.004    0.000    0.017    0.000 contextlib.py:237(helper)\n",
       "    10000    0.004    0.000    0.004    0.000 timeline.py:37(is_empty)\n",
       "    30000    0.004    0.000    0.004    0.000 {built-in method builtins.isinstance}\n",
       "    10000    0.004    0.000    0.004    0.000 <attrs generated init mesonic.timeline.TimeBundle>:1(__init__)\n",
       "    10000    0.003    0.000    0.004    0.000 validators.py:30(__call__)\n",
       "    10000    0.003    0.000    0.004    0.000 context.py:199(receive_event)\n",
       "    10000    0.003    0.000    0.003    0.000 events.py:69(__attrs_post_init__)\n",
       "    20000    0.003    0.000    0.003    0.000 synth.py:59(max)\n",
       "    20000    0.002    0.000    0.002    0.000 synth.py:69(min)\n",
       "    20000    0.002    0.000    0.002    0.000 synth.py:240(mutable)\n",
       "    10000    0.002    0.000    0.002    0.000 {method 'update' of 'dict' objects}\n",
       "    10000    0.002    0.000    0.002    0.000 {built-in method math.isfinite}\n",
       "    20000    0.002    0.000    0.002    0.000 {method 'items' of 'dict' objects}\n",
       "    10000    0.002    0.000    0.002    0.000 {built-in method builtins.getattr}\n",
       "    10000    0.002    0.000    0.002    0.000 {built-in method time.time}\n",
       "    10000    0.001    0.000    0.001    0.000 {method 'append' of 'list' objects}\n",
       "    10000    0.001    0.000    0.001    0.000 {built-in method builtins.len}\n",
       "        1    0.000    0.000    2.631    2.631 {built-in method builtins.exec}\n",
       "        1    0.000    0.000    0.000    0.000 timeline.py:95(reset)\n",
       "        1    0.000    0.000    0.000    0.000 context.py:281(reset)\n",
       "        1    0.000    0.000    0.000    0.000 playback.py:320(running)\n",
       "        1    0.000    0.000    0.000    0.000 context.py:226(is_realtime)\n",
       "        1    0.000    0.000    0.000    0.000 threading.py:1092(is_alive)\n",
       "        1    0.000    0.000    0.000    0.000 threading.py:507(is_set)\n",
       "        1    0.000    0.000    0.000    0.000 {method 'disable' of '_lsprof.Profiler' objects}"
      ]
     },
     "metadata": {},
     "output_type": "display_data"
    }
   ],
   "source": [
    "%%prun\n",
    "context.reset()\n",
    "for idx, onset in enumerate(onsets):\n",
    "    with context.at(onset):\n",
    "        s1i.start(freq = freqs[idx], amp=0.005)"
   ]
  },
  {
   "cell_type": "markdown",
   "id": "291d48ec-4ba3-4f91-953c-cedc17de08bb",
   "metadata": {},
   "source": [
    "Timeline insert is slow but we can optimize the code"
   ]
  },
  {
   "cell_type": "markdown",
   "id": "b72e8c4c-72fc-4b46-a4a3-fc459489edb1",
   "metadata": {},
   "source": [
    "### mesonic optimized version"
   ]
  },
  {
   "cell_type": "markdown",
   "id": "af57420d-854b-4d28-abe1-c3d73e47ca5e",
   "metadata": {},
   "source": [
    "The Timeline is a double linked list.\n",
    "This means by sorting the onsets we can use the insert best case of appending the data."
   ]
  },
  {
   "cell_type": "code",
   "execution_count": 19,
   "id": "c7ff0fcd-1a2e-4502-8fc1-846e302ecbef",
   "metadata": {},
   "outputs": [
    {
     "name": "stdout",
     "output_type": "stream",
     "text": [
      "150 ms ± 1.4 ms per loop (mean ± std. dev. of 7 runs, 10 loops each)\n"
     ]
    }
   ],
   "source": [
    "%%timeit\n",
    "context.reset()\n",
    "for idx, onset in enumerate(sorted(onsets)):\n",
    "    with context.at(onset):\n",
    "        s1i.start(freq = freqs[idx], amp=0.005)"
   ]
  },
  {
   "cell_type": "markdown",
   "id": "3c1308b0-51bd-41a6-92a3-862c9dbbd397",
   "metadata": {},
   "source": [
    "The time `Timeline.insert` needs is now drastically reduced as expected.\n",
    "\n",
    "What is now taking the most time?"
   ]
  },
  {
   "cell_type": "code",
   "execution_count": 20,
   "id": "29810bc8-7912-455c-b92f-7e726aa45e54",
   "metadata": {},
   "outputs": [
    {
     "name": "stdout",
     "output_type": "stream",
     "text": [
      " "
     ]
    },
    {
     "data": {
      "text/plain": [
       "         470010 function calls in 0.308 seconds\n",
       "\n",
       "   Ordered by: internal time\n",
       "\n",
       "   ncalls  tottime  percall  cumtime  percall filename:lineno(function)\n",
       "    10000    0.099    0.000    0.119    0.000 <attrs generated init mesonic.events.SynthEvent>:1(__init__)\n",
       "    10000    0.023    0.000    0.213    0.000 synth.py:252(start)\n",
       "    10000    0.020    0.000    0.030    0.000 timeline.py:49(insert)\n",
       "        1    0.018    0.018    0.308    0.308 <string>:1(<module>)\n",
       "    20000    0.014    0.000    0.021    0.000 synth.py:127(_verify_and_adjust)\n",
       "    10000    0.014    0.000    0.022    0.000 synth.py:335(<dictcomp>)\n",
       "    10000    0.014    0.000    0.137    0.000 synth.py:337(_send_event)\n",
       "    20000    0.011    0.000    0.042    0.000 context.py:154(at)\n",
       "    10000    0.010    0.000    0.011    0.000 contextlib.py:81(__init__)\n",
       "    70000    0.008    0.000    0.008    0.000 synth.py:95(value)\n",
       "    10000    0.007    0.000    0.011    0.000 contextlib.py:107(__enter__)\n",
       "    10000    0.006    0.000    0.048    0.000 contextlib.py:116(__exit__)\n",
       "    10000    0.006    0.000    0.029    0.000 synth.py:326(_param_values)\n",
       "    10000    0.006    0.000    0.009    0.000 enum.py:319(__contains__)\n",
       "    20000    0.005    0.000    0.047    0.000 {built-in method builtins.next}\n",
       "    10000    0.004    0.000    0.013    0.000 validators.py:222(__call__)\n",
       "    10000    0.004    0.000    0.015    0.000 contextlib.py:237(helper)\n",
       "    10000    0.004    0.000    0.004    0.000 timeline.py:37(is_empty)\n",
       "    30000    0.004    0.000    0.004    0.000 {built-in method builtins.isinstance}\n",
       "    10000    0.003    0.000    0.004    0.000 context.py:199(receive_event)\n",
       "    10000    0.003    0.000    0.003    0.000 <attrs generated init mesonic.timeline.TimeBundle>:1(__init__)\n",
       "    10000    0.003    0.000    0.004    0.000 validators.py:30(__call__)\n",
       "        1    0.003    0.003    0.003    0.003 {built-in method builtins.sorted}\n",
       "    10000    0.003    0.000    0.003    0.000 events.py:69(__attrs_post_init__)\n",
       "    20000    0.003    0.000    0.003    0.000 synth.py:59(max)\n",
       "    20000    0.002    0.000    0.002    0.000 synth.py:69(min)\n",
       "    20000    0.002    0.000    0.002    0.000 synth.py:240(mutable)\n",
       "    20000    0.002    0.000    0.002    0.000 {method 'items' of 'dict' objects}\n",
       "    10000    0.002    0.000    0.002    0.000 {method 'update' of 'dict' objects}\n",
       "    10000    0.002    0.000    0.002    0.000 {built-in method math.isfinite}\n",
       "    10000    0.001    0.000    0.001    0.000 {built-in method builtins.getattr}\n",
       "    10000    0.001    0.000    0.001    0.000 {built-in method time.time}\n",
       "    10000    0.001    0.000    0.001    0.000 {method 'append' of 'list' objects}\n",
       "    10000    0.001    0.000    0.001    0.000 {built-in method builtins.len}\n",
       "        1    0.000    0.000    0.308    0.308 {built-in method builtins.exec}\n",
       "        1    0.000    0.000    0.000    0.000 context.py:281(reset)\n",
       "        1    0.000    0.000    0.000    0.000 timeline.py:95(reset)\n",
       "        1    0.000    0.000    0.000    0.000 context.py:226(is_realtime)\n",
       "        1    0.000    0.000    0.000    0.000 playback.py:320(running)\n",
       "        1    0.000    0.000    0.000    0.000 threading.py:1092(is_alive)\n",
       "        1    0.000    0.000    0.000    0.000 threading.py:507(is_set)\n",
       "        1    0.000    0.000    0.000    0.000 {method 'disable' of '_lsprof.Profiler' objects}"
      ]
     },
     "metadata": {},
     "output_type": "display_data"
    }
   ],
   "source": [
    "%%prun \n",
    "context.reset()\n",
    "for idx, onset in enumerate(sorted(onsets)):\n",
    "    with context.at(onset):\n",
    "        s1i.start(freq = freqs[idx], amp=0.005)"
   ]
  },
  {
   "cell_type": "markdown",
   "id": "593a3f34-a40a-4f57-9422-7675aca3cad4",
   "metadata": {},
   "source": [
    "Now most of the time is spend creating the SynthEvents.\n",
    "\n",
    "Let's compare this to sc3nb."
   ]
  },
  {
   "cell_type": "markdown",
   "id": "eb9f7960-8146-47c3-a9d9-149bcc734eb6",
   "metadata": {},
   "source": [
    "### sc3nb direct sending"
   ]
  },
  {
   "cell_type": "markdown",
   "id": "5417c983-e033-4dd1-ab69-3822dc5c5ff2",
   "metadata": {},
   "source": [
    "sc3nb code snippet - direct sending"
   ]
  },
  {
   "cell_type": "code",
   "execution_count": 21,
   "id": "ff87ef67-48c6-41c8-98a5-5a81c58bef57",
   "metadata": {},
   "outputs": [],
   "source": [
    "# we need to add the latency in sc3nb by ourselves\n",
    "delay = 0.2"
   ]
  },
  {
   "cell_type": "code",
   "execution_count": 22,
   "id": "82a50cd9-55a5-45f4-82cb-553a5b7a07c7",
   "metadata": {},
   "outputs": [],
   "source": [
    "t0 = time.time() + delay\n",
    "for idx, onset in enumerate(onsets):\n",
    "    msg_params = [\"s1\", -1, 1, 0, \"freq\", freqs[idx], \"amp\", 0.005]\n",
    "    bundler = scn.Bundler(t0+onset, \"/s_new\", msg_params)\n",
    "    bundler.send()"
   ]
  },
  {
   "cell_type": "markdown",
   "id": "95a656d5-849c-4aab-8b07-c0f96b26aeac",
   "metadata": {},
   "source": [
    "We should sort the onsets here aswell to avoid late messages from the Server"
   ]
  },
  {
   "cell_type": "code",
   "execution_count": 23,
   "id": "ffb08df0-7ed7-4170-881a-d293ac20fb66",
   "metadata": {},
   "outputs": [],
   "source": [
    "t0 = time.time() + delay\n",
    "for idx, onset in enumerate(sorted(onsets)):\n",
    "    msg_params = [\"s1\", -1, 1, 0, \"freq\", freqs[idx], \"amp\", 0.005]\n",
    "    bundler = scn.Bundler(t0+onset, \"/s_new\", msg_params)\n",
    "    bundler.send()"
   ]
  },
  {
   "cell_type": "markdown",
   "id": "9e22385a-8f53-4af7-994e-471cad2a321a",
   "metadata": {},
   "source": [
    "How long does the code snippet take?"
   ]
  },
  {
   "cell_type": "code",
   "execution_count": 24,
   "id": "b8fd65c7-2e34-4143-8a1c-79b309a2e7fa",
   "metadata": {},
   "outputs": [
    {
     "name": "stdout",
     "output_type": "stream",
     "text": [
      "1.07 s ± 14.3 ms per loop (mean ± std. dev. of 7 runs, 1 loop each)\n"
     ]
    }
   ],
   "source": [
    "%%timeit\n",
    "t0 = time.time() + delay\n",
    "for idx, onset in enumerate(sorted(onsets)):\n",
    "    msg_params = [\"s1\", -1, 1, 0, \"freq\", freqs[idx], \"amp\", 0.005]\n",
    "    bundler = scn.Bundler(t0+onset, \"/s_new\", msg_params)\n",
    "    bundler.send()"
   ]
  },
  {
   "cell_type": "markdown",
   "id": "2efa0480-7057-4066-89ca-e24e04be98b1",
   "metadata": {},
   "source": [
    "This is shorter than the naive mesonic version, but longer than the optimized version.\n",
    "\n",
    "Let's see what is taking the time."
   ]
  },
  {
   "cell_type": "code",
   "execution_count": 25,
   "id": "85a7f777-b04a-42e5-bb4d-fff7df0cb3dc",
   "metadata": {},
   "outputs": [
    {
     "name": "stdout",
     "output_type": "stream",
     "text": [
      " "
     ]
    },
    {
     "data": {
      "text/plain": [
       "         2670005 function calls (2660005 primitive calls) in 1.568 seconds\n",
       "\n",
       "   Ordered by: internal time\n",
       "\n",
       "   ncalls  tottime  percall  cumtime  percall filename:lineno(function)\n",
       "    10000    0.206    0.000    0.206    0.000 {method 'sendto' of '_socket.socket' objects}\n",
       "   100000    0.203    0.000    0.269    0.000 osc_types.py:49(get_string)\n",
       "    20000    0.146    0.000    0.540    0.000 osc_message.py:25(_parse_datagram)\n",
       "    10000    0.067    0.000    0.434    0.000 osc_message_builder.py:121(build)\n",
       "    10000    0.059    0.000    0.674    0.000 osc_communication.py:100(_build_message)\n",
       "    80000    0.055    0.000    0.122    0.000 osc_message_builder.py:67(add_arg)\n",
       "    70000    0.052    0.000    0.074    0.000 osc_types.py:105(get_int)\n",
       "    10000    0.051    0.000    0.815    0.000 osc_communication.py:881(send)\n",
       "470000/460000    0.044    0.000    0.069    0.000 {built-in method builtins.isinstance}\n",
       "    80000    0.042    0.000    0.056    0.000 osc_message_builder.py:91(_get_arg_type)\n",
       "    50000    0.037    0.000    0.051    0.000 osc_types.py:34(write_string)\n",
       "   100000    0.033    0.000    0.033    0.000 {method 'replace' of 'bytes' objects}\n",
       "   120000    0.032    0.000    0.032    0.000 {built-in method _struct.unpack}\n",
       "    40000    0.031    0.000    0.045    0.000 osc_types.py:197(get_float)\n",
       "    10000    0.028    0.000    0.471    0.000 osc_communication.py:347(to_pythonosc)\n",
       "   420000    0.026    0.000    0.026    0.000 {built-in method builtins.len}\n",
       "        1    0.026    0.026    1.568    1.568 <string>:1(<module>)\n",
       "    10000    0.026    0.000    0.430    0.000 osc_bundle_builder.py:36(build)\n",
       "    10000    0.024    0.000    0.714    0.000 osc_communication.py:143(__init__)\n",
       "    10000    0.024    0.000    0.037    0.000 osc_communication.py:265(messages)\n",
       "    10000    0.024    0.000    0.315    0.000 osc_bundle.py:42(_parse_contents)\n",
       "   100000    0.021    0.000    0.021    0.000 {method 'decode' of 'bytes' objects}\n",
       "    10000    0.021    0.000    0.025    0.000 ntp.py:51(system_time_to_ntp)\n",
       "   280000    0.021    0.000    0.021    0.000 {method 'append' of 'list' objects}\n",
       "    10000    0.017    0.000    0.033    0.000 osc_types.py:302(get_date)\n",
       "    70000    0.017    0.000    0.017    0.000 {built-in method _struct.pack}\n",
       "    10000    0.013    0.000    0.361    0.000 osc_bundle.py:21(__init__)\n",
       "    10000    0.012    0.000    0.012    0.000 {method 'item' of 'numpy.generic' objects}\n",
       "    10000    0.012    0.000    0.484    0.000 osc_communication.py:190(dgram)\n",
       "    20000    0.011    0.000    0.551    0.000 osc_message.py:20(__init__)\n",
       "    10000    0.011    0.000    0.024    0.000 osc_communication.py:963(_handle_outgoing_message)\n",
       "    40000    0.011    0.000    0.020    0.000 osc_types.py:93(write_int)\n",
       "    50000    0.010    0.000    0.010    0.000 {method 'encode' of 'str' objects}\n",
       "    10000    0.010    0.000    0.825    0.000 osc_communication.py:295(send)\n",
       "    20000    0.009    0.000    0.009    0.000 osc_communication.py:379(_calc_timetag)\n",
       "    10000    0.008    0.000    0.683    0.000 osc_communication.py:67(__init__)\n",
       "    10000    0.008    0.000    0.032    0.000 osc_types.py:331(write_date)\n",
       "    10000    0.008    0.000    0.012    0.000 osc_types.py:129(get_uint64)\n",
       "    30000    0.008    0.000    0.008    0.000 {method 'startswith' of 'str' objects}\n",
       "    10000    0.006    0.000    0.006    0.000 osc_message_builder.py:142(<listcomp>)\n",
       "    10000    0.006    0.000    0.006    0.000 {built-in method _abc._abc_subclasscheck}\n",
       "    10000    0.006    0.000    0.021    0.000 typing.py:718(__subclasscheck__)\n",
       "    10000    0.006    0.000    0.027    0.000 typing.py:715(__instancecheck__)\n",
       "    20000    0.006    0.000    0.006    0.000 {method 'startswith' of 'bytes' objects}\n",
       "    20000    0.005    0.000    0.010    0.000 osc_types.py:185(write_float)\n",
       "    20000    0.005    0.000    0.005    0.000 __init__.py:1614(isEnabledFor)\n",
       "    10000    0.005    0.000    0.014    0.000 {built-in method builtins.issubclass}\n",
       "    10000    0.004    0.000    0.004    0.000 {method 'setdefault' of 'dict' objects}\n",
       "    10000    0.004    0.000    0.006    0.000 osc_communication.py:91(address)\n",
       "    10000    0.004    0.000    0.006    0.000 osc_communication.py:421(convert_to_sc3nb_osc)\n",
       "    10000    0.004    0.000    0.004    0.000 osc_message_builder.py:33(__init__)\n",
       "    10000    0.004    0.000    0.006    0.000 osc_communication.py:1003(get_reply_address)\n",
       "    10000    0.003    0.000    0.007    0.000 osc_bundle.py:70(dgram_is_bundle)\n",
       "    10000    0.003    0.000    0.003    0.000 ntp.py:61(ntp_time_to_system_epoch)\n",
       "    10000    0.003    0.000    0.004    0.000 osc_message.py:91(size)\n",
       "    10000    0.003    0.000    0.009    0.000 abc.py:141(__subclasscheck__)\n",
       "        1    0.003    0.003    0.003    0.003 {built-in method builtins.sorted}\n",
       "    10000    0.003    0.000    0.003    0.000 osc_bundle_builder.py:18(__init__)\n",
       "    10000    0.003    0.000    0.003    0.000 sc.py:128(get_default)\n",
       "    10000    0.003    0.000    0.004    0.000 osc_message.py:86(dgram_is_message)\n",
       "    10000    0.003    0.000    0.004    0.000 osc_bundle_builder.py:28(add_content)\n",
       "    10000    0.002    0.000    0.002    0.000 {method 'join' of 'str' objects}\n",
       "    10000    0.002    0.000    0.002    0.000 sc.py:286(server)\n",
       "    10000    0.002    0.000    0.002    0.000 {method 'get' of 'dict' objects}\n",
       "    10000    0.002    0.000    0.002    0.000 osc_bundle.py:90(dgram)\n",
       "    10000    0.002    0.000    0.002    0.000 osc_message.py:81(address)\n",
       "    10000    0.001    0.000    0.001    0.000 osc_message.py:96(dgram)\n",
       "    10000    0.001    0.000    0.001    0.000 {method 'items' of 'dict' objects}\n",
       "    10000    0.001    0.000    0.001    0.000 osc_communication.py:96(to_pythonosc)\n",
       "        1    0.000    0.000    1.568    1.568 {built-in method builtins.exec}\n",
       "        1    0.000    0.000    0.000    0.000 {built-in method time.time}\n",
       "        1    0.000    0.000    0.000    0.000 {method 'disable' of '_lsprof.Profiler' objects}"
      ]
     },
     "metadata": {},
     "output_type": "display_data"
    }
   ],
   "source": [
    "%%prun\n",
    "t0 = time.time() + delay \n",
    "for idx, onset in enumerate(sorted(onsets)):\n",
    "    msg_params = [\"s1\", -1, 1, 0, \"freq\", freqs[idx], \"amp\", 0.005]\n",
    "    bundler = scn.Bundler(t0+onset, \"/s_new\", msg_params)\n",
    "    bundler.send()"
   ]
  },
  {
   "cell_type": "markdown",
   "id": "c7629ff6-4fc2-4969-8122-8f576f395737",
   "metadata": {},
   "source": [
    "- Most time is spend by sending the OSC to SuperCollider.\n",
    "- The sc3nb code sends the OSC directly and this means we need to make the I/O operations for sending the packets.\n",
    "- This is different to the mesonic version, where the OSC packets for SuperCollider will be created by the Playback object in a separate thread.\n",
    "- This is also the reason why we hear the Synths playing when we use the sc3nb snippet. The mesonic version allows to execute them separately.\n",
    "- It would be a more fair comparison if we would also insert the Bundler into the TimedQueue that will perform the execution later. We will do this down below."
   ]
  },
  {
   "cell_type": "markdown",
   "id": "350dfcd3-8d82-4e5b-8d0f-c98df2c47688",
   "metadata": {},
   "source": [
    "### sc3nb without sending"
   ]
  },
  {
   "cell_type": "markdown",
   "id": "765eb336-0de5-41f3-a094-86100ba380b8",
   "metadata": {},
   "source": [
    "However let's see what is happening when we simply create the Bundler without sending it."
   ]
  },
  {
   "cell_type": "markdown",
   "id": "5fbe8a01-1776-424b-9310-2b39de29748a",
   "metadata": {},
   "source": [
    "Time the code snippet without sending the Bundler."
   ]
  },
  {
   "cell_type": "code",
   "execution_count": 26,
   "id": "d73b3646-4e5b-4fdf-a2d1-50b007e1895a",
   "metadata": {},
   "outputs": [
    {
     "name": "stdout",
     "output_type": "stream",
     "text": [
      "413 ms ± 2.45 ms per loop (mean ± std. dev. of 7 runs, 1 loop each)\n"
     ]
    }
   ],
   "source": [
    "%%timeit\n",
    "t0 = time.time() + delay\n",
    "for idx, onset in enumerate(sorted(onsets)):\n",
    "    msg_params = [\"s1\", -1, 1, 0, \"freq\", freqs[idx], \"amp\", 0.005]\n",
    "    bundler = scn.Bundler(t0+onset, \"/s_new\", msg_params)\n",
    "    # bundler.send()"
   ]
  },
  {
   "cell_type": "markdown",
   "id": "984d4c76-c976-42b3-8aa2-f78261bb44d6",
   "metadata": {},
   "source": [
    "It still does take longer."
   ]
  },
  {
   "cell_type": "markdown",
   "id": "e237a1e8-32a4-40ec-afec-354175619291",
   "metadata": {},
   "source": [
    "Let's run the profiler to see what is taking the time."
   ]
  },
  {
   "cell_type": "code",
   "execution_count": 27,
   "id": "ed38475f-7fc7-4604-ba16-590cf083ca87",
   "metadata": {},
   "outputs": [
    {
     "name": "stdout",
     "output_type": "stream",
     "text": [
      " "
     ]
    },
    {
     "data": {
      "text/plain": [
       "         1580005 function calls (1570005 primitive calls) in 0.672 seconds\n",
       "\n",
       "   Ordered by: internal time\n",
       "\n",
       "   ncalls  tottime  percall  cumtime  percall filename:lineno(function)\n",
       "    50000    0.100    0.000    0.131    0.000 osc_types.py:49(get_string)\n",
       "    10000    0.070    0.000    0.264    0.000 osc_message.py:25(_parse_datagram)\n",
       "    10000    0.060    0.000    0.404    0.000 osc_message_builder.py:121(build)\n",
       "    80000    0.053    0.000    0.118    0.000 osc_message_builder.py:67(add_arg)\n",
       "    10000    0.053    0.000    0.619    0.000 osc_communication.py:100(_build_message)\n",
       "    80000    0.040    0.000    0.054    0.000 osc_message_builder.py:91(_get_arg_type)\n",
       "400000/390000    0.034    0.000    0.053    0.000 {built-in method builtins.isinstance}\n",
       "    50000    0.033    0.000    0.046    0.000 osc_types.py:34(write_string)\n",
       "    30000    0.022    0.000    0.032    0.000 osc_types.py:105(get_int)\n",
       "    10000    0.020    0.000    0.652    0.000 osc_communication.py:143(__init__)\n",
       "        1    0.016    0.016    0.672    0.672 <string>:1(<module>)\n",
       "    50000    0.015    0.000    0.015    0.000 {method 'replace' of 'bytes' objects}\n",
       "    20000    0.015    0.000    0.022    0.000 osc_types.py:197(get_float)\n",
       "   210000    0.013    0.000    0.013    0.000 {built-in method builtins.len}\n",
       "    50000    0.013    0.000    0.013    0.000 {built-in method _struct.unpack}\n",
       "   170000    0.012    0.000    0.012    0.000 {method 'append' of 'list' objects}\n",
       "    50000    0.010    0.000    0.010    0.000 {method 'decode' of 'bytes' objects}\n",
       "    50000    0.009    0.000    0.009    0.000 {built-in method _struct.pack}\n",
       "    50000    0.009    0.000    0.009    0.000 {method 'encode' of 'str' objects}\n",
       "    10000    0.007    0.000    0.627    0.000 osc_communication.py:67(__init__)\n",
       "    10000    0.007    0.000    0.007    0.000 {method 'item' of 'numpy.generic' objects}\n",
       "    30000    0.007    0.000    0.013    0.000 osc_types.py:93(write_int)\n",
       "    10000    0.006    0.000    0.270    0.000 osc_message.py:20(__init__)\n",
       "    10000    0.005    0.000    0.005    0.000 osc_message_builder.py:142(<listcomp>)\n",
       "    10000    0.005    0.000    0.016    0.000 typing.py:718(__subclasscheck__)\n",
       "    20000    0.005    0.000    0.009    0.000 osc_types.py:185(write_float)\n",
       "    10000    0.004    0.000    0.021    0.000 typing.py:715(__instancecheck__)\n",
       "    20000    0.004    0.000    0.004    0.000 {method 'startswith' of 'str' objects}\n",
       "    10000    0.004    0.000    0.010    0.000 {built-in method builtins.issubclass}\n",
       "    10000    0.004    0.000    0.004    0.000 {built-in method _abc._abc_subclasscheck}\n",
       "        1    0.003    0.003    0.003    0.003 {built-in method builtins.sorted}\n",
       "    10000    0.003    0.000    0.003    0.000 osc_message_builder.py:33(__init__)\n",
       "    10000    0.003    0.000    0.006    0.000 abc.py:141(__subclasscheck__)\n",
       "    10000    0.002    0.000    0.002    0.000 {method 'join' of 'str' objects}\n",
       "    10000    0.002    0.000    0.002    0.000 sc.py:128(get_default)\n",
       "    10000    0.002    0.000    0.002    0.000 sc.py:286(server)\n",
       "        1    0.000    0.000    0.672    0.672 {built-in method builtins.exec}\n",
       "        1    0.000    0.000    0.000    0.000 {built-in method time.time}\n",
       "        1    0.000    0.000    0.000    0.000 {method 'disable' of '_lsprof.Profiler' objects}"
      ]
     },
     "metadata": {},
     "output_type": "display_data"
    }
   ],
   "source": [
    "%%prun\n",
    "t0 = time.time() + delay\n",
    "for idx, onset in enumerate(sorted(onsets)):\n",
    "    msg_params = [\"s1\", -1, 1, 0, \"freq\", freqs[idx], \"amp\", 0.005]\n",
    "    bundler = scn.Bundler(t0+onset, \"/s_new\", msg_params)\n",
    "    # bundler.send()"
   ]
  },
  {
   "cell_type": "markdown",
   "id": "6251d6a2-810a-4b5f-91b7-522feeb23382",
   "metadata": {},
   "source": [
    "* Most of the time is now spend by creating the OSC classes.\n",
    "* The functions taking the longest time are from the OSC backend of sc3nb, which is [python-osc](https://pypi.org/project/python-osc/). As the name suggests it is written in Python and there might be room for improvements by exchanging the OSC backend of sc3nb."
   ]
  },
  {
   "cell_type": "markdown",
   "id": "afce562f-5824-4311-b75d-3a6c086caacb",
   "metadata": {},
   "source": [
    "## mesonic vs sc3nb direct sending - conclusion"
   ]
  },
  {
   "cell_type": "markdown",
   "id": "d2f6ac96-95df-4ea3-9e4c-f64702a1751f",
   "metadata": {},
   "source": [
    "Now we have both tools at the same spot, as mesonic does spend the most time creating the SynthEvents aswell, but these are created faster than the more complex OSC classes.\n",
    "\n",
    "\n",
    "Nevertheless the Playback will need to create OSC packets from the SynthEvents aswell.\n",
    "* But as shown above this currently can be done in the defined latency of the BundleProcessor as there are no late messages from the SC server.\n",
    "* This means that the latency will ensure that the OSC packets arrive at the server before the execution time.\n",
    "* The latency used is also the default latency of SuperCollider itself.  "
   ]
  },
  {
   "cell_type": "markdown",
   "id": "0ef59d33-bef3-4962-a912-c1b69493cd7b",
   "metadata": {},
   "source": [
    "Note that sc3nb would also allow inserting the Bundler into the TimedQueue.\n",
    "* This also offers the separation of creating and adding the data and then sending it with another thread.\n",
    "* Nevertheless the creation time of a SynthEvent will stay shorter and the insertion of the Bundler into the TimedQueue will only add up the time. \n",
    "\n",
    "\n",
    "Alltogether this demonstrates that the abstraction of the OSC messages into SynthEvents could help to reduce the latency needed."
   ]
  },
  {
   "cell_type": "markdown",
   "id": "2217c25c-3aba-4c0f-ac57-11ef598e6f3e",
   "metadata": {},
   "source": [
    "## mesonic vs sc3nb TimedQueue"
   ]
  },
  {
   "cell_type": "markdown",
   "id": "c86b6b1b-a8e9-4802-b90e-0a8074d0cc3b",
   "metadata": {},
   "source": [
    "For completeness we will look at the TimedQueue as well."
   ]
  },
  {
   "cell_type": "code",
   "execution_count": 28,
   "id": "19e69272-13a5-42f9-990e-25bc4b9a9fdc",
   "metadata": {},
   "outputs": [],
   "source": [
    "queue_sc = scn.TimedQueueSC()"
   ]
  },
  {
   "cell_type": "code",
   "execution_count": 29,
   "id": "b8f5c1fa-1bce-419a-9d3c-c1fcfb217177",
   "metadata": {},
   "outputs": [],
   "source": [
    "# we need a bigger delay or we run into problems (lates / too many nodes)\n",
    "delay = 0.5  \n",
    "t0 = time.time()\n",
    "for idx, onset in enumerate(sorted(onsets)):\n",
    "    msg_params = [\"s1\", -1, 1, 0, \"freq\", freqs[idx], \"amp\", 0.005]\n",
    "    queue_sc.put_bundler(t0+onset+delay, scn.Bundler(t0+onset+delay*2, \"/s_new\", msg_params))"
   ]
  },
  {
   "cell_type": "code",
   "execution_count": 31,
   "id": "a7694d37-4e4b-4c97-b9f1-1bd9715cfb8f",
   "metadata": {},
   "outputs": [],
   "source": [
    "queue_sc.close()"
   ]
  },
  {
   "cell_type": "markdown",
   "id": "f5ee2409-b4af-4207-a6ad-7e38c9dcf9df",
   "metadata": {},
   "source": [
    "Let's look at the performance"
   ]
  },
  {
   "cell_type": "markdown",
   "id": "2775b03f-ac56-4642-ab81-ce703d79af40",
   "metadata": {},
   "source": [
    "We close the queue so the task will not be spawned multiple times as this would be too many nodes for SC."
   ]
  },
  {
   "cell_type": "code",
   "execution_count": 32,
   "id": "8b0164f9-b623-4255-83d9-441c11eea2c7",
   "metadata": {},
   "outputs": [
    {
     "name": "stdout",
     "output_type": "stream",
     "text": [
      "1 s ± 11.2 ms per loop (mean ± std. dev. of 7 runs, 1 loop each)\n"
     ]
    }
   ],
   "source": [
    "%%timeit\n",
    "queue_sc = scn.TimedQueueSC()\n",
    "queue_sc.close()\n",
    "delay = 0.5  # we need a bigger delay or run into problems\n",
    "t0 = time.time()\n",
    "for idx, onset in enumerate(sorted(onsets)):\n",
    "    msg_params = [\"s1\", -1, 1, 0, \"freq\", freqs[idx], \"amp\", 0.005]\n",
    "    queue_sc.put_bundler(t0+onset+delay, scn.Bundler(t0+onset+delay*2, \"/s_new\", msg_params))"
   ]
  },
  {
   "cell_type": "code",
   "execution_count": 33,
   "id": "dc0a8419-59e9-4a9c-be23-a13f3ae6978f",
   "metadata": {},
   "outputs": [
    {
     "name": "stdout",
     "output_type": "stream",
     "text": [
      " "
     ]
    },
    {
     "data": {
      "text/plain": [
       "         2090060 function calls (2070060 primitive calls) in 1.390 seconds\n",
       "\n",
       "   Ordered by: internal time\n",
       "\n",
       "   ncalls  tottime  percall  cumtime  percall filename:lineno(function)\n",
       "    10000    0.136    0.000    0.323    0.000 function_base.py:4495(insert)\n",
       "    10000    0.130    0.000    0.130    0.000 {method 'reduce' of 'numpy.ufunc' objects}\n",
       "    50000    0.101    0.000    0.136    0.000 osc_types.py:49(get_string)\n",
       "    10000    0.100    0.000    0.654    0.000 timed_queue.py:113(put)\n",
       "    10000    0.073    0.000    0.274    0.000 osc_message.py:25(_parse_datagram)\n",
       "    10000    0.063    0.000    0.426    0.000 osc_message_builder.py:121(build)\n",
       "    10000    0.056    0.000    0.658    0.000 osc_communication.py:100(_build_message)\n",
       "    80000    0.054    0.000    0.120    0.000 osc_message_builder.py:67(add_arg)\n",
       "    20000    0.041    0.000    0.063    0.000 numeric.py:1341(normalize_axis_tuple)\n",
       "    80000    0.041    0.000    0.055    0.000 osc_message_builder.py:91(_get_arg_type)\n",
       "420000/410000    0.039    0.000    0.064    0.000 {built-in method builtins.isinstance}\n",
       "29999/19999    0.039    0.000    0.391    0.000 {built-in method numpy.core._multiarray_umath.implement_array_function}\n",
       "    50000    0.036    0.000    0.050    0.000 osc_types.py:34(write_string)\n",
       "    10000    0.035    0.000    0.118    0.000 numeric.py:1404(moveaxis)\n",
       "    30000    0.034    0.000    0.034    0.000 {built-in method numpy.array}\n",
       "        1    0.029    0.029    1.390    1.390 <string>:1(<module>)\n",
       "    10000    0.024    0.000    0.697    0.000 osc_communication.py:143(__init__)\n",
       "    30000    0.023    0.000    0.033    0.000 osc_types.py:105(get_int)\n",
       "   280001    0.021    0.000    0.021    0.000 {built-in method builtins.len}\n",
       "     9999    0.020    0.000    0.020    0.000 {method 'searchsorted' of 'numpy.ndarray' objects}\n",
       "    50000    0.017    0.000    0.017    0.000 {method 'replace' of 'bytes' objects}\n",
       "    20000    0.016    0.000    0.023    0.000 osc_types.py:197(get_float)\n",
       "    50000    0.014    0.000    0.014    0.000 {built-in method _struct.unpack}\n",
       "   180000    0.013    0.000    0.013    0.000 {method 'append' of 'list' objects}\n",
       "    20000    0.012    0.000    0.016    0.000 numeric.py:1391(<listcomp>)\n",
       "    50000    0.012    0.000    0.012    0.000 {method 'decode' of 'bytes' objects}\n",
       "    50000    0.012    0.000    0.012    0.000 {built-in method _struct.pack}\n",
       "    10001    0.011    0.000    0.011    0.000 {built-in method numpy.empty}\n",
       "    50000    0.010    0.000    0.010    0.000 {method 'encode' of 'str' objects}\n",
       "    10001    0.009    0.000    0.009    0.000 {built-in method builtins.sorted}\n",
       "    10000    0.009    0.000    0.009    0.000 {method 'item' of 'numpy.generic' objects}\n",
       "    10000    0.008    0.000    0.666    0.000 osc_communication.py:67(__init__)\n",
       "    30000    0.008    0.000    0.015    0.000 osc_types.py:93(write_int)\n",
       "     9999    0.007    0.000    0.035    0.000 fromnumeric.py:1281(searchsorted)\n",
       "    30000    0.007    0.000    0.007    0.000 {built-in method numpy.core._multiarray_umath.normalize_axis_index}\n",
       "    10000    0.007    0.000    0.347    0.000 <__array_function__ internals>:2(insert)\n",
       "     9999    0.007    0.000    0.060    0.000 <__array_function__ internals>:2(searchsorted)\n",
       "    10000    0.006    0.000    0.132    0.000 <__array_function__ internals>:2(moveaxis)\n",
       "    10000    0.006    0.000    0.006    0.000 {method 'transpose' of 'numpy.ndarray' objects}\n",
       "    10000    0.006    0.000    0.660    0.000 timed_queue.py:249(put_bundler)\n",
       "     9999    0.006    0.000    0.028    0.000 fromnumeric.py:52(_wrapfunc)\n",
       "    10000    0.006    0.000    0.026    0.000 typing.py:715(__instancecheck__)\n",
       "    10000    0.006    0.000    0.280    0.000 osc_message.py:20(__init__)\n",
       "    10000    0.006    0.000    0.020    0.000 typing.py:718(__subclasscheck__)\n",
       "    10000    0.006    0.000    0.006    0.000 osc_message_builder.py:142(<listcomp>)\n",
       "    20000    0.006    0.000    0.006    0.000 {method 'startswith' of 'str' objects}\n",
       "    10000    0.006    0.000    0.140    0.000 {method 'any' of 'numpy.ndarray' objects}\n",
       "    10000    0.005    0.000    0.005    0.000 {built-in method _abc._abc_subclasscheck}\n",
       "    20000    0.005    0.000    0.009    0.000 osc_types.py:185(write_float)\n",
       "    10000    0.004    0.000    0.013    0.000 {built-in method builtins.issubclass}\n",
       "    10000    0.004    0.000    0.135    0.000 _methods.py:53(_any)\n",
       "    10000    0.004    0.000    0.004    0.000 osc_message_builder.py:33(__init__)\n",
       "    10000    0.003    0.000    0.008    0.000 _asarray.py:23(asarray)\n",
       "    10000    0.003    0.000    0.003    0.000 timed_queue.py:29(__init__)\n",
       "    10000    0.003    0.000    0.003    0.000 numeric.py:1467(<listcomp>)\n",
       "    10000    0.003    0.000    0.003    0.000 {method 'insert' of 'list' objects}\n",
       "    10000    0.003    0.000    0.008    0.000 abc.py:141(__subclasscheck__)\n",
       "    10000    0.003    0.000    0.003    0.000 {method 'join' of 'str' objects}\n",
       "    10001    0.002    0.000    0.002    0.000 sc.py:128(get_default)\n",
       "    20000    0.002    0.000    0.002    0.000 {built-in method _operator.index}\n",
       "    10001    0.002    0.000    0.002    0.000 sc.py:286(server)\n",
       "     9999    0.002    0.000    0.002    0.000 {built-in method builtins.getattr}\n",
       "    10000    0.002    0.000    0.002    0.000 {method 'item' of 'numpy.ndarray' objects}\n",
       "    10000    0.001    0.000    0.001    0.000 numeric.py:1400(_moveaxis_dispatcher)\n",
       "     9999    0.001    0.000    0.001    0.000 fromnumeric.py:1277(_searchsorted_dispatcher)\n",
       "    10000    0.001    0.000    0.001    0.000 function_base.py:4491(_insert_dispatcher)\n",
       "    10000    0.001    0.000    0.001    0.000 {built-in method builtins.callable}\n",
       "        6    0.000    0.000    0.000    0.000 {method 'acquire' of '_thread.lock' objects}\n",
       "        1    0.000    0.000    1.390    1.390 {built-in method builtins.exec}\n",
       "        1    0.000    0.000    0.000    0.000 {built-in method _thread.start_new_thread}\n",
       "        1    0.000    0.000    0.000    0.000 timed_queue.py:77(__init__)\n",
       "        4    0.000    0.000    0.000    0.000 {built-in method _thread.allocate_lock}\n",
       "        2    0.000    0.000    0.000    0.000 threading.py:216(__init__)\n",
       "        1    0.000    0.000    0.000    0.000 threading.py:763(__init__)\n",
       "        1    0.000    0.000    0.000    0.000 threading.py:264(wait)\n",
       "        1    0.000    0.000    0.000    0.000 timed_queue.py:240(__init__)\n",
       "        1    0.000    0.000    0.000    0.000 threading.py:358(notify_all)\n",
       "        1    0.000    0.000    0.000    0.000 threading.py:534(wait)\n",
       "        1    0.000    0.000    0.000    0.000 threading.py:834(start)\n",
       "        1    0.000    0.000    0.000    0.000 threading.py:977(_stop)\n",
       "        2    0.000    0.000    0.000    0.000 threading.py:499(__init__)\n",
       "        1    0.000    0.000    0.000    0.000 threading.py:513(set)\n",
       "        1    0.000    0.000    0.000    0.000 _weakrefset.py:81(add)\n",
       "        1    0.000    0.000    0.000    0.000 threading.py:1012(join)\n",
       "        2    0.000    0.000    0.000    0.000 threading.py:243(__exit__)\n",
       "        1    0.000    0.000    0.000    0.000 threading.py:1050(_wait_for_tstate_lock)\n",
       "        2    0.000    0.000    0.000    0.000 threading.py:1225(current_thread)\n",
       "        1    0.000    0.000    0.000    0.000 _weakrefset.py:38(_remove)\n",
       "        2    0.000    0.000    0.000    0.000 threading.py:240(__enter__)\n",
       "        1    0.000    0.000    0.000    0.000 threading.py:728(_newname)\n",
       "        1    0.000    0.000    0.000    0.000 timed_queue.py:97(close)\n",
       "        1    0.000    0.000    0.000    0.000 threading.py:335(notify)\n",
       "        2    0.000    0.000    0.000    0.000 threading.py:255(_is_owned)\n",
       "        1    0.000    0.000    0.000    0.000 threading.py:249(_release_save)\n",
       "        1    0.000    0.000    0.000    0.000 threading.py:252(_acquire_restore)\n",
       "        2    0.000    0.000    0.000    0.000 threading.py:1116(daemon)\n",
       "        2    0.000    0.000    0.000    0.000 {method 'discard' of 'set' objects}\n",
       "        2    0.000    0.000    0.000    0.000 {method '__enter__' of '_thread.lock' objects}\n",
       "        2    0.000    0.000    0.000    0.000 {built-in method _thread.get_ident}\n",
       "        2    0.000    0.000    0.000    0.000 threading.py:507(is_set)\n",
       "        2    0.000    0.000    0.000    0.000 {method '__exit__' of '_thread.lock' objects}\n",
       "        1    0.000    0.000    0.000    0.000 {method 'add' of 'set' objects}\n",
       "        1    0.000    0.000    0.000    0.000 {built-in method time.time}\n",
       "        1    0.000    0.000    0.000    0.000 {method 'append' of 'collections.deque' objects}\n",
       "        2    0.000    0.000    0.000    0.000 {method 'release' of '_thread.lock' objects}\n",
       "        1    0.000    0.000    0.000    0.000 {method 'disable' of '_lsprof.Profiler' objects}\n",
       "        1    0.000    0.000    0.000    0.000 {method 'locked' of '_thread.lock' objects}"
      ]
     },
     "metadata": {},
     "output_type": "display_data"
    }
   ],
   "source": [
    "%%prun\n",
    "queue_sc = scn.TimedQueueSC()\n",
    "queue_sc.close()\n",
    "delay = 0.5  # we need a bigger delay or run into problems\n",
    "t0 = time.time()\n",
    "for idx, onset in enumerate(sorted(onsets)):\n",
    "    msg_params = [\"s1\", -1, 1, 0, \"freq\", freqs[idx], \"amp\", 0.005]\n",
    "    queue_sc.put_bundler(t0+onset+delay, scn.Bundler(t0+onset+delay*2, \"/s_new\", msg_params))"
   ]
  },
  {
   "cell_type": "markdown",
   "id": "7b1d3473-6e21-4d6e-a713-3f0fc9ff8fb1",
   "metadata": {},
   "source": [
    "Let's simplify the code to cut the time spend in python-osc"
   ]
  },
  {
   "cell_type": "code",
   "execution_count": 34,
   "id": "c90aedfa-d239-41e5-a555-a52d82e8bf6d",
   "metadata": {},
   "outputs": [
    {
     "name": "stdout",
     "output_type": "stream",
     "text": [
      "446 ms ± 6.79 ms per loop (mean ± std. dev. of 7 runs, 1 loop each)\n"
     ]
    }
   ],
   "source": [
    "%%timeit\n",
    "queue_sc = scn.TimedQueueSC()\n",
    "queue_sc.close()\n",
    "fun = lambda x: x\n",
    "for onset in sorted(onsets):\n",
    "    queue_sc.put(onset, fun)"
   ]
  },
  {
   "cell_type": "code",
   "execution_count": 35,
   "id": "641ae8a7-64ad-43f7-ad71-5f4febca2129",
   "metadata": {},
   "outputs": [
    {
     "name": "stdout",
     "output_type": "stream",
     "text": [
      " "
     ]
    },
    {
     "data": {
      "text/plain": [
       "         500059 function calls (490059 primitive calls) in 0.556 seconds\n",
       "\n",
       "   Ordered by: internal time\n",
       "\n",
       "   ncalls  tottime  percall  cumtime  percall filename:lineno(function)\n",
       "    10000    0.121    0.000    0.121    0.000 {method 'reduce' of 'numpy.ufunc' objects}\n",
       "    10000    0.117    0.000    0.279    0.000 function_base.py:4495(insert)\n",
       "    10000    0.049    0.000    0.539    0.000 timed_queue.py:113(put)\n",
       "    20000    0.038    0.000    0.053    0.000 numeric.py:1341(normalize_axis_tuple)\n",
       "29999/19999    0.034    0.000    0.338    0.000 {built-in method numpy.core._multiarray_umath.implement_array_function}\n",
       "    10000    0.031    0.000    0.101    0.000 numeric.py:1404(moveaxis)\n",
       "    30000    0.029    0.000    0.029    0.000 {built-in method numpy.array}\n",
       "     9999    0.017    0.000    0.017    0.000 {method 'searchsorted' of 'numpy.ndarray' objects}\n",
       "        1    0.013    0.013    0.556    0.556 <string>:1(<module>)\n",
       "    10001    0.010    0.000    0.010    0.000 {built-in method numpy.empty}\n",
       "    10001    0.008    0.000    0.008    0.000 {built-in method builtins.sorted}\n",
       "     9999    0.007    0.000    0.031    0.000 fromnumeric.py:1281(searchsorted)\n",
       "    30000    0.007    0.000    0.007    0.000 {built-in method numpy.core._multiarray_umath.normalize_axis_index}\n",
       "    10000    0.006    0.000    0.301    0.000 <__array_function__ internals>:2(insert)\n",
       "     9999    0.006    0.000    0.052    0.000 <__array_function__ internals>:2(searchsorted)\n",
       "    70001    0.006    0.000    0.006    0.000 {built-in method builtins.len}\n",
       "    10000    0.006    0.000    0.114    0.000 <__array_function__ internals>:2(moveaxis)\n",
       "    20000    0.006    0.000    0.010    0.000 numeric.py:1391(<listcomp>)\n",
       "    10000    0.005    0.000    0.005    0.000 {method 'transpose' of 'numpy.ndarray' objects}\n",
       "     9999    0.005    0.000    0.024    0.000 fromnumeric.py:52(_wrapfunc)\n",
       "    10000    0.005    0.000    0.129    0.000 {method 'any' of 'numpy.ndarray' objects}\n",
       "    10000    0.003    0.000    0.124    0.000 _methods.py:53(_any)\n",
       "    10000    0.003    0.000    0.003    0.000 timed_queue.py:29(__init__)\n",
       "    20000    0.003    0.000    0.003    0.000 {built-in method builtins.isinstance}\n",
       "    10000    0.003    0.000    0.006    0.000 _asarray.py:23(asarray)\n",
       "    10000    0.003    0.000    0.003    0.000 numeric.py:1467(<listcomp>)\n",
       "    10000    0.002    0.000    0.002    0.000 {method 'insert' of 'list' objects}\n",
       "     9999    0.002    0.000    0.002    0.000 {built-in method builtins.getattr}\n",
       "    20000    0.002    0.000    0.002    0.000 {built-in method _operator.index}\n",
       "    10000    0.002    0.000    0.002    0.000 {method 'item' of 'numpy.ndarray' objects}\n",
       "     9999    0.001    0.000    0.001    0.000 fromnumeric.py:1277(_searchsorted_dispatcher)\n",
       "    10000    0.001    0.000    0.001    0.000 numeric.py:1400(_moveaxis_dispatcher)\n",
       "    10000    0.001    0.000    0.001    0.000 function_base.py:4491(_insert_dispatcher)\n",
       "    10000    0.001    0.000    0.001    0.000 {method 'append' of 'list' objects}\n",
       "    10000    0.001    0.000    0.001    0.000 {built-in method builtins.callable}\n",
       "        6    0.001    0.000    0.001    0.000 {method 'acquire' of '_thread.lock' objects}\n",
       "        1    0.000    0.000    0.000    0.000 {built-in method _thread.start_new_thread}\n",
       "        1    0.000    0.000    0.556    0.556 {built-in method builtins.exec}\n",
       "        1    0.000    0.000    0.000    0.000 _weakrefset.py:38(_remove)\n",
       "        1    0.000    0.000    0.000    0.000 timed_queue.py:77(__init__)\n",
       "        4    0.000    0.000    0.000    0.000 {built-in method _thread.allocate_lock}\n",
       "        1    0.000    0.000    0.000    0.000 threading.py:977(_stop)\n",
       "        2    0.000    0.000    0.000    0.000 threading.py:216(__init__)\n",
       "        1    0.000    0.000    0.000    0.000 threading.py:763(__init__)\n",
       "        1    0.000    0.000    0.000    0.000 timed_queue.py:240(__init__)\n",
       "        1    0.000    0.000    0.000    0.000 threading.py:264(wait)\n",
       "        1    0.000    0.000    0.000    0.000 threading.py:513(set)\n",
       "        1    0.000    0.000    0.000    0.000 threading.py:534(wait)\n",
       "        1    0.000    0.000    0.000    0.000 threading.py:1012(join)\n",
       "        1    0.000    0.000    0.000    0.000 threading.py:834(start)\n",
       "        1    0.000    0.000    0.000    0.000 threading.py:335(notify)\n",
       "        1    0.000    0.000    0.000    0.000 threading.py:358(notify_all)\n",
       "        2    0.000    0.000    0.000    0.000 threading.py:243(__exit__)\n",
       "        2    0.000    0.000    0.000    0.000 threading.py:499(__init__)\n",
       "        2    0.000    0.000    0.000    0.000 threading.py:1225(current_thread)\n",
       "        1    0.000    0.000    0.000    0.000 _weakrefset.py:81(add)\n",
       "        1    0.000    0.000    0.000    0.000 threading.py:1050(_wait_for_tstate_lock)\n",
       "        1    0.000    0.000    0.000    0.000 timed_queue.py:97(close)\n",
       "        2    0.000    0.000    0.000    0.000 threading.py:240(__enter__)\n",
       "        2    0.000    0.000    0.000    0.000 {method 'discard' of 'set' objects}\n",
       "        2    0.000    0.000    0.000    0.000 threading.py:255(_is_owned)\n",
       "        1    0.000    0.000    0.000    0.000 threading.py:728(_newname)\n",
       "        2    0.000    0.000    0.000    0.000 threading.py:1116(daemon)\n",
       "        1    0.000    0.000    0.000    0.000 threading.py:249(_release_save)\n",
       "        2    0.000    0.000    0.000    0.000 {method '__enter__' of '_thread.lock' objects}\n",
       "        1    0.000    0.000    0.000    0.000 threading.py:252(_acquire_restore)\n",
       "        1    0.000    0.000    0.000    0.000 sc.py:286(server)\n",
       "        2    0.000    0.000    0.000    0.000 {method '__exit__' of '_thread.lock' objects}\n",
       "        1    0.000    0.000    0.000    0.000 sc.py:128(get_default)\n",
       "        2    0.000    0.000    0.000    0.000 threading.py:507(is_set)\n",
       "        2    0.000    0.000    0.000    0.000 {built-in method _thread.get_ident}\n",
       "        1    0.000    0.000    0.000    0.000 {method 'add' of 'set' objects}\n",
       "        1    0.000    0.000    0.000    0.000 {method 'locked' of '_thread.lock' objects}\n",
       "        1    0.000    0.000    0.000    0.000 {method 'append' of 'collections.deque' objects}\n",
       "        2    0.000    0.000    0.000    0.000 {method 'release' of '_thread.lock' objects}\n",
       "        1    0.000    0.000    0.000    0.000 {method 'disable' of '_lsprof.Profiler' objects}"
      ]
     },
     "metadata": {},
     "output_type": "display_data"
    }
   ],
   "source": [
    "%%prun\n",
    "queue_sc = scn.TimedQueueSC()\n",
    "queue_sc.close()\n",
    "fun = lambda x: x\n",
    "for onset in sorted(onsets):\n",
    "    queue_sc.put(onset, fun)"
   ]
  },
  {
   "cell_type": "markdown",
   "id": "ed0a724a-dab1-4aec-af54-fe92fa2bede4",
   "metadata": {},
   "source": [
    "The insertion of the TimedQueue Events is now what is taking the most time. \n",
    "\n",
    "And mesonic still performs better."
   ]
  },
  {
   "cell_type": "markdown",
   "id": "db0154e3-a1f1-45d7-8a1e-453063ed69f7",
   "metadata": {},
   "source": [
    "Note that timeit will restart the Playback several times."
   ]
  },
  {
   "cell_type": "code",
   "execution_count": 36,
   "id": "ece12edc-244a-4bb5-b059-2adee8757d37",
   "metadata": {},
   "outputs": [
    {
     "name": "stdout",
     "output_type": "stream",
     "text": [
      "158 ms ± 1.78 ms per loop (mean ± std. dev. of 7 runs, 10 loops each)\n"
     ]
    }
   ],
   "source": [
    "%%timeit\n",
    "context.reset()\n",
    "for idx, onset in enumerate(sorted(onsets)):\n",
    "    with context.at(onset):\n",
    "        s1i.start(freq = freqs[idx], amp=0.005)\n",
    "pb.start()"
   ]
  },
  {
   "cell_type": "markdown",
   "id": "590ccd09-e934-4c1f-b8de-980f321de8c8",
   "metadata": {},
   "source": [
    "Also note that the playback is just started when the insertion is finished."
   ]
  },
  {
   "cell_type": "code",
   "execution_count": 39,
   "id": "44808df1-4990-4660-a054-e7c9f203de84",
   "metadata": {},
   "outputs": [
    {
     "name": "stdout",
     "output_type": "stream",
     "text": [
      " "
     ]
    },
    {
     "data": {
      "text/plain": [
       "         470034 function calls in 0.259 seconds\n",
       "\n",
       "   Ordered by: internal time\n",
       "\n",
       "   ncalls  tottime  percall  cumtime  percall filename:lineno(function)\n",
       "    10000    0.049    0.000    0.069    0.000 <attrs generated init mesonic.events.SynthEvent>:1(__init__)\n",
       "    10000    0.023    0.000    0.163    0.000 synth.py:252(start)\n",
       "    10000    0.020    0.000    0.030    0.000 timeline.py:49(insert)\n",
       "        1    0.018    0.018    0.259    0.259 <string>:1(<module>)\n",
       "    20000    0.014    0.000    0.021    0.000 synth.py:127(_verify_and_adjust)\n",
       "    10000    0.014    0.000    0.087    0.000 synth.py:337(_send_event)\n",
       "    10000    0.014    0.000    0.022    0.000 synth.py:335(<dictcomp>)\n",
       "    20000    0.011    0.000    0.043    0.000 context.py:154(at)\n",
       "    10000    0.010    0.000    0.011    0.000 contextlib.py:81(__init__)\n",
       "    70000    0.008    0.000    0.008    0.000 synth.py:95(value)\n",
       "    10000    0.007    0.000    0.011    0.000 contextlib.py:107(__enter__)\n",
       "    10000    0.006    0.000    0.049    0.000 contextlib.py:116(__exit__)\n",
       "    10000    0.006    0.000    0.009    0.000 enum.py:319(__contains__)\n",
       "    10000    0.006    0.000    0.029    0.000 synth.py:326(_param_values)\n",
       "    20000    0.004    0.000    0.047    0.000 {built-in method builtins.next}\n",
       "    10000    0.004    0.000    0.013    0.000 validators.py:222(__call__)\n",
       "    10000    0.004    0.000    0.015    0.000 contextlib.py:237(helper)\n",
       "    10000    0.004    0.000    0.004    0.000 timeline.py:37(is_empty)\n",
       "    30000    0.004    0.000    0.004    0.000 {built-in method builtins.isinstance}\n",
       "    10000    0.004    0.000    0.004    0.000 <attrs generated init mesonic.timeline.TimeBundle>:1(__init__)\n",
       "    10000    0.003    0.000    0.004    0.000 validators.py:30(__call__)\n",
       "    10000    0.003    0.000    0.004    0.000 context.py:199(receive_event)\n",
       "        1    0.003    0.003    0.003    0.003 {built-in method builtins.sorted}\n",
       "    10000    0.003    0.000    0.003    0.000 events.py:69(__attrs_post_init__)\n",
       "    20000    0.002    0.000    0.002    0.000 synth.py:59(max)\n",
       "    20000    0.002    0.000    0.002    0.000 synth.py:240(mutable)\n",
       "    20000    0.002    0.000    0.002    0.000 synth.py:69(min)\n",
       "    20000    0.002    0.000    0.002    0.000 {method 'items' of 'dict' objects}\n",
       "    10000    0.002    0.000    0.002    0.000 {method 'update' of 'dict' objects}\n",
       "    10000    0.002    0.000    0.002    0.000 {built-in method math.isfinite}\n",
       "    10000    0.001    0.000    0.001    0.000 {built-in method builtins.getattr}\n",
       "    10000    0.001    0.000    0.001    0.000 {built-in method time.time}\n",
       "    10000    0.001    0.000    0.001    0.000 {method 'append' of 'list' objects}\n",
       "    10000    0.001    0.000    0.001    0.000 {built-in method builtins.len}\n",
       "        1    0.000    0.000    0.259    0.259 {built-in method builtins.exec}\n",
       "        3    0.000    0.000    0.000    0.000 threading.py:1092(is_alive)\n",
       "        2    0.000    0.000    0.000    0.000 threading.py:1050(_wait_for_tstate_lock)\n",
       "        1    0.000    0.000    0.000    0.000 playback.py:325(start)\n",
       "        1    0.000    0.000    0.000    0.000 timeline.py:95(reset)\n",
       "        1    0.000    0.000    0.000    0.000 context.py:281(reset)\n",
       "        1    0.000    0.000    0.000    0.000 playback.py:283(time)\n",
       "        2    0.000    0.000    0.000    0.000 playback.py:320(running)\n",
       "        1    0.000    0.000    0.000    0.000 threading.py:534(wait)\n",
       "        1    0.000    0.000    0.000    0.000 context.py:226(is_realtime)\n",
       "        2    0.000    0.000    0.000    0.000 threading.py:240(__enter__)\n",
       "        2    0.000    0.000    0.000    0.000 threading.py:243(__exit__)\n",
       "        2    0.000    0.000    0.000    0.000 {method 'acquire' of '_thread.lock' objects}\n",
       "        1    0.000    0.000    0.000    0.000 playback.py:185(_wait_for_event)\n",
       "        1    0.000    0.000    0.000    0.000 threading.py:524(clear)\n",
       "        4    0.000    0.000    0.000    0.000 threading.py:507(is_set)\n",
       "        1    0.000    0.000    0.000    0.000 playback.py:297(rate)\n",
       "        2    0.000    0.000    0.000    0.000 {method '__enter__' of '_thread.lock' objects}\n",
       "        2    0.000    0.000    0.000    0.000 {method '__exit__' of '_thread.lock' objects}\n",
       "        1    0.000    0.000    0.000    0.000 {method 'disable' of '_lsprof.Profiler' objects}"
      ]
     },
     "metadata": {},
     "output_type": "display_data"
    }
   ],
   "source": [
    "%%prun\n",
    "context.reset()\n",
    "for idx, onset in enumerate(sorted(onsets)):\n",
    "    with context.at(onset):\n",
    "        s1i.start(freq = freqs[idx], amp=0.005)\n",
    "pb.start()"
   ]
  },
  {
   "cell_type": "markdown",
   "id": "d6c6280c-3618-45ab-8410-169b98c01b8f",
   "metadata": {},
   "source": [
    "## mesonic vs sc3nb TimedQueue - conclusion"
   ]
  },
  {
   "cell_type": "markdown",
   "id": "36e0b53f-567d-46db-8c75-c2b09041170f",
   "metadata": {},
   "source": [
    "* The direct comparison revealed that the Timeline of mesonic does have a better performance over the TimedQueue of sc3nb on already sorted onsets.\n",
    "* However, the onsets must be sorted, but this is often achievable.\n",
    "\n",
    "\n",
    "* To improve the performance on unsorted data a skip list could be used for the Timeline instead of the currently used double linked list.\n",
    "* This should also achieve O(log n) performance like the TimedQueue which uses `np.searchsorted` which is based on binary search.\n"
   ]
  },
  {
   "cell_type": "code",
   "execution_count": 41,
   "id": "8583a3fd-bbb9-4dee-af9b-42a33d0a742c",
   "metadata": {},
   "outputs": [
    {
     "name": "stdout",
     "output_type": "stream",
     "text": [
      "Quitting SCServer... Done.\n",
      "Exiting sclang... Done.\n"
     ]
    }
   ],
   "source": [
    "context.close()"
   ]
  },
  {
   "cell_type": "code",
   "execution_count": null,
   "id": "4a95dac9-4e4f-4489-90cf-1de451a21de7",
   "metadata": {},
   "outputs": [],
   "source": []
  }
 ],
 "metadata": {
  "kernelspec": {
   "display_name": "Python 3",
   "language": "python",
   "name": "python3"
  },
  "language_info": {
   "codemirror_mode": {
    "name": "ipython",
    "version": 3
   },
   "file_extension": ".py",
   "mimetype": "text/x-python",
   "name": "python",
   "nbconvert_exporter": "python",
   "pygments_lexer": "ipython3",
   "version": "3.7.10"
  }
 },
 "nbformat": 4,
 "nbformat_minor": 5
}
