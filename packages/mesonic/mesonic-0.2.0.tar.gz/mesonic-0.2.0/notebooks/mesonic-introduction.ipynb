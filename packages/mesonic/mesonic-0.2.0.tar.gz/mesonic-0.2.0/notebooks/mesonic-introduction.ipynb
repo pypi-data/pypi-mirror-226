{
 "cells": [
  {
   "cell_type": "markdown",
   "id": "a3cc5d63",
   "metadata": {},
   "source": [
    "# Introduction to mesonic \n",
    "\n",
    "The following examples show how to use mesonic.\n",
    "\n",
    "\n",
    "- It will demonstrate how to use the different concepts of mesonic.\n",
    "- The examples are created as a Jupyter notebook, which should be executed from top to bottom.\n",
    "- However we encourage you to stop and tinker with the example provided.\n"
   ]
  },
  {
   "cell_type": "markdown",
   "id": "2491a1cd",
   "metadata": {},
   "source": [
    "At first we need to import the package"
   ]
  },
  {
   "cell_type": "code",
   "execution_count": 1,
   "id": "643272df",
   "metadata": {},
   "outputs": [],
   "source": [
    "import mesonic"
   ]
  },
  {
   "cell_type": "markdown",
   "id": "7e490152-e027-4dec-a390-5880f28e929f",
   "metadata": {},
   "source": [
    "## Context"
   ]
  },
  {
   "cell_type": "markdown",
   "id": "2c98d524-a7b1-4190-bee2-c8cd5755ad8f",
   "metadata": {},
   "source": [
    "The Context is the central interface of a sonification."
   ]
  },
  {
   "cell_type": "code",
   "execution_count": 2,
   "id": "c8dddc7b",
   "metadata": {},
   "outputs": [
    {
     "data": {
      "application/javascript": [
       "if (typeof Jupyter !== 'undefined') {\n",
       "                        Jupyter.keyboard_manager.command_shortcuts.add_shortcut(\n",
       "                        'Ctrl-.', {\n",
       "                        help : 'Free all nodes on SC server',\n",
       "                        help_index : 'zz',\n",
       "                        handler : function (event) {\n",
       "                            IPython.notebook.kernel.execute(\n",
       "                                \"import sc3nb; sc3nb.SC.get_default().server.free_all(root=True)\"\n",
       "                            )\n",
       "                            return true;}\n",
       "                        });\n",
       "                    }"
      ],
      "text/plain": [
       "<IPython.core.display.Javascript object>"
      ]
     },
     "metadata": {},
     "output_type": "display_data"
    },
    {
     "name": "stdout",
     "output_type": "stream",
     "text": [
      "Starting sclang process... Done.\n",
      "Registering OSC /return callback in sclang... Done.\n",
      "Loading default sc3nb SynthDefs... Done.\n",
      "Booting SuperCollider Server... Done.\n"
     ]
    }
   ],
   "source": [
    "context = mesonic.create_context()"
   ]
  },
  {
   "cell_type": "markdown",
   "id": "bbf525bd",
   "metadata": {},
   "source": [
    "The Context automatically starts the backend and enables the user to access the different Managers."
   ]
  },
  {
   "cell_type": "code",
   "execution_count": 3,
   "id": "60d83f06",
   "metadata": {},
   "outputs": [
    {
     "data": {
      "text/plain": [
       "{'synths': SynthManager({}),\n",
       " 'buffers': BufferManager([]),\n",
       " 'records': RecordManager(num of records=0)}"
      ]
     },
     "execution_count": 3,
     "metadata": {},
     "output_type": "execute_result"
    }
   ],
   "source": [
    "context.managers"
   ]
  },
  {
   "cell_type": "markdown",
   "id": "d34b106e",
   "metadata": {},
   "source": [
    "Each Manager now allows to create the respective objects for our sonification. This will be demonstrated down below."
   ]
  },
  {
   "cell_type": "markdown",
   "id": "2bf44817",
   "metadata": {},
   "source": [
    "The Context also holds the Timeline and Backend instance"
   ]
  },
  {
   "cell_type": "code",
   "execution_count": 4,
   "id": "523af966",
   "metadata": {},
   "outputs": [
    {
     "data": {
      "text/plain": [
       "Timeline(is_empty=True)"
      ]
     },
     "execution_count": 4,
     "metadata": {},
     "output_type": "execute_result"
    }
   ],
   "source": [
    "context.timeline"
   ]
  },
  {
   "cell_type": "code",
   "execution_count": 5,
   "id": "0b0d8f41",
   "metadata": {},
   "outputs": [
    {
     "data": {
      "text/plain": [
       "<SC <SCServer addr=('127.0.0.1', 57110), process=<Process 'scsynth' (running) pid=4560>>,\n",
       "    <SCLang process=<Process 'sclang' (running) pid=26820>>>"
      ]
     },
     "execution_count": 5,
     "metadata": {},
     "output_type": "execute_result"
    }
   ],
   "source": [
    "context.backend.sc"
   ]
  },
  {
   "cell_type": "markdown",
   "id": "9d87fe06",
   "metadata": {},
   "source": [
    "The Context allows stopping the backend and all Playbacks with"
   ]
  },
  {
   "cell_type": "code",
   "execution_count": 6,
   "id": "697b0114",
   "metadata": {},
   "outputs": [],
   "source": [
    "context.stop()"
   ]
  },
  {
   "cell_type": "markdown",
   "id": "5a9809db",
   "metadata": {},
   "source": [
    "And also resetting the Timeline and the possible Playback of the Context via"
   ]
  },
  {
   "cell_type": "code",
   "execution_count": 7,
   "id": "db95583f",
   "metadata": {},
   "outputs": [],
   "source": [
    "context.reset()"
   ]
  },
  {
   "cell_type": "markdown",
   "id": "391d5513-2d1a-4cc4-b269-80af2edbdfdd",
   "metadata": {},
   "source": [
    "Besides providing these Managers the Context is also responsible for providing the time to the Sonification.\n",
    "\n",
    "This following sections will demonstrate the usage of the Context and the single concepts."
   ]
  },
  {
   "cell_type": "markdown",
   "id": "22de5e1a-38e7-4e81-abe8-c0298a308818",
   "metadata": {},
   "source": [
    "## Synths"
   ]
  },
  {
   "cell_type": "markdown",
   "id": "6c379101",
   "metadata": {},
   "source": [
    "Lets start with creating some Synths with the SynthManager"
   ]
  },
  {
   "cell_type": "code",
   "execution_count": 8,
   "id": "68c4b52a",
   "metadata": {},
   "outputs": [
    {
     "data": {
      "text/plain": [
       "SynthManager({})"
      ]
     },
     "execution_count": 8,
     "metadata": {},
     "output_type": "execute_result"
    }
   ],
   "source": [
    "context.synths"
   ]
  },
  {
   "cell_type": "markdown",
   "id": "2b63089b",
   "metadata": {},
   "source": [
    "* We create the discrete Synth of sc3nb with the name s1 as mutable aswell as immutalbe Synth."
   ]
  },
  {
   "cell_type": "code",
   "execution_count": 9,
   "id": "ed72d1f6",
   "metadata": {},
   "outputs": [],
   "source": [
    "s1m = context.synths.create(\"s1\")\n",
    "s1i = context.synths.create(\"s1\", mutable=False)"
   ]
  },
  {
   "cell_type": "markdown",
   "id": "f835f94e",
   "metadata": {},
   "source": [
    "* An we also create the continuous s2 Synth of sc3nb."
   ]
  },
  {
   "cell_type": "code",
   "execution_count": 10,
   "id": "c8c53390",
   "metadata": {},
   "outputs": [],
   "source": [
    "s2 = context.synths.create(\"s2\", track=1)"
   ]
  },
  {
   "cell_type": "markdown",
   "id": "aaad1254",
   "metadata": {},
   "source": [
    "We can now see what Synths are created and how many of them."
   ]
  },
  {
   "cell_type": "code",
   "execution_count": 11,
   "id": "d17f0484",
   "metadata": {},
   "outputs": [
    {
     "data": {
      "text/plain": [
       "SynthManager({'s1': 2, 's2': 1})"
      ]
     },
     "execution_count": 11,
     "metadata": {},
     "output_type": "execute_result"
    }
   ],
   "source": [
    "context.synths"
   ]
  },
  {
   "cell_type": "markdown",
   "id": "f2d82cf3",
   "metadata": {},
   "source": [
    "Each synth lets you also know what Parameters it offers and what their value is."
   ]
  },
  {
   "cell_type": "code",
   "execution_count": 12,
   "id": "b96f00f3",
   "metadata": {},
   "outputs": [
    {
     "data": {
      "text/plain": [
       "Synth(s2, {'freq': 400.0, 'amp': 0.3, 'num': 4.0, 'pan': 0.0, 'lg': 0.1, 'gate': 1.0})"
      ]
     },
     "execution_count": 12,
     "metadata": {},
     "output_type": "execute_result"
    }
   ],
   "source": [
    "s2"
   ]
  },
  {
   "cell_type": "markdown",
   "id": "750efb5a",
   "metadata": {},
   "source": [
    "The Parameter can also store further data."
   ]
  },
  {
   "cell_type": "code",
   "execution_count": 13,
   "id": "cebb6b5a",
   "metadata": {},
   "outputs": [
    {
     "data": {
      "text/plain": [
       "Parameter(freq=400.00, default=400.00, bounds=(None, None))"
      ]
     },
     "execution_count": 13,
     "metadata": {},
     "output_type": "execute_result"
    }
   ],
   "source": [
    "s2.freq"
   ]
  },
  {
   "cell_type": "markdown",
   "id": "1e41f44a",
   "metadata": {},
   "source": [
    "However to actually use them we need to provide them a time using the Context or it will result in failure."
   ]
  },
  {
   "cell_type": "code",
   "execution_count": 14,
   "id": "99a5b280",
   "metadata": {},
   "outputs": [
    {
     "name": "stdout",
     "output_type": "stream",
     "text": [
      "No time specified\n"
     ]
    }
   ],
   "source": [
    "try:    \n",
    "    s1m.start()\n",
    "except RuntimeError as error:\n",
    "    print(error)"
   ]
  },
  {
   "cell_type": "markdown",
   "id": "57e2467e",
   "metadata": {},
   "source": [
    "## Scheduling"
   ]
  },
  {
   "cell_type": "markdown",
   "id": "f39043a8",
   "metadata": {},
   "source": [
    "The Context offers two ways of providing the time.\n",
    "\n",
    "\n",
    "* It can be directly set by the user using the `time` property or the `at` context manager.\n",
    "* Or the realtime mode can be activated.\n",
    "    * This starts an Playback and uses the time of this Playback as Context time.\n",
    "    * And also allows the user to use the `now` context manager which allows to spawn the Events together and add an additional delay. "
   ]
  },
  {
   "cell_type": "code",
   "execution_count": 15,
   "id": "8cac3172",
   "metadata": {},
   "outputs": [],
   "source": [
    "context.reset() \n",
    "# it is a good practice to reset the Context when using it in cells\n",
    "# to avoid the Timeline getting accidently cluttered by repeated executions\n",
    "\n",
    "# Example with continuous Synth s2\n",
    "# creating a raising sound\n",
    "# using the context.at context manager\n",
    "\n",
    "# start the s2 Synth at 0.3\n",
    "with context.at(0.3):\n",
    "    s2.start(freq=300)\n",
    "\n",
    "# then raise the frequency\n",
    "for t in range(4,10):\n",
    "    with context.at(t/10):  \n",
    "        s2.freq = 100 * t\n",
    "\n",
    "# stop the s2 Synth or it will keep playing.\n",
    "with context.at((t+1)/10): \n",
    "    s2.stop()\n",
    "\n",
    "# Example with mutable discrete Synth s2 \n",
    "# spawn one sound and change panning\n",
    "\n",
    "# set the time using the context.time property\n",
    "context.time = 1.25\n",
    "# start the Synth\n",
    "s1m.start(dur=1, pan=1)  # parameters can be provided by keyword\n",
    "    \n",
    "# set the panning of the mutable Synth\n",
    "for i in range(1,4):\n",
    "    context.time= 1.25 + 0.25 * i\n",
    "    s1m.pan *= -1  # it is also possible to use /= , += , -=    \n",
    "\n",
    "# setting the time to None will make it undefined again\n",
    "# using the context.at context manager is preferred as\n",
    "# the time is only set inside the with statemate and\n",
    "# chaged back to None automatically\n",
    "context.time = None \n",
    "\n",
    "# Example with immutable discrete Synth s1\n",
    "# spawning multiple overlapping sounds\n",
    "# is only possible with an immutable Synth \n",
    "for i in range(5):\n",
    "    with context.at(3+i/4):\n",
    "        s1i.start(dur=1.1, freq=100 * i)"
   ]
  },
  {
   "cell_type": "markdown",
   "id": "139cbf05",
   "metadata": {},
   "source": [
    "The resulting Events will be stored in the timeline of the the Context"
   ]
  },
  {
   "cell_type": "code",
   "execution_count": 16,
   "id": "fa9607c8",
   "metadata": {},
   "outputs": [
    {
     "data": {
      "text/plain": [
       "Timeline(0.3-5.0 (4.7) #entries=17)"
      ]
     },
     "execution_count": 16,
     "metadata": {},
     "output_type": "execute_result"
    }
   ],
   "source": [
    "context.timeline"
   ]
  },
  {
   "cell_type": "markdown",
   "id": "11b171a2",
   "metadata": {},
   "source": [
    "We can also plot the Timeline. \n",
    "\n",
    "\n",
    "- each start-end duration of a Synth is depicted as an arrow.\n",
    "- a point marks a the change of a Parameter of the Synth"
   ]
  },
  {
   "cell_type": "code",
   "execution_count": 17,
   "id": "26d1c8e0",
   "metadata": {},
   "outputs": [
    {
     "data": {
      "image/png": "[encoded data removed]",
      "text/plain": [
       "<Figure size 432x288 with 1 Axes>"
      ]
     },
     "metadata": {
      "needs_background": "light"
     },
     "output_type": "display_data"
    }
   ],
   "source": [
    "context.timeline.plot()"
   ]
  },
  {
   "cell_type": "markdown",
   "id": "be94814e-39b2-4dce-96ca-f7a43c148324",
   "metadata": {},
   "source": [
    "We can save the content of the current timeline as dict"
   ]
  },
  {
   "cell_type": "code",
   "execution_count": 18,
   "id": "5210b4b9-2306-4cb4-bfe3-905662da8f92",
   "metadata": {},
   "outputs": [],
   "source": [
    "saved_timeline = context.timeline.to_dict()"
   ]
  },
  {
   "cell_type": "markdown",
   "id": "3af4092f-32c3-4323-8391-5e0195cf03a9",
   "metadata": {},
   "source": [
    "And insert the resulting dict with a timeshift."
   ]
  },
  {
   "cell_type": "code",
   "execution_count": 19,
   "id": "1d21688a-1cbb-4fff-b922-bee32e08a512",
   "metadata": {},
   "outputs": [
    {
     "data": {
      "image/png": "[encoded data removed]",
      "text/plain": [
       "<Figure size 432x288 with 1 Axes>"
      ]
     },
     "metadata": {
      "needs_background": "light"
     },
     "output_type": "display_data"
    }
   ],
   "source": [
    "context.timeline.extend(saved_timeline, timeshift=6)\n",
    "context.timeline.plot()"
   ]
  },
  {
   "cell_type": "markdown",
   "id": "7ddec2e8-e1a8-4aa0-b86d-f7c99849752c",
   "metadata": {},
   "source": [
    "Let's listen to the Timeline via the realtime mode of the Context\n",
    "\n",
    "\n",
    "* This will create and start a Playback\n",
    "* and it will also use the time of the Playback as time of the Context."
   ]
  },
  {
   "cell_type": "code",
   "execution_count": 20,
   "id": "784e4a38",
   "metadata": {},
   "outputs": [],
   "source": [
    "pb = context.enable_realtime()"
   ]
  },
  {
   "cell_type": "code",
   "execution_count": 21,
   "id": "3701c5a8",
   "metadata": {},
   "outputs": [
    {
     "data": {
      "text/plain": [
       "(4.898149013519287, 4.898149013519287)"
      ]
     },
     "execution_count": 21,
     "metadata": {},
     "output_type": "execute_result"
    }
   ],
   "source": [
    "pb.time, context.time"
   ]
  },
  {
   "cell_type": "markdown",
   "id": "922061fc",
   "metadata": {},
   "source": [
    "The realtime Playback of the Context is now saved in `pb` and can be used to start the rendering again.\n",
    "\n",
    "More details about the Playback can be found below."
   ]
  },
  {
   "cell_type": "markdown",
   "id": "107d127b-c076-42ba-b882-366773c1fc6c",
   "metadata": {},
   "source": [
    "Notice that we can use the Synths now directly as we have enabled the realtime mode and the time is provided by the Playback "
   ]
  },
  {
   "cell_type": "code",
   "execution_count": 22,
   "id": "5fd64fa7",
   "metadata": {},
   "outputs": [
    {
     "name": "stdout",
     "output_type": "stream",
     "text": [
      "Started s1m at 13.34156322479248\n"
     ]
    }
   ],
   "source": [
    "# the context manager now yields the current time\n",
    "# of the realtime Playback from the Context\n",
    "with context.now() as timepoint:\n",
    "    s1m.start(dur=0.2, freq=440, pan=0)\n",
    "    print(f\"Started s1m at {timepoint}\")"
   ]
  },
  {
   "cell_type": "markdown",
   "id": "258c9fa7",
   "metadata": {},
   "source": [
    "And the start Event of the `s1m` Synth also appears in the Timeline at the `timepoint`. "
   ]
  },
  {
   "cell_type": "code",
   "execution_count": 23,
   "id": "fbbd5511",
   "metadata": {},
   "outputs": [
    {
     "data": {
      "image/png": "[encoded data removed]",
      "text/plain": [
       "<Figure size 432x288 with 1 Axes>"
      ]
     },
     "metadata": {
      "needs_background": "light"
     },
     "output_type": "display_data"
    }
   ],
   "source": [
    "context.timeline.plot()"
   ]
  },
  {
   "cell_type": "markdown",
   "id": "727f2d7a",
   "metadata": {},
   "source": [
    "## Playback\n",
    "\n",
    "We also got a Playback and stored it in `pb`"
   ]
  },
  {
   "cell_type": "code",
   "execution_count": 24,
   "id": "6bf83d07-60c1-4b29-aeca-bcbeca8d699f",
   "metadata": {},
   "outputs": [
    {
     "data": {
      "text/plain": [
       "Playback(time=16.902233362197876, rate=1)"
      ]
     },
     "execution_count": 24,
     "metadata": {},
     "output_type": "execute_result"
    }
   ],
   "source": [
    "pb"
   ]
  },
  {
   "cell_type": "markdown",
   "id": "4ed6d82f-37bf-407f-b342-708e24e6b0e9",
   "metadata": {},
   "source": [
    "The Playback offers interactive control. "
   ]
  },
  {
   "cell_type": "markdown",
   "id": "54f02f73",
   "metadata": {},
   "source": [
    "* We can jump back to hear listen again"
   ]
  },
  {
   "cell_type": "code",
   "execution_count": 25,
   "id": "a226b656",
   "metadata": {},
   "outputs": [],
   "source": [
    "pb.time = 5"
   ]
  },
  {
   "cell_type": "markdown",
   "id": "692a17a6",
   "metadata": {},
   "source": [
    "* Note: If you jump towards a timepoint were a mutable Synth is used but not started, it will send the set Events to the Backend and leave it up to the backend to provide warnings about the failure."
   ]
  },
  {
   "cell_type": "code",
   "execution_count": 26,
   "id": "bbdf1ce0",
   "metadata": {},
   "outputs": [
    {
     "name": "stderr",
     "output_type": "stream",
     "text": [
      "Error at SCServer('127.0.0.1', 57110) pid=4560 from scsynth: ('/fail', '/n_set', 'Node 20003 not found')\n",
      "Error at SCServer('127.0.0.1', 57110) pid=4560 from scsynth: ('/fail', '/n_set', 'Node 20003 not found')\n",
      "Error at SCServer('127.0.0.1', 57110) pid=4560 from scsynth: ('/fail', '/n_free', 'Node 20003 not found')\n"
     ]
    }
   ],
   "source": [
    "pb.time = 0.8"
   ]
  },
  {
   "cell_type": "markdown",
   "id": "21655895",
   "metadata": {},
   "source": [
    "* Or we can loop over a part over and over again"
   ]
  },
  {
   "cell_type": "code",
   "execution_count": 27,
   "id": "87755bec",
   "metadata": {},
   "outputs": [],
   "source": [
    "pb.loop = True\n",
    "\n",
    "pb.start_time = 3\n",
    "pb.end_time = 5\n",
    "\n",
    "pb.time = 3"
   ]
  },
  {
   "cell_type": "markdown",
   "id": "8a9dcfaa",
   "metadata": {},
   "source": [
    "* The rate of the Playback can be controlled as well.\n",
    "* Notice that this only affects the speed of the Playback and not the resulting sound events."
   ]
  },
  {
   "cell_type": "code",
   "execution_count": 28,
   "id": "b071fb49",
   "metadata": {},
   "outputs": [],
   "source": [
    "pb.rate = 2"
   ]
  },
  {
   "cell_type": "markdown",
   "id": "1d390188",
   "metadata": {},
   "source": [
    "* You can also reverse the Playback. Which is actually a change of the rate into the negative."
   ]
  },
  {
   "cell_type": "code",
   "execution_count": 29,
   "id": "073f58d9-31f9-48b0-a24c-7ec0a57e18c7",
   "metadata": {},
   "outputs": [
    {
     "data": {
      "text/plain": [
       "-2.0"
      ]
     },
     "execution_count": 29,
     "metadata": {},
     "output_type": "execute_result"
    }
   ],
   "source": [
    "pb.reverse()\n",
    "pb.rate"
   ]
  },
  {
   "cell_type": "markdown",
   "id": "31386cb9",
   "metadata": {},
   "source": [
    "While the Playback runs you can actually modify the Timeline as it will play the changed Events accordingly.\n",
    "This is also how the realtime Playback works."
   ]
  },
  {
   "cell_type": "code",
   "execution_count": 30,
   "id": "e062c8b6",
   "metadata": {},
   "outputs": [],
   "source": [
    "with context.at(4):\n",
    "    s1i.start(freq=440, dur=1)"
   ]
  },
  {
   "cell_type": "markdown",
   "id": "7b6af99f",
   "metadata": {},
   "source": [
    "Let's stop the Playback and disable the realtime mode for now"
   ]
  },
  {
   "cell_type": "code",
   "execution_count": 31,
   "id": "ade98179",
   "metadata": {},
   "outputs": [],
   "source": [
    "context.stop()\n",
    "context.disable_realtime()\n",
    "context.reset()"
   ]
  },
  {
   "cell_type": "markdown",
   "id": "e795c6ad-dfe2-4401-ae7b-da916bb9501b",
   "metadata": {},
   "source": [
    "## Buffer\n",
    "\n",
    "mesonic allows the user to load data into Buffers and then play it back with a Synth.\n",
    "\n",
    "A Buffer is simply storing data in the Backend. This makes it available for fast access using Synths from the backend.\n",
    "\n",
    "This can be used for Audification as it is demonstrated in the Audification notebook, but also can be used to Play samples."
   ]
  },
  {
   "cell_type": "markdown",
   "id": "51bd4529-e569-404a-96e4-c8941ac0c45f",
   "metadata": {},
   "source": [
    "Let's create a Buffer from a file."
   ]
  },
  {
   "cell_type": "code",
   "execution_count": 32,
   "id": "3737d86e-b2ff-4181-9819-fcbc9761a3f2",
   "metadata": {},
   "outputs": [],
   "source": [
    "buf = context.buffers.from_file(\"files/ring.wav\")"
   ]
  },
  {
   "cell_type": "code",
   "execution_count": 33,
   "id": "c68194fa-1237-476b-bb4a-2f38e9cfa71e",
   "metadata": {},
   "outputs": [
    {
     "data": {
      "text/plain": [
       "Buffer(2 x 88320 @ 44100Hz = 1.001s)"
      ]
     },
     "execution_count": 33,
     "metadata": {},
     "output_type": "execute_result"
    }
   ],
   "source": [
    "buf"
   ]
  },
  {
   "cell_type": "markdown",
   "id": "e8e1c4b1-366e-4158-9689-a3ff92ba2bae",
   "metadata": {},
   "source": [
    "Using this Buffer we can create a Synth that will playback this Buffer."
   ]
  },
  {
   "cell_type": "code",
   "execution_count": 34,
   "id": "db9e421a-6e24-4610-9a3d-83958404d5d6",
   "metadata": {},
   "outputs": [],
   "source": [
    "buf_synth = context.synths.from_buffer(buf)"
   ]
  },
  {
   "cell_type": "markdown",
   "id": "ab627beb-317f-4346-89d2-10a1e3ea139e",
   "metadata": {},
   "source": [
    "And lets use the realtime mode so we can simply start the Synth"
   ]
  },
  {
   "cell_type": "code",
   "execution_count": 35,
   "id": "914fca1d-fb70-4dd7-8a7f-dde3d5f880e8",
   "metadata": {},
   "outputs": [
    {
     "data": {
      "text/plain": [
       "Playback(time=0.00033974647521972656, rate=1)"
      ]
     },
     "execution_count": 35,
     "metadata": {},
     "output_type": "execute_result"
    }
   ],
   "source": [
    "context.enable_realtime()"
   ]
  },
  {
   "cell_type": "code",
   "execution_count": 36,
   "id": "fb0e1325-f9fa-4cc9-9e00-6be584c3e7be",
   "metadata": {},
   "outputs": [],
   "source": [
    "buf_synth.start()"
   ]
  },
  {
   "cell_type": "markdown",
   "id": "120c4fa2-f83b-43a9-9c6f-07b6a986685c",
   "metadata": {},
   "source": [
    "Notice that the resulting Synth is a mutable Synth."
   ]
  },
  {
   "cell_type": "code",
   "execution_count": 37,
   "id": "a285d440-087b-4573-a840-675847c5d91a",
   "metadata": {},
   "outputs": [
    {
     "data": {
      "text/plain": [
       "True"
      ]
     },
     "execution_count": 37,
     "metadata": {},
     "output_type": "execute_result"
    }
   ],
   "source": [
    "buf_synth.mutable"
   ]
  },
  {
   "cell_type": "markdown",
   "id": "00904e25-afaa-453c-b306-c4f3659997b9",
   "metadata": {},
   "source": [
    "This means it cannot be started when it's already running. Notice the following error from SuperCollider"
   ]
  },
  {
   "cell_type": "code",
   "execution_count": 38,
   "id": "dd660a24-eddd-4b6e-bd58-49a85bff77f5",
   "metadata": {},
   "outputs": [
    {
     "name": "stderr",
     "output_type": "stream",
     "text": [
      "Error at SCServer('127.0.0.1', 57110) pid=4560 from scsynth: ('/fail', '/s_new', 'duplicate node ID')\n"
     ]
    }
   ],
   "source": [
    "buf_synth.start()\n",
    "with context.now(delay=0.4):\n",
    "    buf_synth.start()"
   ]
  },
  {
   "cell_type": "markdown",
   "id": "54b1a7d0-aacb-4401-aaa4-6a89f84b4dac",
   "metadata": {},
   "source": [
    "If you want to be able to start the Synth with overlap you need to use an immutable Synth"
   ]
  },
  {
   "cell_type": "code",
   "execution_count": 39,
   "id": "5f6603cc-5128-440c-8f0e-482a08f5d28c",
   "metadata": {},
   "outputs": [],
   "source": [
    "i_buf_synth = context.synths.from_buffer(buf, mutable=False)"
   ]
  },
  {
   "cell_type": "code",
   "execution_count": 40,
   "id": "f9082d43-db61-4438-a9a6-bb778e2ff874",
   "metadata": {},
   "outputs": [],
   "source": [
    "i_buf_synth.start()\n",
    "with context.now(delay=0.4):\n",
    "    i_buf_synth.start()"
   ]
  },
  {
   "cell_type": "markdown",
   "id": "62ecd5c5-bcda-4365-8ad4-787843bcdc7a",
   "metadata": {},
   "source": [
    "Also make sure that the Synth will stop itself when using a immutable Synth"
   ]
  },
  {
   "cell_type": "code",
   "execution_count": 41,
   "id": "aa785584-c65b-4946-8a92-b4edd74a697c",
   "metadata": {},
   "outputs": [],
   "source": [
    "# loop=1 lets the Synth loop over the Buffer\n",
    "# and is a Paramter of the Synth used to playback the buffer\n",
    "i_buf_synth.start(loop=1)"
   ]
  },
  {
   "cell_type": "markdown",
   "id": "cbde2bcd-708c-4464-b9d0-ee8a95008e64",
   "metadata": {},
   "source": [
    "or you will end up with a neverending Synth as immutable Synth cannot be stopped"
   ]
  },
  {
   "cell_type": "code",
   "execution_count": 42,
   "id": "34db6a9d-8727-4ead-b991-31af355dba63",
   "metadata": {},
   "outputs": [
    {
     "name": "stdout",
     "output_type": "stream",
     "text": [
      "Immutable Synth can only produce SynthEventType.START but got SynthEventType.STOP\n"
     ]
    }
   ],
   "source": [
    "try:\n",
    "    i_buf_synth.stop()\n",
    "except RuntimeError as error:\n",
    "    print(error)"
   ]
  },
  {
   "cell_type": "markdown",
   "id": "bafc0b3e-8a52-41ca-891d-b7caeb512de7",
   "metadata": {},
   "source": [
    "However it can be killed using `context.stop()` which will also stop all playbacks including the realtime Playback of the Context."
   ]
  },
  {
   "cell_type": "code",
   "execution_count": 43,
   "id": "2028d843",
   "metadata": {},
   "outputs": [],
   "source": [
    "context.stop()"
   ]
  },
  {
   "cell_type": "code",
   "execution_count": 44,
   "id": "b541a1a5-844b-49d9-a55f-b8d837d88662",
   "metadata": {},
   "outputs": [
    {
     "data": {
      "text/plain": [
       "Playback(running=False)"
      ]
     },
     "execution_count": 44,
     "metadata": {},
     "output_type": "execute_result"
    }
   ],
   "source": [
    "context.playback"
   ]
  },
  {
   "cell_type": "markdown",
   "id": "829eb2d0-51da-4cf4-bac3-08a039ecd9c4",
   "metadata": {},
   "source": [
    "## Creating audio files\n",
    "\n",
    "mesonic offers two ways to create audio files.\n",
    "\n",
    "* realtime recording with `Record`\n",
    "\n",
    "* non-realtime rendering with the `Context.render` method."
   ]
  },
  {
   "cell_type": "markdown",
   "id": "c20b10b2-8e10-4742-837d-bd1565b7cb8b",
   "metadata": {},
   "source": [
    "### Record\n",
    "\n",
    "mesonic allows to use the Record object for recording the output of the Playback."
   ]
  },
  {
   "cell_type": "code",
   "execution_count": 45,
   "id": "285c67d9-7d82-4f37-a685-ecb03771a4df",
   "metadata": {},
   "outputs": [
    {
     "data": {
      "image/png": "[encoded data removed]",
      "text/plain": [
       "<Figure size 432x288 with 1 Axes>"
      ]
     },
     "metadata": {
      "needs_background": "light"
     },
     "output_type": "display_data"
    }
   ],
   "source": [
    "# let's simply use the Events from above again.\n",
    "context.reset()\n",
    "context.timeline.extend(saved_timeline)\n",
    "context.timeline.plot()"
   ]
  },
  {
   "cell_type": "markdown",
   "id": "62579df5-0452-4c05-ba97-761e0d3849cf",
   "metadata": {},
   "source": [
    "The Record can be created using the respective Manager."
   ]
  },
  {
   "cell_type": "code",
   "execution_count": 46,
   "id": "54a839ce",
   "metadata": {},
   "outputs": [
    {
     "data": {
      "text/plain": [
       "RecordManager(num of records=0)"
      ]
     },
     "execution_count": 46,
     "metadata": {},
     "output_type": "execute_result"
    }
   ],
   "source": [
    "context.records"
   ]
  },
  {
   "cell_type": "code",
   "execution_count": 47,
   "id": "0319726c-2b6c-4529-b2e5-c106a666bcd1",
   "metadata": {},
   "outputs": [],
   "source": [
    "# create a Record that will write to the provided path\n",
    "record = context.records.create(\"./files/record.wav\")\n",
    "\n",
    "# Lets record the two events at the beginning.\n",
    "\n",
    "# start the record at the 0s\n",
    "with context.at(0):  \n",
    "    record.start()\n",
    "\n",
    "# and end the record at 2.5s\n",
    "with context.at(2.5):\n",
    "    record.stop()"
   ]
  },
  {
   "cell_type": "markdown",
   "id": "0b67362f",
   "metadata": {},
   "source": [
    "The Record now has its Events inserted in the Timeline.\n",
    "\n",
    "To create the audio file we need to start the Playback so the Events are executed."
   ]
  },
  {
   "cell_type": "code",
   "execution_count": 48,
   "id": "c2a2210f-1bc4-4d06-b94e-45e12b5a997f",
   "metadata": {},
   "outputs": [],
   "source": [
    "# let's create a Playback with a faster rate\n",
    "pb = context.create_playback(rate=2)\n",
    "pb.start()\n",
    "# this should result in a Record where the audio time is shorter. "
   ]
  },
  {
   "cell_type": "code",
   "execution_count": 49,
   "id": "130959bf-8120-40e3-a6a6-149256236eda",
   "metadata": {},
   "outputs": [
    {
     "data": {
      "text/plain": [
       "Record(path=./files/record.wav, finished=True)"
      ]
     },
     "execution_count": 49,
     "metadata": {},
     "output_type": "execute_result"
    }
   ],
   "source": [
    "record"
   ]
  },
  {
   "cell_type": "markdown",
   "id": "f3299d59",
   "metadata": {},
   "source": [
    "Also notice that Records are one time object and can only be used once."
   ]
  },
  {
   "cell_type": "markdown",
   "id": "72c0a8ae-1125-4ba1-8841-d1b0e6d849df",
   "metadata": {},
   "source": [
    "Lets use pya to look at the created Record."
   ]
  },
  {
   "cell_type": "code",
   "execution_count": 50,
   "id": "8327bc70-bc10-4d3e-8381-55601fc45689",
   "metadata": {},
   "outputs": [
    {
     "data": {
      "text/plain": [
       "AServer: sr: 44100, blocksize: 512,\n",
       "         Stream Active: True, Device: Speakers (Realtek(R) Audio), Index: 3"
      ]
     },
     "execution_count": 50,
     "metadata": {},
     "output_type": "execute_result"
    }
   ],
   "source": [
    "import pya\n",
    "pya.startup()"
   ]
  },
  {
   "cell_type": "code",
   "execution_count": 51,
   "id": "36c4b454-615c-4481-bbc8-bf9ae4556182",
   "metadata": {},
   "outputs": [
    {
     "name": "stdout",
     "output_type": "stream",
     "text": [
      "Asig('./files/record.wav'): 2 x 55168 @ 44100Hz = 1.251s cn=['0', '1']\n"
     ]
    },
    {
     "data": {
      "image/png": "[encoded data removed]",
      "text/plain": [
       "<Figure size 432x288 with 1 Axes>"
      ]
     },
     "metadata": {
      "needs_background": "light"
     },
     "output_type": "display_data"
    }
   ],
   "source": [
    "# if the Record is finished you can use the created file.\n",
    "if record.finished:\n",
    "    # or you can directly convert it into a pya Asig.\n",
    "    asig = record.to_asig()\n",
    "    print(asig)\n",
    "    # notice that the duration is as expected shorter\n",
    "    asig.plot(offset=1)\n",
    "    asig.play()\n",
    "else:\n",
    "    print(\"not finished yet\")"
   ]
  },
  {
   "cell_type": "markdown",
   "id": "91518154-61d7-4b44-8a80-11484999bb7d",
   "metadata": {},
   "source": [
    "### Non-realtime Rendering\n",
    "\n",
    "If you want a non-realtime rendering of the Timeline you can simply use the render function of the Context"
   ]
  },
  {
   "cell_type": "code",
   "execution_count": 52,
   "id": "351a4d28-6c1a-4447-86bb-708dedb52dad",
   "metadata": {},
   "outputs": [],
   "source": [
    "# When using sc3nb as backend we currently need to declare the used Synth explicitly.\n",
    "import sc3nb as scn\n",
    "\n",
    "# The SynthDefs here declare what the s1 and s2 Synth do using SuperCollider code.\n",
    "# For more details refer to the sc3nb and SuperCollider documentation\n",
    "scn.SynthDef(\"s1\", \n",
    "\"\"\"{\n",
    "| freq=400, dur=0.4, att=0.01, amp=0.3, num=4, pan=0 |\n",
    "    Out.ar(0, Pan2.ar(\n",
    "        Blip.ar(freq,  num) * EnvGen.kr(Env.perc(att, dur, 1, -2), doneAction: Done.freeSelf),\n",
    "        pan,\n",
    "        amp)\n",
    "    )\n",
    "}\"\"\").add();\n",
    "scn.SynthDef(\"s2\", \n",
    "\"\"\"{\n",
    "| freq=400, amp=0.3, num=4, pan=0, lg=0.1, gate=1 |\n",
    "    Out.ar(0, Pan2.ar(\n",
    "        Blip.ar(freq.lag(lg),  num) * EnvGen.kr(Env.asr(0.0, 1.0, 1.0), gate, doneAction: Done.freeSelf),\n",
    "        pan.lag(lg),\n",
    "        amp.lag(lg))\n",
    "    )\n",
    "}\"\"\").add();"
   ]
  },
  {
   "cell_type": "markdown",
   "id": "baa3d657-12e8-4eeb-9bc5-f346e7126bc0",
   "metadata": {},
   "source": [
    "We will use our saved Timeline again"
   ]
  },
  {
   "cell_type": "code",
   "execution_count": 53,
   "id": "c003a7f7-43c4-48a0-b9bc-aa1427122b18",
   "metadata": {},
   "outputs": [
    {
     "data": {
      "image/png": "[encoded data removed]",
      "text/plain": [
       "<Figure size 432x288 with 1 Axes>"
      ]
     },
     "metadata": {
      "needs_background": "light"
     },
     "output_type": "display_data"
    }
   ],
   "source": [
    "context.reset()\n",
    "context.timeline.extend(saved_timeline)\n",
    "context.timeline.plot()"
   ]
  },
  {
   "cell_type": "markdown",
   "id": "639e5dd1-b95c-4f3d-b67d-9e6c66858a93",
   "metadata": {},
   "source": [
    "For rendering the Timeline simply use `context.render`"
   ]
  },
  {
   "cell_type": "code",
   "execution_count": 54,
   "id": "caf2817e-e39f-4869-9291-24cc5c844f96",
   "metadata": {},
   "outputs": [
    {
     "name": "stdout",
     "output_type": "stream",
     "text": [
      "start time 0\n",
      "nextOSCPacket 0.3\n",
      "nextOSCPacket 0.4\n",
      "nextOSCPacket 0.5\n",
      "nextOSCPacket 0.6\n",
      "nextOSCPacket 0.7\n",
      "nextOSCPacket 0.8\n",
      "nextOSCPacket 0.9\n",
      "nextOSCPacket 1\n",
      "nextOSCPacket 1.25\n",
      "nextOSCPacket 1.5\n",
      "nextOSCPacket 1.75\n",
      "nextOSCPacket 2\n",
      "nextOSCPacket 3\n",
      "nextOSCPacket 3.25\n",
      "nextOSCPacket 3.5\n",
      "nextOSCPacket 3.75\n",
      "nextOSCPacket 4\n",
      "nextOSCPacket 5\n",
      "\n",
      "\n"
     ]
    }
   ],
   "source": [
    "render_filepath = \"./files/nrt-render.wav\"\n",
    "context.render(render_filepath)"
   ]
  },
  {
   "cell_type": "markdown",
   "id": "9d00091a-8481-4381-8ef7-6d766c8e1679",
   "metadata": {},
   "source": [
    "Let's listen to the asig."
   ]
  },
  {
   "cell_type": "code",
   "execution_count": 55,
   "id": "d7fd7da2-e4c1-416a-a9ab-0825d1537c2d",
   "metadata": {
    "scrolled": true
   },
   "outputs": [
    {
     "data": {
      "text/plain": [
       "Asig('./files/nrt-render.wav'): 8 x 220544 @ 44100Hz = 5.001s cn=['0', '1', '2', '3', '4', '5', '6', '7']"
      ]
     },
     "execution_count": 55,
     "metadata": {},
     "output_type": "execute_result"
    }
   ],
   "source": [
    "pya.Asig(render_filepath).play()"
   ]
  },
  {
   "cell_type": "code",
   "execution_count": 56,
   "id": "93cbee9e-0b95-4ce6-9cea-6e3014c3f2ca",
   "metadata": {},
   "outputs": [
    {
     "name": "stdout",
     "output_type": "stream",
     "text": [
      "Quitting SCServer... Done.\n",
      "Exiting sclang... Done.\n"
     ]
    }
   ],
   "source": [
    "# close the context.\n",
    "context.close()\n",
    "# if all contexts are closed the backend should also exit."
   ]
  },
  {
   "cell_type": "code",
   "execution_count": null,
   "id": "bb8fd9c1",
   "metadata": {},
   "outputs": [],
   "source": []
  }
 ],
 "metadata": {
  "kernelspec": {
   "display_name": "Python 3",
   "language": "python",
   "name": "python3"
  },
  "language_info": {
   "codemirror_mode": {
    "name": "ipython",
    "version": 3
   },
   "file_extension": ".py",
   "mimetype": "text/x-python",
   "name": "python",
   "nbconvert_exporter": "python",
   "pygments_lexer": "ipython3",
   "version": "3.7.10"
  }
 },
 "nbformat": 4,
 "nbformat_minor": 5
}
