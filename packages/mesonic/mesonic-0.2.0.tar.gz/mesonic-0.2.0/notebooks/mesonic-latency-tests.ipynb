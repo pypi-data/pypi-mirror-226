{
 "cells": [
  {
   "cell_type": "markdown",
   "metadata": {},
   "source": [
    "# mesonic latency tests\n",
    "\n",
    "This notebooks provides some code to test and adjust the latency in mesonic.\n",
    "\n",
    "You can fill the Timeline with one of the different test cases below and see how low you can set the latency."
   ]
  },
  {
   "cell_type": "code",
   "execution_count": null,
   "metadata": {},
   "outputs": [],
   "source": [
    "import mesonic\n",
    "import numpy as np\n",
    "import matplotlib.pyplot as plt"
   ]
  },
  {
   "cell_type": "code",
   "execution_count": null,
   "metadata": {},
   "outputs": [],
   "source": [
    "context = mesonic.create_context()\n",
    "s1i = context.synths.create(\"s1\", mutable=False)"
   ]
  },
  {
   "cell_type": "markdown",
   "metadata": {},
   "source": [
    "If we start the Playback of the Timeline we can see if we get late warnings.\n",
    "They look like this\n",
    " \n",
    " `UserWarning: Playback late 0.8938464238361226`\n",
    " \n",
    " where the number is the time that the mesonic Playback is late.\n",
    " The late messages will be printed with half a secound delay so you should at most get twice every second.\n"
   ]
  },
  {
   "cell_type": "markdown",
   "metadata": {},
   "source": [
    "You can also adjust the allowed lateness of the Playback.\n",
    "Allowed lateness means that no warnings will be issued by this delay.\n",
    "As normally we should have some latency added to the execution time of our TimeBundles by the BundleProcessor"
   ]
  },
  {
   "cell_type": "code",
   "execution_count": null,
   "metadata": {},
   "outputs": [],
   "source": [
    "context.playback.allowed_lateness"
   ]
  },
  {
   "cell_type": "code",
   "execution_count": null,
   "metadata": {},
   "outputs": [],
   "source": [
    "# If we set the allowed lateness to zero we will receive warnings very early.\n",
    "context.playback.allowed_lateness = 0.0"
   ]
  },
  {
   "cell_type": "markdown",
   "metadata": {},
   "source": [
    "You can adjust the BundleProcessor latency using the following code."
   ]
  },
  {
   "cell_type": "code",
   "execution_count": null,
   "metadata": {},
   "outputs": [],
   "source": [
    "# context.playback.processor.latency == 0.2 by default\n",
    "context.playback.processor.latency"
   ]
  },
  {
   "cell_type": "code",
   "execution_count": null,
   "metadata": {},
   "outputs": [],
   "source": [
    "context.playback.processor.latency = 0.2  "
   ]
  },
  {
   "cell_type": "markdown",
   "metadata": {},
   "source": [
    " If the lateness of the Playback exhausts the latency of the BundleProcessor and thus the time that the backend has to act on the TimeBundle.\n",
    "This means if it is too low the timing will be off. You also should be able to hear this."
   ]
  },
  {
   "cell_type": "markdown",
   "metadata": {},
   "source": [
    "## Test Cases\n",
    "\n",
    "The following cells contain different times to fill the Timeline.\n",
    "Feel free to change the parameters for the data to test different settings."
   ]
  },
  {
   "cell_type": "code",
   "execution_count": null,
   "metadata": {},
   "outputs": [],
   "source": [
    "# function used to schedule the TimeBundles\n",
    "def schedule_at(times):\n",
    "    for timepoint in np.sort(times):\n",
    "        with context.at(timepoint):\n",
    "            s1i.start({\"dur\": 0.001, \"amp\": 0.015})"
   ]
  },
  {
   "cell_type": "markdown",
   "metadata": {},
   "source": [
    "### Test Case 1: Timeline filled with equidistant times. "
   ]
  },
  {
   "cell_type": "code",
   "execution_count": null,
   "metadata": {},
   "outputs": [],
   "source": [
    "timebundles_per_second = 3_000\n",
    "duration = 5\n",
    "N = duration * timebundles_per_second  # total amount of TimeBundles\n",
    "\n",
    "print(f\"Time between TimeBundles {1/timebundles_per_second}\")\n",
    "print(f\"Total amount of TimeBundles {N}\")\n",
    "\n",
    "context.timeline.reset()\n",
    "times = np.linspace(0, duration, N)\n",
    "schedule_at(times)"
   ]
  },
  {
   "cell_type": "code",
   "execution_count": null,
   "metadata": {},
   "outputs": [],
   "source": [
    "plt.hist(times, histtype=\"step\", bins=\"auto\", cumulative=True);\n",
    "plt.hist(times, histtype=\"step\", bins=\"auto\", cumulative=False);"
   ]
  },
  {
   "cell_type": "code",
   "execution_count": null,
   "metadata": {},
   "outputs": [],
   "source": [
    "context.playback.start()"
   ]
  },
  {
   "cell_type": "markdown",
   "metadata": {},
   "source": [
    "### Test Case 2: Timeline filled with one gaussian distributed peak of TimeBundles"
   ]
  },
  {
   "cell_type": "code",
   "execution_count": null,
   "metadata": {},
   "outputs": [],
   "source": [
    "N = 4_500\n",
    "duration = 5\n",
    "\n",
    "print(f\"mean TimeBundles per second {N/duration}\")\n",
    "print(f\"mean time between TimeBundles {1/N}\")\n",
    "\n",
    "times = np.random.default_rng().normal(duration/2, duration/10, size=N)\n",
    "\n",
    "context.timeline.reset()\n",
    "schedule_at(times)"
   ]
  },
  {
   "cell_type": "code",
   "execution_count": null,
   "metadata": {},
   "outputs": [],
   "source": [
    "plt.hist(times, histtype=\"step\", bins=\"auto\", cumulative=True);\n",
    "plt.hist(times, histtype=\"step\", bins=\"auto\", cumulative=False);"
   ]
  },
  {
   "cell_type": "code",
   "execution_count": null,
   "metadata": {},
   "outputs": [],
   "source": [
    "context.playback.start()"
   ]
  },
  {
   "cell_type": "markdown",
   "metadata": {},
   "source": [
    "### Test Case 3: Timeline filled with two gaussian distributed peaks of TimeBundles"
   ]
  },
  {
   "cell_type": "code",
   "execution_count": null,
   "metadata": {},
   "outputs": [],
   "source": [
    "N1 = 2_000\n",
    "N2 = 1_000\n",
    "duration = 5\n",
    "\n",
    "print(f\"mean TimeBundles per second {N/duration}\")\n",
    "print(f\"mean time between TimeBundles {1/N}\")\n",
    "\n",
    "\n",
    "p1 = np.random.default_rng().normal(duration * 1/4, duration/20, size=N1)\n",
    "p2 = np.random.default_rng().normal(duration * 3/4, duration/20, size=N2)\n",
    "times = np.concatenate([p1, p2])\n",
    "\n",
    "context.timeline.reset()\n",
    "schedule_at(times)"
   ]
  },
  {
   "cell_type": "code",
   "execution_count": null,
   "metadata": {},
   "outputs": [],
   "source": [
    "plt.hist(times, histtype=\"step\", bins=\"auto\", cumulative=True);\n",
    "plt.hist(times, histtype=\"step\", bins=\"auto\", cumulative=False);"
   ]
  },
  {
   "cell_type": "code",
   "execution_count": null,
   "metadata": {},
   "outputs": [],
   "source": [
    "# If we do not get warnings here the timing should be good.\n",
    "context.playback.start()"
   ]
  },
  {
   "cell_type": "code",
   "execution_count": null,
   "metadata": {},
   "outputs": [],
   "source": [
    "context.close()"
   ]
  },
  {
   "cell_type": "code",
   "execution_count": null,
   "metadata": {},
   "outputs": [],
   "source": []
  }
 ],
 "metadata": {
  "kernelspec": {
   "display_name": "soni",
   "language": "python",
   "name": "python3"
  },
  "language_info": {
   "codemirror_mode": {
    "name": "ipython",
    "version": 3
   },
   "file_extension": ".py",
   "mimetype": "text/x-python",
   "name": "python",
   "nbconvert_exporter": "python",
   "pygments_lexer": "ipython3",
   "version": "3.10.2"
  },
  "orig_nbformat": 4
 },
 "nbformat": 4,
 "nbformat_minor": 2
}
