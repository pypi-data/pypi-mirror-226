{
 "cells": [
  {
   "cell_type": "markdown",
   "id": "c90490d7-dd7e-4245-9d0d-1e6fab381119",
   "metadata": {},
   "source": [
    "# Audification using mesonic\n"
   ]
  },
  {
   "cell_type": "markdown",
   "id": "9a726b03-0a10-4d9f-ab3a-5af6d407fcff",
   "metadata": {},
   "source": [
    "For Audification we can simply use a Buffer and the realtime mode of the Context\n",
    "\n",
    "\n",
    "- The Audification will be mainly happening in the backend as the Synth defines what can be controlled\n",
    "- This means that knownledge of sc3nb / SuperCollider is a requirement to create custom Audifications.\n",
    "- Nevertheless the Timeline will store the interactions with the Synth. This could be used\n",
    "    - to document what was done\n",
    "    - to create a Record or non-realtime rendering of an interactive Audification session\n",
    "    - to make use of a Synth using Granular Synthesis that allows controling the location of the Playback  "
   ]
  },
  {
   "cell_type": "markdown",
   "id": "735543e9",
   "metadata": {},
   "source": [
    "## Basic Audification"
   ]
  },
  {
   "cell_type": "markdown",
   "id": "9763d6ea-579e-4a75-8c95-a2db5ed00dbf",
   "metadata": {},
   "source": [
    "Let's start with creating a mesonic Context."
   ]
  },
  {
   "cell_type": "code",
   "execution_count": 1,
   "id": "383918cf-371e-41a8-bd10-21ecfc2fbb31",
   "metadata": {},
   "outputs": [],
   "source": [
    "import mesonic"
   ]
  },
  {
   "cell_type": "code",
   "execution_count": 2,
   "id": "59ec95af-9daf-4e31-8f83-1526994b5c71",
   "metadata": {},
   "outputs": [
    {
     "data": {
      "application/javascript": [
       "if (typeof Jupyter !== 'undefined') {\n",
       "                        Jupyter.keyboard_manager.command_shortcuts.add_shortcut(\n",
       "                        'Ctrl-.', {\n",
       "                        help : 'Free all nodes on SC server',\n",
       "                        help_index : 'zz',\n",
       "                        handler : function (event) {\n",
       "                            IPython.notebook.kernel.execute(\n",
       "                                \"import sc3nb; sc3nb.SC.get_default().server.free_all(root=True)\"\n",
       "                            )\n",
       "                            return true;}\n",
       "                        });\n",
       "                    }"
      ],
      "text/plain": [
       "<IPython.core.display.Javascript object>"
      ]
     },
     "metadata": {},
     "output_type": "display_data"
    },
    {
     "name": "stdout",
     "output_type": "stream",
     "text": [
      "Starting sclang process... Done.\n",
      "Registering OSC /return callback in sclang... Done.\n",
      "Loading default sc3nb SynthDefs... Done.\n",
      "Booting SuperCollider Server... Done.\n"
     ]
    }
   ],
   "source": [
    "context = mesonic.create_context()"
   ]
  },
  {
   "cell_type": "code",
   "execution_count": 3,
   "id": "0cd7923c-26ca-4cab-a726-e19f35e43309",
   "metadata": {},
   "outputs": [],
   "source": [
    "context.enable_realtime();"
   ]
  },
  {
   "cell_type": "markdown",
   "id": "f7db19cc-6639-4b3c-bc33-9b3bcc27cd4f",
   "metadata": {},
   "source": [
    "In this example we will use the EEG data from the [Supplementary material for \"sc3nb: a Python-SuperCollider Interface for Auditory Data Science\"](https://doi.org/10.4119/unibi/2956379)\n"
   ]
  },
  {
   "cell_type": "code",
   "execution_count": 4,
   "id": "2c4edd62-360a-452a-bd49-b07c4f91bd98",
   "metadata": {},
   "outputs": [],
   "source": [
    "import numpy as np "
   ]
  },
  {
   "cell_type": "code",
   "execution_count": 5,
   "id": "943adb71-681a-4e32-97b1-0a385ff6881b",
   "metadata": {},
   "outputs": [],
   "source": [
    "data = np.loadtxt(\"./files/epileptic-eeg.csv\", delimiter=\",\")"
   ]
  },
  {
   "cell_type": "markdown",
   "id": "0ed8971b-37cd-4487-856a-bb93d6304620",
   "metadata": {},
   "source": [
    "We can simply create a stereo Buffer using this data"
   ]
  },
  {
   "cell_type": "code",
   "execution_count": 6,
   "id": "8a0af764-d7ae-4012-8011-e7c59c8ae0d6",
   "metadata": {},
   "outputs": [],
   "source": [
    "buf = context.buffers.from_data(data[:,[0,1]], sr=256)"
   ]
  },
  {
   "cell_type": "markdown",
   "id": "e08c138f-4db4-4748-acaf-3ae608dfb671",
   "metadata": {},
   "source": [
    "And create a default Synth to play it back"
   ]
  },
  {
   "cell_type": "code",
   "execution_count": 7,
   "id": "124e20c4-8e4a-4cab-8854-210140802178",
   "metadata": {},
   "outputs": [],
   "source": [
    "buf_synth = context.synths.from_buffer(buf)"
   ]
  },
  {
   "cell_type": "code",
   "execution_count": 8,
   "id": "0029b2d2-992f-4b15-9c28-126fc4cd55b1",
   "metadata": {},
   "outputs": [],
   "source": [
    "buf_synth.start(rate=20)"
   ]
  },
  {
   "cell_type": "markdown",
   "id": "2e2e7ac6-d342-402e-b03a-d6ca47bdaba9",
   "metadata": {},
   "source": [
    "However the default Synth might not offer all the features required by the user."
   ]
  },
  {
   "cell_type": "code",
   "execution_count": 9,
   "id": "c343452e-168f-4adb-acdf-f61e12bf348a",
   "metadata": {},
   "outputs": [
    {
     "data": {
      "text/plain": [
       "Synth(sc3nb_playbuf_128, {'out': 0.0, 'bufnum': 128.0, 'rate': 20, 'loop': 0.0, 'pan': 0.0, 'amp': 0.3})"
      ]
     },
     "execution_count": 9,
     "metadata": {},
     "output_type": "execute_result"
    }
   ],
   "source": [
    "buf_synth"
   ]
  },
  {
   "cell_type": "markdown",
   "id": "baf0029c",
   "metadata": {},
   "source": [
    "## Audification using custom Synths"
   ]
  },
  {
   "cell_type": "markdown",
   "id": "d3e46203-6dd8-492c-8035-d7d99499453f",
   "metadata": {},
   "source": [
    "Let's see what Synths names are known by the backend and what the corresponding Ugen graph is.\n",
    "\n",
    "For more details on this refer to the sc3nb and SuperCollider documentation."
   ]
  },
  {
   "cell_type": "code",
   "execution_count": 10,
   "id": "b664a6db-be23-4cfd-a812-12cd35ac876c",
   "metadata": {},
   "outputs": [
    {
     "name": "stdout",
     "output_type": "stream",
     "text": [
      "playbuf \n",
      "{ |out=0, bufnum={{BUFNUM}}, rate=1, loop=0, pan=0, amp=0.3 |\n",
      "    var sig = PlayBuf.ar({{NUM_CHANNELS}}, bufnum,\n",
      "        rate*BufRateScale.kr(bufnum),\n",
      "        loop: loop,\n",
      "        doneAction: Done.freeSelf);\n",
      "    Out.ar(out, Pan2.ar(sig, pan, amp))\n",
      "}\n"
     ]
    }
   ],
   "source": [
    "for name, code in context.synths.buffer_synthdefs.items():\n",
    "    print(name, code)"
   ]
  },
  {
   "cell_type": "markdown",
   "id": "d7173da1-d716-4cd7-ab10-3a2eb3574c9f",
   "metadata": {},
   "source": [
    "Note that there are slots: `{{BUFNUM}}` and `{{NUM_CHANNELS}}`"
   ]
  },
  {
   "cell_type": "markdown",
   "id": "7e3b4cef-5e57-4df7-a552-74029ddc76ed",
   "metadata": {},
   "source": [
    "These will be filled by the backend using the functions stored in"
   ]
  },
  {
   "cell_type": "code",
   "execution_count": 11,
   "id": "913ed99a-b8d7-403e-b763-cf4df5791b39",
   "metadata": {},
   "outputs": [
    {
     "data": {
      "text/plain": [
       "{'NUM_CHANNELS': <function mesonic.backend.backend_sc3nb.SynthManagerSC3NB.<lambda>(scbuffer)>,\n",
       " 'BUFNUM': <function mesonic.backend.backend_sc3nb.SynthManagerSC3NB.<lambda>(scbuffer)>}"
      ]
     },
     "execution_count": 11,
     "metadata": {},
     "output_type": "execute_result"
    }
   ],
   "source": [
    "context.synths.buffer_synthdefs_slots"
   ]
  },
  {
   "cell_type": "markdown",
   "id": "729c7409-2510-4875-a5b5-687feca4558c",
   "metadata": {},
   "source": [
    "Each of the functions will receive a sc3nb Buffer and then use it to get the bufnum and the number of channels.\n",
    "\n",
    "These are required for SuperCollider to create a suitable SynthDef and thus a usable mesonic Synth for us."
   ]
  },
  {
   "cell_type": "markdown",
   "id": "b899c44e-93f9-464a-a63a-880c03932b68",
   "metadata": {},
   "source": [
    "Lets extend the selection of Synths with a custom Synth\n",
    "\n",
    "* The timbralson Synth is from the [Supplementary material for \"sc3nb: a Python-SuperCollider Interface for Auditory Data Science\"](https://doi.org/10.4119/unibi/2956379)\n",
    "\n",
    "* It uses all the channels of the data to modulate the amplitude of a harmonic of the fundamental frequency `f0` for each channel."
   ]
  },
  {
   "cell_type": "code",
   "execution_count": 12,
   "id": "d656954e-95ae-49c9-a674-b1506173297e",
   "metadata": {},
   "outputs": [],
   "source": [
    "context.synths.buffer_synthdefs[\"timbralson\"]= r\"\"\"\n",
    "{ |bufnum={{BUFNUM}}, f0=90, amp=0.1, rate=1 |\n",
    "    var nch = {{NUM_CHANNELS}};\n",
    "    var sines = SinOsc.ar(nch.collect{|i| f0*rate*(i+1)});\n",
    "    var playbufs = PlayBuf.ar(nch, bufnum, BufRateScale.kr(bufnum)*rate, doneAction: 2 ) ;\n",
    "    Out.ar(0, (sines * playbufs).sum * amp!2 )\n",
    "}\"\"\""
   ]
  },
  {
   "cell_type": "markdown",
   "id": "1c398b27-5d41-4ffe-8b10-bbcff1f03e22",
   "metadata": {},
   "source": [
    "Note that we also used the slots from above and that the slots can be extended as well."
   ]
  },
  {
   "cell_type": "markdown",
   "id": "4821dfb8-4b19-46eb-b201-1b22643aa09b",
   "metadata": {},
   "source": [
    "And create a new Buffer with all the EEG data channels."
   ]
  },
  {
   "cell_type": "code",
   "execution_count": 13,
   "id": "1a80602d-cce1-41eb-92d1-f3729097550c",
   "metadata": {},
   "outputs": [],
   "source": [
    "buf = context.buffers.from_data(data[14*256:24*256], sr=256)"
   ]
  },
  {
   "cell_type": "code",
   "execution_count": 14,
   "id": "2a127342-0d89-4d73-a729-d842e9a54fa7",
   "metadata": {},
   "outputs": [
    {
     "data": {
      "text/plain": [
       "Buffer(19 x 48640 @ 256Hz = 10.000s)"
      ]
     },
     "execution_count": 14,
     "metadata": {},
     "output_type": "execute_result"
    }
   ],
   "source": [
    "buf"
   ]
  },
  {
   "cell_type": "code",
   "execution_count": 15,
   "id": "55460b2a-fe98-4600-a51b-f6fc96ef8345",
   "metadata": {},
   "outputs": [],
   "source": [
    "timbralson_synth = context.synths.from_buffer(buf, synth_name=\"timbralson\")"
   ]
  },
  {
   "cell_type": "code",
   "execution_count": 16,
   "id": "d03ebb58-787b-46d6-8619-86f88e26eeeb",
   "metadata": {},
   "outputs": [],
   "source": [
    "timbralson_synth.start({\"f0\": 90, \"rate\": 0.5})"
   ]
  },
  {
   "cell_type": "markdown",
   "id": "8898a9a8-a446-4ccf-b0be-4d1ef6e3b96e",
   "metadata": {},
   "source": [
    "The created Synth will offer the Parameters defined above and we can adapt them while the Synth plays."
   ]
  },
  {
   "cell_type": "code",
   "execution_count": 17,
   "id": "daed525b-9f17-4d64-91f4-3d22211d434e",
   "metadata": {},
   "outputs": [
    {
     "data": {
      "text/plain": [
       "Synth(sc3nb_timbralson_129, {'bufnum': 129.0, 'f0': 90, 'amp': 0.1, 'rate': 0.5})"
      ]
     },
     "execution_count": 17,
     "metadata": {},
     "output_type": "execute_result"
    }
   ],
   "source": [
    "timbralson_synth"
   ]
  },
  {
   "cell_type": "code",
   "execution_count": 18,
   "id": "e969f982",
   "metadata": {},
   "outputs": [],
   "source": [
    "timbralson_synth.f0 = 70"
   ]
  },
  {
   "cell_type": "code",
   "execution_count": 19,
   "id": "c381081e-6797-4aa0-9b1c-65634d954934",
   "metadata": {},
   "outputs": [],
   "source": [
    "timbralson_synth.f0 = 100"
   ]
  },
  {
   "cell_type": "code",
   "execution_count": 20,
   "id": "8966ada6-88bc-486c-b809-1fe74ecd75c8",
   "metadata": {},
   "outputs": [],
   "source": [
    "timbralson_synth.rate = 1"
   ]
  },
  {
   "cell_type": "code",
   "execution_count": 21,
   "id": "d490b7e1-a3f1-4744-9802-4e9b5547f338",
   "metadata": {},
   "outputs": [
    {
     "name": "stdout",
     "output_type": "stream",
     "text": [
      "Quitting SCServer... Done.\n",
      "Exiting sclang... Done.\n"
     ]
    }
   ],
   "source": [
    "context.close()"
   ]
  },
  {
   "cell_type": "code",
   "execution_count": null,
   "id": "85db1ad1",
   "metadata": {},
   "outputs": [],
   "source": []
  }
 ],
 "metadata": {
  "kernelspec": {
   "display_name": "Python 3",
   "language": "python",
   "name": "python3"
  },
  "language_info": {
   "codemirror_mode": {
    "name": "ipython",
    "version": 3
   },
   "file_extension": ".py",
   "mimetype": "text/x-python",
   "name": "python",
   "nbconvert_exporter": "python",
   "pygments_lexer": "ipython3",
   "version": "3.7.10"
  }
 },
 "nbformat": 4,
 "nbformat_minor": 5
}
