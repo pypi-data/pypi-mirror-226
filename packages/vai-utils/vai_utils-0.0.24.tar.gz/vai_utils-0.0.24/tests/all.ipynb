{
 "cells": [
  {
   "cell_type": "code",
   "execution_count": 5,
   "metadata": {},
   "outputs": [],
   "source": [
    "from vai_toolkit import (client, pipeline, model, widget, account)\n",
    "\n",
    "USER_SECRET ='bda0ba3c-39f5-4c11-8775-f712a716a788-1689332105833'\n",
    "PIPELINE = '9b0d68ef-d418-4391-b9dc-6890b4850e0e-1689332158379'\n",
    "LOCATION=\"69248373-9470-42c1-a2f2-98d1d90841f3-1689332696000\"\n",
    "\n",
    "modelId = '64b12c892c64408affb5de09'\n",
    "\n",
    "conn = client.connect(USER_SECRET, PIPELINE, LOCATION)\n"
   ]
  },
  {
   "cell_type": "code",
   "execution_count": 95,
   "metadata": {},
   "outputs": [
    {
     "name": "stdout",
     "output_type": "stream",
     "text": [
      "{\"functionName\": \"create_account\", \"email\": \"ziok@vai.com\", \"password\": \"Admin@123\", \"firstName\": \"Ziok\", \"lastName\": \"Ziok\"}\n",
      "21\n"
     ]
    },
    {
     "name": "stderr",
     "output_type": "stream",
     "text": [
      "Email already exists."
     ]
    }
   ],
   "source": [
    "## create account\n",
    "\n",
    "email= 'ziok@vai.com'\n",
    "password ='Admin@123'\n",
    "firstname ='Ziok'\n",
    "lastname ='Ziok'\n",
    "\n",
    "res = account.create_account(email ,password, firstname ,lastname)\n",
    "print(res)"
   ]
  },
  {
   "cell_type": "code",
   "execution_count": 96,
   "metadata": {},
   "outputs": [
    {
     "name": "stdout",
     "output_type": "stream",
     "text": [
      "42\n"
     ]
    },
    {
     "name": "stderr",
     "output_type": "stream",
     "text": [
      "Organization with this name already exist."
     ]
    }
   ],
   "source": [
    "## create organization\n",
    "\n",
    "user_sec ='bda0ba3c-39f5-4c11-8775-f712a716a788-1689332105833'\n",
    "name  = \"Ziok admin\"\n",
    "users = {  'ziok+1@gmail.com' : \"ADMIN\"}\n",
    "\n",
    "res = account.create_organization(user_sec, name, users)\n",
    "print(res)"
   ]
  },
  {
   "cell_type": "code",
   "execution_count": 97,
   "metadata": {},
   "outputs": [
    {
     "name": "stdout",
     "output_type": "stream",
     "text": [
      "{\"functionName\": \"create_pipeline\", \"title\": \"Pipeline\", \"type\": \"STRUCTURE\"}\n",
      "{'_id': '64b1373db88b2e29bd9d55cc', 'title': 'Pipeline', 'type': 'STRUCTURE', 'apiKey': '9ae94821-ed19-4a67-892c-6e707cce1677-1689335613185'}\n"
     ]
    }
   ],
   "source": [
    "## create pipeline\n",
    "\n",
    "user_sec ='bda0ba3c-39f5-4c11-8775-f712a716a788-1689332105833'\n",
    "title  = \"Pipeline\"\n",
    "type = \"STRUCTURE\"\n",
    "\n",
    "res = pipeline.create_pipeline(user_sec, title,type)\n",
    "print(res)"
   ]
  },
  {
   "cell_type": "code",
   "execution_count": 98,
   "metadata": {},
   "outputs": [
    {
     "name": "stdout",
     "output_type": "stream",
     "text": [
      "{'title': 'location 1', 'pipeline': '64b129be2ccab3073300dd37', 'apiKey': '2e38d50d-6590-4f2c-977e-7b3183862b9f-1689335614379', 'isDeleted': False, 'createdAt': '2023-07-14T11:53:34.380Z', 'updatedAt': '2023-07-14T11:53:34.380Z', '_id': '64b1373eb88b2e29bd9d55d5'}\n"
     ]
    }
   ],
   "source": [
    "## create location\n",
    "\n",
    "user_sec ='bda0ba3c-39f5-4c11-8775-f712a716a788-1689332105833'\n",
    "pipe_sec = '9b0d68ef-d418-4391-b9dc-6890b4850e0e-1689332158379'\n",
    "title  = \"location 1\"\n",
    "\n",
    "res = pipeline.add_location(user_sec, pipe_sec,title)\n",
    "print(res)"
   ]
  },
  {
   "cell_type": "code",
   "execution_count": 93,
   "metadata": {},
   "outputs": [
    {
     "name": "stderr",
     "output_type": "stream",
     "text": [
      "Data added successfully"
     ]
    }
   ],
   "source": [
    "## add datas\n",
    "\n",
    "data = { \"id\": [11111, 1], \"Capital Gain\": [10000, 15000] }   # Columns data\n",
    "dates = [\"12-15-2021\", \"12-16-2021\"]  # Dates\n",
    "times = [\"11:08:50\", \"11:09:50\" ]  # Times\n",
    "\n",
    "res = data.upload_data(conn, data, dates, times, allow_new_columns=True, allow_duplicate=True,allow_new_category= True)"
   ]
  },
  {
   "cell_type": "code",
   "execution_count": null,
   "metadata": {},
   "outputs": [],
   "source": [
    "## fetch labels\n",
    "\n",
    "res = data.fetch_labels(conn)\n",
    "\n",
    "print(res)"
   ]
  },
  {
   "cell_type": "code",
   "execution_count": null,
   "metadata": {},
   "outputs": [],
   "source": [
    "## set labels\n",
    "\n",
    "columnLabels = { \"id\" : 'Input' ,\"Capital Gain\" : 'Output'} # Column Labels\n",
    "columnTypes ={ \"id\" : 'CATEGORY',\"Capital Gain\" : 'NUMBER'} # Column Types\n",
    "\n",
    "res = data.set_labels(conn, columnLabels, columnTypes)"
   ]
  },
  {
   "cell_type": "code",
   "execution_count": 100,
   "metadata": {},
   "outputs": [],
   "source": [
    "## download data\n",
    "\n",
    "from_date = \"12-15-2021\" # From Date\n",
    "to_date = \"01-15-2022\" # From Date\n",
    "path = \"./test.zip\" #Path\n",
    "\n",
    "res = data.download_data(conn, path, from_date, to_date=to_date)"
   ]
  },
  {
   "cell_type": "code",
   "execution_count": 55,
   "metadata": {},
   "outputs": [
    {
     "name": "stdout",
     "output_type": "stream",
     "text": [
      "{'title': 'Test 1', 'dates': [], 'days': [], 'startTime': None, 'endTime': None, 'hour': None, 'pipeline': '64b129be2ccab3073300dd37', 'location': ['64b12bd82c64408affb5db60'], 'isAllModel': False, 'datasets': ['64b12c112c64408affb5db99'], 'columnLabels': ['Input', 'Input', 'Input', 'Output', 'Input'], 'columnNames': ['CheckKey', 'EmployeeNumber', 'CheckOpen', 'Total', 'GuestCount'], 'columnTypes': ['NUMBER', 'CATEGORY', 'STRING', 'NUMBER', 'CATEGORY'], 'nullLabels': [], 'learning_rates': [], 'epochs': [], 'deep_lyrs': [], 'batches': [], 'status': 'IN_PROGRESS', 'isTimeSeries': False, 'type': None, 's3ModelName': None, 'downloadTokenForModel': None, 'completedVersion': 0, 'log': {'hyperResponseAt': None, 'bestVersionFoundAt': None, 'bestVersionCount': 0, 'isAccuracy': False, 'bestVersion': None}, 'creator': '64b129892ccab3073300dc0f', 'errorMessage': None, 'fromDate': '01-05-2022', 'isLogPending': False, 'toDate': '01-05-2022', 'createdAt': '2023-07-14T11:07:53.188Z', '_id': '64b12c892c64408affb5de09', 'updatedAt': '2023-07-14T11:07:53.188Z'}\n"
     ]
    }
   ],
   "source": [
    "## to train model not having timeseries\n",
    "\n",
    "model_name =\"Test 1\"\n",
    "fromDate = '01-05-2022'\n",
    "toDate = '01-05-2022'\n",
    "\n",
    "res = model.train_mixed(conn,model_name,fromDate,toDate)\n",
    "print(res)"
   ]
  },
  {
   "cell_type": "code",
   "execution_count": 56,
   "metadata": {},
   "outputs": [
    {
     "name": "stderr",
     "output_type": "stream",
     "text": [
      "\"isTimeSeries\" is not allowed"
     ]
    }
   ],
   "source": [
    "## to train model  having timeseries\n",
    "\n",
    "\n",
    "model_name =\"Test 2 \"\n",
    "fromDate = '01-05-2022'\n",
    "toDate = '01-05-2022'\n",
    "\n",
    "res = model.train_timeseries(conn,model_name,fromDate,toDate)"
   ]
  },
  {
   "cell_type": "code",
   "execution_count": 7,
   "metadata": {},
   "outputs": [
    {
     "name": "stderr",
     "output_type": "stream",
     "text": [
      "Model status is not completed yet, please try again."
     ]
    }
   ],
   "source": [
    "## get explanability value for model not having timeseries\n",
    "\n",
    "datasetData ={\n",
    "    \"CheckKey\": \"2473883154\",\n",
    "    \"EmployeeNumber\": \"585385\",\n",
    "    \"CheckOpen\": \"2022-01-05 12:21:40\",\n",
    "    \"capital-loss\": \"2\",\n",
    "}\n",
    "dataset =\"01-05-2022\"\n",
    "\n",
    "res = model.explain_mixed(conn,datasetData,modelId,dataset)"
   ]
  },
  {
   "cell_type": "code",
   "execution_count": 6,
   "metadata": {},
   "outputs": [
    {
     "name": "stderr",
     "output_type": "stream",
     "text": [
      "Model not found."
     ]
    }
   ],
   "source": [
    "## get explanability value for model having timeseries\n",
    "\n",
    "\n",
    "panel = '648171758ae9ce41584b8d02'\n",
    "from_date =\"01-05-2022\"\n",
    "to_date = \"01-05-2022\"\n",
    "\n",
    "res = model.explain_timeseries(conn,panel, modelId ,from_date,to_date)"
   ]
  },
  {
   "cell_type": "code",
   "execution_count": 6,
   "metadata": {},
   "outputs": [
    {
     "ename": "AttributeError",
     "evalue": "module 'vai_toolkit.model' has no attribute 'predict_time'",
     "output_type": "error",
     "traceback": [
      "\u001b[0;31m---------------------------------------------------------------------------\u001b[0m",
      "\u001b[0;31mAttributeError\u001b[0m                            Traceback (most recent call last)",
      "\u001b[0;32m<ipython-input-6-cd8575107f05>\u001b[0m in \u001b[0;36m<module>\u001b[0;34m\u001b[0m\n\u001b[1;32m      5\u001b[0m \u001b[0mto_date\u001b[0m \u001b[0;34m=\u001b[0m \u001b[0;34m\"06/05/2023\"\u001b[0m\u001b[0;34m\u001b[0m\u001b[0;34m\u001b[0m\u001b[0m\n\u001b[1;32m      6\u001b[0m \u001b[0;34m\u001b[0m\u001b[0m\n\u001b[0;32m----> 7\u001b[0;31m \u001b[0mres\u001b[0m \u001b[0;34m=\u001b[0m \u001b[0mmodel\u001b[0m\u001b[0;34m.\u001b[0m\u001b[0mpredict_time\u001b[0m\u001b[0;34m(\u001b[0m\u001b[0mconn\u001b[0m\u001b[0;34m,\u001b[0m \u001b[0mpanel\u001b[0m\u001b[0;34m,\u001b[0m \u001b[0mmodelId\u001b[0m \u001b[0;34m,\u001b[0m\u001b[0mfrom_date\u001b[0m\u001b[0;34m,\u001b[0m\u001b[0mto_date\u001b[0m\u001b[0;34m)\u001b[0m\u001b[0;34m\u001b[0m\u001b[0;34m\u001b[0m\u001b[0m\n\u001b[0m\u001b[1;32m      8\u001b[0m \u001b[0mprint\u001b[0m\u001b[0;34m(\u001b[0m\u001b[0mres\u001b[0m\u001b[0;34m)\u001b[0m\u001b[0;34m\u001b[0m\u001b[0;34m\u001b[0m\u001b[0m\n",
      "\u001b[0;31mAttributeError\u001b[0m: module 'vai_toolkit.model' has no attribute 'predict_time'"
     ]
    }
   ],
   "source": [
    "## predict table count\n",
    "\n",
    "panel = '648171758ae9ce41584b8d02'\n",
    "from_date =\"05/27/2023\"\n",
    "to_date = \"06/05/2023\"\n",
    "\n",
    "res = model.predict_time(conn, panel, modelId ,from_date,to_date)\n",
    "print(res)"
   ]
  },
  {
   "cell_type": "code",
   "execution_count": 8,
   "metadata": {},
   "outputs": [
    {
     "name": "stdout",
     "output_type": "stream",
     "text": [
      "16\n"
     ]
    },
    {
     "name": "stderr",
     "output_type": "stream",
     "text": [
      "Model not found."
     ]
    }
   ],
   "source": [
    "## predict next item prediction\n",
    "\n",
    "panel = '648171758ae9ce41584b8d02'\n",
    "from_date =\"05/27/2023\"\n",
    "to_date = \"06/05/2023\"\n",
    "\n",
    "res = model.predict_next(conn,panel, modelId ,from_date,to_date)\n",
    "print(res)"
   ]
  },
  {
   "cell_type": "code",
   "execution_count": 65,
   "metadata": {},
   "outputs": [
    {
     "name": "stdout",
     "output_type": "stream",
     "text": [
      "[{'timeWindow': {'window': None, 'startTime': None, 'endTime': None, 'column': None, 'dates': [], 'times': [], 'isHoliday': None, 'holidays': [], 'step': None}, '_id': '64b12e292c64408affb5e09b', 'name': 'test', 'type': 'DATASET', 'pipelineId': '64b129be2ccab3073300dd37', 'location': '64b12bd82c64408affb5db60', 'modelId': None, 'creator': '64b129892ccab3073300dc0f', 'from': '1/1/2023', 'to': '12/31/2023', 'columnFields': ['race', 'hours-per-week', 'age'], 'week': 2, 'thresholdLimit': 49, 'createdAt': '2023-07-14T11:14:49.530Z', 'updatedAt': '2023-07-14T11:14:49.530Z'}]\n"
     ]
    }
   ],
   "source": [
    "## get list of alerts\n",
    "\n",
    "res = alert.list_alerts(conn)\n",
    "print(res)"
   ]
  },
  {
   "cell_type": "code",
   "execution_count": 64,
   "metadata": {},
   "outputs": [
    {
     "name": "stdout",
     "output_type": "stream",
     "text": [
      "{'location': '69248373-9470-42c1-a2f2-98d1d90841f3-1689332696000', 'pipeline': '9b0d68ef-d418-4391-b9dc-6890b4850e0e-1689332158379', 'user-secret': 'bda0ba3c-39f5-4c11-8775-f712a716a788-1689332105833'}\n",
      "{'name': 'test', 'type': 'DATASET', 'pipelineId': '64b129be2ccab3073300dd37', 'location': '64b12bd82c64408affb5db60', 'modelId': None, 'creator': '64b129892ccab3073300dc0f', 'from': '1/1/2023', 'to': '12/31/2023', 'columnFields': ['race', 'hours-per-week', 'age'], 'week': 2, 'thresholdLimit': 49, 'timeWindow': {'window': None, 'startTime': None, 'endTime': None, 'column': None, 'dates': [], 'times': [], 'isHoliday': None, 'holidays': [], 'step': None}, 'createdAt': '2023-07-14T11:14:49.530Z', 'updatedAt': '2023-07-14T11:14:49.530Z', '_id': '64b12e292c64408affb5e09b'}\n"
     ]
    }
   ],
   "source": [
    "## add alert\n",
    "\n",
    "data ={\n",
    "    \"name\":\"test\",\n",
    "    \"type\":\"DATASET\",\n",
    "    \"from\": \"1/1/2023\", \n",
    "    \"to\": \"12/31/2023\",\n",
    "    \"columnFields\": [\"race\", \"hours-per-week\", \"age\"],\n",
    "    \"week\": 2,  \n",
    "    \"thresholdLimit\": 49\n",
    "\n",
    "}\n",
    "res = alert.create_alert(conn,data)\n",
    "print(res )"
   ]
  },
  {
   "cell_type": "code",
   "execution_count": 66,
   "metadata": {},
   "outputs": [
    {
     "name": "stdout",
     "output_type": "stream",
     "text": [
      "{'groupName': 'Listing 1', 'users': [{'email': 'ziok@virtuousai.com', 'firstName': 'ziok', 'lastName': 'ziok 1', 'isSelected': True, '_id': '64b1320c2c64408affb5e0e8'}, {'email': 'ziok+2@virtuousai.com', 'firstName': 'ziok', 'lastName': 'ziok 2', 'isSelected': True, '_id': '64b1320c2c64408affb5e0e9'}], 'creator': '64b129892ccab3073300dc0f', 'isDeleted': False, 'createdAt': '2023-07-14T11:31:24.302Z', 'updatedAt': '2023-07-14T11:31:24.302Z', '_id': '64b1320c2c64408affb5e0e7', 'pipeline': '64b129be2ccab3073300dd37', 'location': '64b12bd82c64408affb5db60'}\n"
     ]
    }
   ],
   "source": [
    "## add email list\n",
    "\n",
    "list_name ='Listing 1'\n",
    "email_list = [{\n",
    "        \"email\":\"ziok@virtuousai.com\",\n",
    "        \"firstName\":\"ziok\",\n",
    "        \"lastName\":\"ziok 1\",\n",
    "    },{\n",
    "        \"email\":\"ziok+2@virtuousai.com\",\n",
    "        \"firstName\":\"ziok\",\n",
    "        \"lastName\":\"ziok 2\",\n",
    "}]\n",
    "res = widget.create_email_list(conn, list_name, email_list)\n",
    "print(res)\n"
   ]
  },
  {
   "cell_type": "code",
   "execution_count": 5,
   "metadata": {},
   "outputs": [
    {
     "name": "stdout",
     "output_type": "stream",
     "text": [
      "{'_id': '64b145f9b88b2e29bd9d568e', 'widgetName': 'TEST for it', 'creator': '64b129892ccab3073300dc0f', 'pipeline': '64b129be2ccab3073300dd37', 'dataSetFields': []}\n"
     ]
    }
   ],
   "source": [
    "## create time series widget \n",
    "\n",
    "panel ='64b12e1b2c64408affb5df60'\n",
    "name ='TEST for it'\n",
    "type = 'WEEK'\n",
    "res = widget.create_timeseries(conn,panel, name, type)\n",
    "print(res)"
   ]
  },
  {
   "cell_type": "code",
   "execution_count": 4,
   "metadata": {},
   "outputs": [
    {
     "name": "stdout",
     "output_type": "stream",
     "text": [
      "['CheckKey', 'Total']\n"
     ]
    }
   ],
   "source": [
    "##  get numeric fields\n",
    "\n",
    "res = widget.get_number_columns(conn)\n",
    "print(res)"
   ]
  },
  {
   "cell_type": "code",
   "execution_count": 10,
   "metadata": {},
   "outputs": [
    {
     "name": "stdout",
     "output_type": "stream",
     "text": [
      "32\n"
     ]
    },
    {
     "name": "stderr",
     "output_type": "stream",
     "text": [
      "Only number columns are allowed."
     ]
    }
   ],
   "source": [
    "## create mixed widget \n",
    "\n",
    "panel ='64b12e1b2c64408affb5df60'\n",
    "name ='TEST for it'\n",
    "columns = ['age']\n",
    "res = widget.add_widget(conn,panel, name, columns)\n",
    "print(res)"
   ]
  },
  {
   "cell_type": "code",
   "execution_count": 3,
   "metadata": {},
   "outputs": [
    {
     "name": "stdout",
     "output_type": "stream",
     "text": [
      "https://dev-cloud-api.virtuousai.com/vai-toolkit\n",
      "64b129be2ccab3073300dd37\n",
      "{'_id': '64b145edb88b2e29bd9d5678', 'widgetName': 'test', 'creator': '64b129892ccab3073300dc0f', 'pipeline': '64b129be2ccab3073300dd37', 'customAnalytics': '64b129be2ccab3073300dd37', 'question': [{'queName': 'Name OF QUESTION', 'queType': 'SINGLE_ANSWER', 'options': [{'option': 'Option A', 'lowQueQuality': None, 'highQueQuality': None, '_id': '64b145edb88b2e29bd9d567a'}, {'option': 'Option B', 'lowQueQuality': None, 'highQueQuality': None, '_id': '64b145edb88b2e29bd9d567b'}], 'isOptionOther': False, 'optionDescription': None, '_id': '64b145edb88b2e29bd9d5679'}]}\n",
      "{'_id': '64b145edb88b2e29bd9d5678', 'widgetName': 'test', 'creator': '64b129892ccab3073300dc0f', 'pipeline': '64b129be2ccab3073300dd37', 'customAnalytics': '64b129be2ccab3073300dd37', 'question': [{'queName': 'Name OF QUESTION', 'queType': 'SINGLE_ANSWER', 'options': [{'option': 'Option A', 'lowQueQuality': None, 'highQueQuality': None, '_id': '64b145edb88b2e29bd9d567a'}, {'option': 'Option B', 'lowQueQuality': None, 'highQueQuality': None, '_id': '64b145edb88b2e29bd9d567b'}], 'isOptionOther': False, 'optionDescription': None, '_id': '64b145edb88b2e29bd9d5679'}]}\n"
     ]
    }
   ],
   "source": [
    "## create survey widget\n",
    "\n",
    "panel =  \"64b129be2ccab3073300dd37\"\n",
    "widgetName= \"test\"\n",
    "questions = [\n",
    "{\n",
    "    \"queType\": \"SINGLE_ANSWER\",\n",
    "    \"queName\": \"Name OF QUESTION\",\n",
    "    \"options\": [\n",
    "        {\n",
    "            \"option\": \"Option A\"\n",
    "        },\n",
    "        {\n",
    "            \"option\": \"Option B\"\n",
    "        }\n",
    "    ]\n",
    "}\n",
    "]\n",
    "res = widget.create_survey(conn,panel, widgetName, questions)\n",
    "print(res)"
   ]
  }
 ],
 "metadata": {
  "kernelspec": {
   "display_name": "Python 3",
   "language": "python",
   "name": "python3"
  },
  "language_info": {
   "codemirror_mode": {
    "name": "ipython",
    "version": 3
   },
   "file_extension": ".py",
   "mimetype": "text/x-python",
   "name": "python",
   "nbconvert_exporter": "python",
   "pygments_lexer": "ipython3",
   "version": "3.6.8"
  },
  "orig_nbformat": 4
 },
 "nbformat": 4,
 "nbformat_minor": 2
}
