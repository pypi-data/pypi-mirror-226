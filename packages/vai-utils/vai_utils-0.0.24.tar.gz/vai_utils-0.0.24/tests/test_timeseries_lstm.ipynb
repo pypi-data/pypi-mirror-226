{
 "cells": [
  {
   "cell_type": "markdown",
   "id": "ef5a7a7e-327a-4c8a-931d-6e58b328775d",
   "metadata": {},
   "source": [
    "# Testing VAI-Utils LSTM Timeseries \n",
    "\n",
    "We run through the `learn-time` flow to verify the code runs. \n",
    "\n",
    "Showcases local training using aggregated features only. \n",
    "\n",
    "* TODO: move `config[\"hid\"]` to load_data code \n",
    "* TODO: implement+test with preexisting x features/no aggregation"
   ]
  },
  {
   "cell_type": "code",
   "execution_count": null,
   "id": "311c2e91-a1b2-442d-94a2-0f96479ed3b2",
   "metadata": {},
   "outputs": [],
   "source": [
    "%load_ext autoreload\n",
    "%autoreload 2\n",
    "\n",
    "import sys, os\n",
    "import importlib\n",
    "import numpy as np\n",
    "\n",
    "sys.path.append(\"../src\")\n",
    "# setting path\n",
    "from vai_utils import models, data_process, preprocess"
   ]
  },
  {
   "cell_type": "code",
   "execution_count": null,
   "id": "bb975477-9d26-4ee7-a411-451a84b70251",
   "metadata": {},
   "outputs": [],
   "source": [
    "# datapath for testing\n",
    "DATA_PATH = 'data/random_no_target'"
   ]
  },
  {
   "cell_type": "code",
   "execution_count": null,
   "id": "b2b0ee68-754c-4e13-b9ca-1676f2539a25",
   "metadata": {},
   "outputs": [],
   "source": [
    "nld = [\n",
    "        (1, 1, 2022), (1, 17, 2022), (2, 21, 2022),\n",
    "        (5, 30, 2022), (7, 4, 2022), (9, 5, 2022), \n",
    "        (10, 10, 2022), (11, 11, 2022), (11, 24, 2022),\n",
    "        (12, 26, 2022), \n",
    "        (1, 1, 2023), (1, 17, 2023), (2, 21, 2023),\n",
    "        (5, 30, 2023), (7, 4, 2023), (9, 5, 2023), \n",
    "        (10, 10, 2023), (11, 11, 2023), (11, 24, 2023),\n",
    "        (12, 26, 2023), \n",
    "    \n",
    "    ]"
   ]
  },
  {
   "cell_type": "code",
   "execution_count": null,
   "id": "9ec87d5c-c088-4fec-a680-fe7169b67d69",
   "metadata": {},
   "outputs": [],
   "source": [
    "model_test_config =  {\n",
    "        \"x\": {}, \"y\": {},\n",
    "        \"mid\":\"alan_test\",\n",
    "        \"h_params\": {\n",
    "            \"learning_rate\": 0.01,\n",
    "            \"epochs\": 2,\n",
    "            \"batch_size\": 1000,\n",
    "            \"deep_lyrs\": 1,\n",
    "            \"step\": \"hour\",\n",
    "            \"optimizer\": \"adam\",\n",
    "            \"tid\": 1,\n",
    "            \"train_local\": {\"checkpoint_path\":\"models\"}, # enables local training and saving\n",
    "        },\n",
    "        \"metrics\": [\"mse\"],\n",
    "        \"null\": \"infer\",\n",
    "        \"timeseries\": {\n",
    "            \"datetime\": {\n",
    "                \"step\": \"hour\",\n",
    "                \"time-window\":(\"11:00\", \"22:00\"),\n",
    "                'remove_hours': True,\n",
    "                \"add_nld\": 'auto',\n",
    "                \"delta\": 8,\n",
    "                \"lag\": 8,\n",
    "                \"steps_in\":  11,  # 1 day == 11 hours\n",
    "                \"steps_out\": 77,  # 7 days = 11 hours x 7 days\n",
    "                \"add_meanstd\": True\n",
    "            },\n",
    "            \"lstm\": {\n",
    "                \"LSTM_layers\": 2,\n",
    "                \"LSTM_nodes\": 100,\n",
    "                \"LSTM_dropout\": 0.1,\n",
    "                \"LSTM_batch_norm\": True,   # changed to true\n",
    "                \"first_activation\": \"relu\",\n",
    "                \"activation\": \"relu\",\n",
    "                \"final_activation\": \"linear\",\n",
    "                \"l1_l2\": 0\n",
    "            }\n",
    "        }\n",
    "    }\n",
    "\n",
    "# Adds filepaths to config\n",
    "file_paths = []\n",
    "for root, dirs, files in os.walk(os.path.abspath(\"data/random_no_target\")):\n",
    "    for file in files:\n",
    "        full_path = os.path.join(root, file)\n",
    "        if 'csv' in full_path: file_paths.append(full_path)\n",
    "model_test_config['file_paths'] = file_paths  "
   ]
  },
  {
   "cell_type": "code",
   "execution_count": null,
   "id": "667ce19f-75e7-461b-8465-f92a961dec7d",
   "metadata": {},
   "outputs": [],
   "source": [
    "# Create xy dataset without s3 \n",
    "xy_dataset = data_process.load_data.dataframe(model_test_config, None, s3=None)"
   ]
  },
  {
   "cell_type": "code",
   "execution_count": null,
   "id": "c5cebafc-9ee7-4b13-8638-8ab7295dc396",
   "metadata": {},
   "outputs": [],
   "source": [
    "# Make model save path. TODO: this should be in the code itself per config\n",
    "model_test_config[\"hid\"] = '_'.join([str(s) for s in model_test_config[\"h_params\"].values() if type(s) != dict])\n",
    "os.makedirs(f'{model_test_config[\"h_params\"][\"train_local\"][\"checkpoint_path\"]}/{model_test_config[\"mid\"]}/{model_test_config[\"hid\"]}', exist_ok=True)\n",
    "\n",
    "x, y, data_mappings = preprocess.datetime(xy_dataset, model_test_config)"
   ]
  },
  {
   "cell_type": "code",
   "execution_count": null,
   "id": "3fa670f3-6efb-4aa5-8b54-181ba72bc77e",
   "metadata": {},
   "outputs": [],
   "source": [
    "# Train the model based on the x, y values\n",
    "models.train_lstm(x, y, model_test_config)"
   ]
  },
  {
   "cell_type": "code",
   "execution_count": null,
   "id": "7ea85e58-2503-4087-9749-6711ec5234e5",
   "metadata": {},
   "outputs": [],
   "source": [
    "data.html_to_json()\n"
   ]
  },
  {
   "cell_type": "code",
   "execution_count": null,
   "id": "e62e2b48-ce5e-4fcc-8977-5c7d04661d47",
   "metadata": {},
   "outputs": [],
   "source": []
  }
 ],
 "metadata": {
  "kernelspec": {
   "display_name": "Python 3 (ipykernel)",
   "language": "python",
   "name": "python3"
  },
  "language_info": {
   "codemirror_mode": {
    "name": "ipython",
    "version": 3
   },
   "file_extension": ".py",
   "mimetype": "text/x-python",
   "name": "python",
   "nbconvert_exporter": "python",
   "pygments_lexer": "ipython3",
   "version": "3.10.8"
  }
 },
 "nbformat": 4,
 "nbformat_minor": 5
}
