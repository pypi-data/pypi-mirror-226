{
 "cells": [
  {
   "cell_type": "markdown",
   "id": "7e8cd83a-a62a-4f77-abe7-4684e9d95c5c",
   "metadata": {},
   "source": [
    "# Sample Time Series Data Generator\n",
    "\n",
    "Use this notebook to generate sample timeseries data and save it in an output directory for testing the VAI Utils Time Series Module"
   ]
  },
  {
   "cell_type": "code",
   "execution_count": null,
   "id": "385174e9-82b0-4759-b3b0-1b2ce9c53aef",
   "metadata": {},
   "outputs": [],
   "source": [
    "import numpy as np \n",
    "import pandas as pd \n",
    "from datetime import datetime"
   ]
  },
  {
   "cell_type": "code",
   "execution_count": null,
   "id": "346688d0-efad-4e31-b72d-84153d0d6e9b",
   "metadata": {},
   "outputs": [],
   "source": [
    "OUTPUT_PATH = 'data/random_no_target'\n",
    "START_DATE = pd.to_datetime('2023-01-01')\n",
    "END_DATE = pd.to_datetime('2024-01-01')"
   ]
  },
  {
   "cell_type": "code",
   "execution_count": null,
   "id": "b3ee2dc3-2f91-49ce-950e-19ac8cf28f06",
   "metadata": {},
   "outputs": [],
   "source": [
    "def to_vai_format(df, path): \n",
    "    \"\"\"Saves csvs by date (MM-DD-YYYY.csv) with a HH:MM:SS column in the specified path.  \n",
    "    \n",
    "    Args: \n",
    "        df (pandas.DataFrame): dataframe with datetime index\n",
    "        path (string): top level directory to save csvs\n",
    "        \n",
    "    Returns: \n",
    "        None\n",
    "    \"\"\"\n",
    "    for date, group in df.groupby(df.index.date):\n",
    "        group.index.name = 'datetime'\n",
    "        filename = date.strftime(\"%m-%d-%Y\")\n",
    "        group['HH:MM:SS'] = group.index.strftime(\"%H:%M:%S\")        \n",
    "        group.to_csv(path + '/' + filename + \".csv\")"
   ]
  },
  {
   "cell_type": "code",
   "execution_count": null,
   "id": "5d4271d8-d738-4fed-abbb-b74547b03aab",
   "metadata": {},
   "outputs": [],
   "source": [
    "def random_dates(start, end, n=31537):\n",
    "    \"\"\"Generates some number of random datetimes \n",
    "    \n",
    "    Args:\n",
    "        start (pandas.Timestamp): pd timestamp start \n",
    "        end (pandas.Timestamp): pd timestamp end \n",
    "        n (int): number of samples to generate \n",
    "    \n",
    "    Returns: \n",
    "        pandas.DatetimeIndex: datetime index with n random datetimes \n",
    "    \n",
    "    \"\"\"\n",
    "    start_u = start.value//10**9\n",
    "    end_u = end.value//10**9\n",
    "\n",
    "    return pd.to_datetime(np.random.randint(start_u, end_u, n), unit='s').sort_values()"
   ]
  },
  {
   "cell_type": "code",
   "execution_count": null,
   "id": "16aff46e-3439-4b9e-b277-0dd97334e436",
   "metadata": {},
   "outputs": [],
   "source": [
    "date_rng = random_dates(START_DATE, END_DATE)"
   ]
  },
  {
   "cell_type": "code",
   "execution_count": null,
   "id": "8afac5e3-70fc-4b29-9fbb-947042d85d72",
   "metadata": {},
   "outputs": [],
   "source": [
    "# Generate random features \n",
    "num_features = 10 \n",
    "features = np.random.rand(len(date_rng), num_features)"
   ]
  },
  {
   "cell_type": "code",
   "execution_count": null,
   "id": "39c6899f-ac28-466f-bc3c-885fb5343ee5",
   "metadata": {},
   "outputs": [],
   "source": [
    "df = pd.DataFrame(index=date_rng, data=features)"
   ]
  },
  {
   "cell_type": "code",
   "execution_count": null,
   "id": "90e284b8-7937-4750-871f-d98b54a7eff6",
   "metadata": {},
   "outputs": [],
   "source": [
    "to_vai_format(df, OUTPUT_PATH)"
   ]
  },
  {
   "cell_type": "code",
   "execution_count": null,
   "id": "9cc2fdba-7618-4a02-b508-8a35f995ee22",
   "metadata": {},
   "outputs": [],
   "source": []
  }
 ],
 "metadata": {
  "kernelspec": {
   "display_name": "Python 3 (ipykernel)",
   "language": "python",
   "name": "python3"
  },
  "language_info": {
   "codemirror_mode": {
    "name": "ipython",
    "version": 3
   },
   "file_extension": ".py",
   "mimetype": "text/x-python",
   "name": "python",
   "nbconvert_exporter": "python",
   "pygments_lexer": "ipython3",
   "version": "3.10.8"
  }
 },
 "nbformat": 4,
 "nbformat_minor": 5
}
