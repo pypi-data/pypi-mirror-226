{
 "cells": [
  {
   "cell_type": "code",
   "execution_count": 43,
   "metadata": {},
   "outputs": [
    {
     "data": {
      "application/vnd.jupyter.widget-view+json": {
       "model_id": "c9087d07175043fe944bdbbc4354314a",
       "version_major": 2,
       "version_minor": 0
      },
      "text/plain": [
       "VBox(children=(HBox(children=(Select(description='Presets', layout=Layout(max_height='300px', min_width='400px…"
      ]
     },
     "metadata": {},
     "output_type": "display_data"
    }
   ],
   "source": [
    "import ipywidgets as ipw\n",
    "import np_session \n",
    "import IPython \n",
    "import enum\n",
    "\n",
    "class Workflow(enum.Enum):\n",
    "    TEST = \"test\"\n",
    "    EPHYS = \"ephys\"\n",
    "    \n",
    "class Experiment:\n",
    "    task_name: str = \"\"\n",
    "    preset_task_names = (\"test1\", \"ephys aud\",\"ephys vis\")\n",
    "    mouse = np_session.Mouse(0)\n",
    "    \n",
    "def task_select_widget(\n",
    "    experiment,\n",
    ") -> None:\n",
    "    \"\"\"Select a task name for controlling behavior of TaskControl.\n",
    "    \"\"\"\n",
    "    task_dropdown = ipw.Select(\n",
    "        options=tuple(set(task for task in experiment.preset_task_names)),\n",
    "        description=\"Presets\",\n",
    "        layout=ipw.Layout(min_width=\"400px\", max_height=\"400px\"),\n",
    "    )\n",
    "    task_input_box = ipw.Text(\n",
    "        value=experiment.task_name if isinstance(experiment.task_name, str) else \"\",\n",
    "        continuous_update=False,\n",
    "    )\n",
    "    console = ipw.Output()\n",
    "    with console:\n",
    "        if last_task:= experiment.mouse.state.get('last_task'):\n",
    "            print(f\"{experiment.mouse} last task: {last_task}\")\n",
    "\n",
    "    def update(change):\n",
    "        if change[\"name\"] != \"value\":\n",
    "            return\n",
    "        if (options := getattr(change[\"owner\"], \"options\", None)) and change[\n",
    "            \"new\"\n",
    "        ] not in options:\n",
    "            return\n",
    "        if change[\"new\"] == change[\"old\"]:\n",
    "            return\n",
    "        print(change)\n",
    "        if change[\"owner\"] is task_dropdown:\n",
    "            experiment.task_name = str(task_dropdown.value)\n",
    "            task_input_box.value = experiment.task_name\n",
    "            return\n",
    "        elif change[\"owner\"] is task_input_box:\n",
    "            experiment.task_name = str(task_input_box.value)\n",
    "            if str(task_dropdown.value) != experiment.task_name:\n",
    "                task_dropdown.value = None\n",
    "        with console:\n",
    "            print(f\"Updated task: {experiment.task_name}\")\n",
    "    task_dropdown.observe(update, names='value')\n",
    "    task_input_box.observe(update, names='value')\n",
    "\n",
    "    IPython.display.display(ipw.VBox([ipw.HBox([task_dropdown, task_input_box]), console]))\n",
    "task_select_widget(Experiment())"
   ]
  },
  {
   "cell_type": "code",
   "execution_count": 1,
   "metadata": {},
   "outputs": [
    {
     "name": "stdout",
     "output_type": "stream",
     "text": [
      "env: AIBS_RIG_ID=NP1\n"
     ]
    }
   ],
   "source": [
    "%env AIBS_RIG_ID=NP1\n",
    "# for testing"
   ]
  },
  {
   "cell_type": "code",
   "execution_count": 2,
   "metadata": {},
   "outputs": [
    {
     "data": {
      "application/vnd.jupyter.widget-view+json": {
       "model_id": "341ff1cf69074a479bdf167882644481",
       "version_major": 2,
       "version_minor": 0
      },
      "text/plain": [
       "ToggleButton(value=True, button_style='info', description='Quiet mode is on', icon='check', tooltip='Quiet mod…"
      ]
     },
     "metadata": {},
     "output_type": "display_data"
    }
   ],
   "source": [
    "%load_ext autoreload\n",
    "%autoreload 2\n",
    "import np_workflows \n",
    "import IPython.display\n",
    "import np_services\n",
    "np_workflows.quiet_mode_widget()"
   ]
  },
  {
   "cell_type": "code",
   "execution_count": 3,
   "metadata": {},
   "outputs": [
    {
     "data": {
      "application/vnd.jupyter.widget-view+json": {
       "model_id": "2c14eaef17634ba2b2654f5d0acf6ddb",
       "version_major": 2,
       "version_minor": 0
      },
      "text/plain": [
       "VBox(children=(Select(description='User:', options=('hannah.belski', 'hannah.cabasco', 'henry.loeffler', 'ryan…"
      ]
     },
     "metadata": {},
     "output_type": "display_data"
    }
   ],
   "source": [
    "import np_workflows.experiments.templeton as Templeton\n",
    "user, mouse = np_workflows.user_and_mouse_widget()"
   ]
  },
  {
   "cell_type": "code",
   "execution_count": 5,
   "metadata": {},
   "outputs": [
    {
     "data": {
      "application/vnd.jupyter.widget-view+json": {
       "model_id": "5817845edeed456d986bf5cc5a340972",
       "version_major": 2,
       "version_minor": 0
      },
      "text/plain": [
       "VBox(children=(Select(description='Workflow', options=('test', 'hab: stage 2 aud', 'ephys: stage 2 aud', 'hab:…"
      ]
     },
     "metadata": {},
     "output_type": "display_data"
    },
    {
     "data": {
      "text/plain": [
       "TempletonSelectedWorkflow(TempletonWorkflow.PRETEST, 366122)"
      ]
     },
     "execution_count": 5,
     "metadata": {},
     "output_type": "execute_result"
    }
   ],
   "source": [
    "from np_workflows.experiments.templeton.templeton_widgets import workflow_select_widget\n",
    "workflow_select_widget(mouse)"
   ]
  },
  {
   "cell_type": "code",
   "execution_count": 8,
   "metadata": {},
   "outputs": [
    {
     "data": {
      "application/vnd.jupyter.widget-view+json": {
       "model_id": "5b2826cc177c42c68e778086be64e7de",
       "version_major": 2,
       "version_minor": 0
      },
      "text/plain": [
       "ProbeTargetInsertionRecordWidget(children=(Output(), VBox(children=(HBox(children=(VBox(children=(SelectionSli…"
      ]
     },
     "metadata": {},
     "output_type": "display_data"
    }
   ],
   "source": [
    "import np_workflows.experiments.templeton as Templeton\n",
    "import pathlib, IPython.display, np_probe_targets, contextlib\n",
    "\n",
    "COMBO_1 = np_probe_targets.ProbeInsertionsTempleton({\n",
    "    'A':'A1',\n",
    "    'B':'B1', # or B3\n",
    "    'C':'C2',\n",
    "    'D': None,\n",
    "    'E': None,\n",
    "    'F':'F1',\n",
    "    }\n",
    ")\n",
    "COMBO_2 = np_probe_targets.ProbeInsertionsTempleton({\n",
    "    'A':'A2', # or A3\n",
    "    'B':'B2',\n",
    "    'C':'C1', # or C4\n",
    "    'D': 'D1',\n",
    "    'E': None,\n",
    "    'F':'F2',\n",
    "    }\n",
    ")\n",
    "    \n",
    "targets = COMBO_2\n",
    "\n",
    "targets.save_dir = pathlib.Path('//allen/programs/mindscope/workgroups/dynamicrouting/ben')\n",
    "with contextlib.suppress(Exception):\n",
    "    targets.save_dir = experiment.npexp_path\n",
    "    \n",
    "    \n",
    "IPython.display.display(\n",
    "    np_probe_targets.ProbeTargetInsertionRecordWidget(\n",
    "        targets, \n",
    "        implant_drawing=np_probe_targets.TempletonDrawingSVGProbeColormap, \n",
    "        # implant_drawing=np_probe_targets.TempletonDrawingSVGComboColormap, \n",
    "        current_insertion_group=np_probe_targets.ProbeInsertionsTempleton)\n",
    "    )"
   ]
  },
  {
   "cell_type": "code",
   "execution_count": null,
   "metadata": {},
   "outputs": [],
   "source": [
    "\n",
    "user, mouse = np_workflows.user_and_mouse_widget()"
   ]
  },
  {
   "cell_type": "code",
   "execution_count": null,
   "metadata": {},
   "outputs": [],
   "source": [
    "np_workflows.mtrain_widget(668800)"
   ]
  },
  {
   "cell_type": "code",
   "execution_count": null,
   "metadata": {},
   "outputs": [],
   "source": [
    "import np_session, np_tools\n",
    "\n",
    "for session in np_session.sessions():\n",
    "    if not isinstance(session, np_session.PipelineSession):\n",
    "        continue\n",
    "    if not session.lims_path:\n",
    "        continue\n",
    "    for probes in (f'{session.folder}_probe{suffix}' for suffix in ('ABC', 'DEF')):\n",
    "        if (\n",
    "            npexp := (session.npexp_path / probes)\n",
    "        ).exists() and (\n",
    "            lims := (session.lims_path / probes)\n",
    "        ).exists():\n",
    "            for data in npexp.rglob('*continuous.dat'):\n",
    "                lims_copy = lims / data.relative_to(npexp)\n",
    "                sizes_match = data.stat().st_size == lims_copy.stat().st_size\n",
    "                if not sizes_match:\n",
    "                    print(f'{npexp} sizes do not match')\n",
    "                    continue\n",
    "                if np_tools.checksums_match(data, lims / data.relative_to(npexp)):\n",
    "                    data.unlink()"
   ]
  },
  {
   "cell_type": "code",
   "execution_count": null,
   "metadata": {},
   "outputs": [],
   "source": []
  },
  {
   "cell_type": "code",
   "execution_count": null,
   "metadata": {},
   "outputs": [],
   "source": [
    "import np_session\n",
    "session = np_session.Session(1263794343)"
   ]
  },
  {
   "cell_type": "code",
   "execution_count": null,
   "metadata": {},
   "outputs": [],
   "source": [
    "np_workflows.mtrain_widget('668800')"
   ]
  },
  {
   "cell_type": "code",
   "execution_count": null,
   "metadata": {},
   "outputs": [],
   "source": [
    "experiment.session = session"
   ]
  },
  {
   "cell_type": "code",
   "execution_count": null,
   "metadata": {},
   "outputs": [],
   "source": [
    "for _ in experiment.services:\n",
    "    try:\n",
    "        print(_.get_latest_data())\n",
    "    except:\n",
    "        pass"
   ]
  },
  {
   "cell_type": "code",
   "execution_count": null,
   "metadata": {},
   "outputs": [],
   "source": [
    "experiment = TTN.Ephys(mouse, user)"
   ]
  },
  {
   "cell_type": "code",
   "execution_count": null,
   "metadata": {},
   "outputs": [],
   "source": [
    "import np_workflows.experiments.task_trained_network as TTN\n"
   ]
  },
  {
   "cell_type": "code",
   "execution_count": null,
   "metadata": {},
   "outputs": [],
   "source": [
    "np_services.Sync.get_latest_data()"
   ]
  },
  {
   "cell_type": "code",
   "execution_count": null,
   "metadata": {},
   "outputs": [],
   "source": [
    "print(dye_info_widget.__doc__)"
   ]
  },
  {
   "cell_type": "code",
   "execution_count": null,
   "metadata": {},
   "outputs": [],
   "source": [
    "import contextlib\n",
    "from np_workflows import npxc \n",
    "import np_session\n",
    "import ipywidgets as ipw\n",
    "\n",
    "def dye_info_widget(session: np_session.Session) -> IPython.display.DisplayHandle | None:\n",
    "    \"\"\"`di_widget`, with dye entries in a database.\n",
    "    \n",
    "    - scan barcode or enter ID number for the dye used\n",
    "    - change dye description if incorrect (DiI, DiO)\n",
    "    - increment number of times probes were dipped this session\n",
    "    - hit `Save` to store info in platform.json\n",
    "    \"\"\"\n",
    "    \n",
    "    di_info: dict[str, int | str] = dict(\n",
    "        EndTime=0, StartTime=npxc.now(), dii_description=\"\", times_dipped=0, previous_uses=\"\",\n",
    "    )\n",
    "    di_info.update(session.platform_json.DiINotes)\n",
    "    \n",
    "    width = lambda w: ipw.Layout(max_width=f'{w}px')\n",
    "    \n",
    "    dye_id_entry = ipw.Text(value=None, description='Dye ID', layout=width(250), placeholder='Enter ID or scan barcode')\n",
    "    dye_usage_button = ipw.Button(description='Record single use', button_style='warning', layout=width(180))\n",
    "    first_usage = ipw.Text(value='', description=\"First use\", layout=width(250), disabled=True)\n",
    "    dye_dropdown = ipw.Dropdown(description=\"Description:\", options=np_session.Dye.descriptions, layout=width(180))\n",
    "    dipped_counter = ipw.IntText(value=di_info['times_dipped'], min=0, max=99, description=\"Dipped count\", layout=width(150))\n",
    "    usage_counter = ipw.IntText(value=int(di_info['previous_uses']), min=0, max=99, description=\"Previous uses\", layout=width(180), disabled=True)\n",
    "    save_button = ipw.Button(description='Save', button_style='warning', layout=width(180))\n",
    "    if (desc := di_info['dii_description']) in np_session.Dye.descriptions:\n",
    "        dye_dropdown.value = desc\n",
    "        \n",
    "    def update_display(_):\n",
    "        with contextlib.suppress(Exception):\n",
    "            dye = np_session.Dye(int(str(dye_id_entry.value)))\n",
    "            dye_dropdown.value = dye.description\n",
    "            usage_counter.value = dye.previous_uses\n",
    "            first_usage.value = f'{dye.first_use}'\n",
    "    dye_id_entry.observe(update_display, 'value')\n",
    "    \n",
    "    def record_dye_usage():\n",
    "        with contextlib.suppress(Exception):\n",
    "            dye = np_session.Dye(int(str(dye_id_entry.value)))\n",
    "            dye.description = dye_dropdown.value\n",
    "            dye.increment_uses()\n",
    "        \n",
    "    def update_di_info():\n",
    "        di_info['EndTime'] = npxc.now()\n",
    "        di_info['times_dipped'] = str(dipped_counter.value)\n",
    "        di_info['dii_description'] = str(dye_dropdown.value)\n",
    "        di_info['previous_uses'] = str(usage_counter.value)\n",
    "        \n",
    "    def on_click(b):\n",
    "        update_di_info()\n",
    "        record_dye_usage()\n",
    "        session.platform_json.DiINotes = di_info\n",
    "        save_button.description = 'Saved'\n",
    "        save_button.button_style = 'success'\n",
    "        \n",
    "    save_button.on_click(on_click)\n",
    "    return IPython.display.display(ipw.VBox([\n",
    "        dye_id_entry,\n",
    "        dipped_counter, dye_dropdown, \n",
    "        usage_counter, first_usage, save_button]))\n",
    "\n",
    "import IPython.display\n",
    "# IPython.display.display(\n",
    "dye_info_widget(np_session.Session('1246096278_366122_20230209'))\n",
    "# np_workflows.di_widget(np_session.Session('1246096278_366122_20230209'))\n",
    "# )   \n"
   ]
  },
  {
   "cell_type": "code",
   "execution_count": null,
   "metadata": {},
   "outputs": [],
   "source": [
    "import np_session\n",
    "mouse = np_session.LIMS2MouseInfo(661728)\n",
    "exp_id = mouse.isi_id\n",
    "exps = mouse.isi_info['isi_experiments']\n",
    "isi = [e for e in exps if e['id'] == exp_id]"
   ]
  },
  {
   "cell_type": "code",
   "execution_count": null,
   "metadata": {},
   "outputs": [],
   "source": [
    "mouse.isi_id"
   ]
  },
  {
   "cell_type": "code",
   "execution_count": null,
   "metadata": {},
   "outputs": [],
   "source": [
    "from np_workflows import npxc \n",
    "import ipywidgets as ipw\n",
    "\n",
    "def di_widget(session: np_session.Session) -> IPython.display.DisplayHandle | None:\n",
    "    \"Supply a path or a platform json instance. Saves a JSON file with the dye used in the session and a timestamp.\"\n",
    "\n",
    "    di_info: dict[str, int | str] = dict(\n",
    "        EndTime=0, StartTime=npxc.now(), dii_description=\"\", times_dipped=0, previous_uses=\"\",\n",
    "    )\n",
    "    di_info.update(session.platform_json.DiINotes)\n",
    "    \n",
    "    layout = ipw.Layout(max_width='180px')\n",
    "    dipped_counter = ipw.IntText(value=0, min=0, max=99, description=\"Dipped count\", layout=layout)\n",
    "    usage_counter = ipw.IntText(value=session, min=0, max=99, description=\"Previous uses\", layout=layout)\n",
    "    dye_dropdown = ipw.Dropdown(options=['CM-DiI 100%', 'DiO'], layout=layout)\n",
    "    save_button = ipw.Button(description='Save', button_style='warning', layout=layout)\n",
    "    \n",
    "    def update_di_info():\n",
    "        di_info['EndTime'] = npxc.now()\n",
    "        di_info['times_dipped'] = str(dipped_counter.value)\n",
    "        di_info['dii_description'] = str(dye_dropdown.value)\n",
    "        di_info['previous_uses'] = str(usage_counter.value)\n",
    "        \n",
    "    def on_click(b):\n",
    "        update_di_info()\n",
    "        session.platform_json.DiINotes = di_info\n",
    "        save_button.description = 'Saved'\n",
    "        save_button.button_style = 'success'\n",
    "        \n",
    "    save_button.on_click(on_click)\n",
    "    return IPython.display.display(ipw.VBox([\n",
    "        dipped_counter, dye_dropdown, \n",
    "        usage_counter, save_button]))\n",
    "\n",
    "import IPython.display\n",
    "IPython.display.display(\n",
    "    di_widget(np_session.Session('1246096278_366122_20230209'))\n",
    ")"
   ]
  },
  {
   "cell_type": "code",
   "execution_count": null,
   "metadata": {},
   "outputs": [],
   "source": [
    "np_workflows.isi_widget(661728)"
   ]
  },
  {
   "cell_type": "code",
   "execution_count": null,
   "metadata": {},
   "outputs": [],
   "source": [
    "np_workflows.restart_kernel()\n",
    "from ipylab import JupyterFrontEnd\n",
    "\n",
    "app = JupyterFrontEnd()\n",
    "app.commands.execute('kernelmenu:restart')\n",
    "np_services"
   ]
  },
  {
   "cell_type": "code",
   "execution_count": null,
   "metadata": {},
   "outputs": [],
   "source": [
    "import np_workflows \n",
    "import IPython.display\n",
    "import np_services\n",
    "_ = np_workflows.npxc.now()\n",
    "np_services.normalize_time(_)"
   ]
  },
  {
   "cell_type": "code",
   "execution_count": null,
   "metadata": {},
   "outputs": [],
   "source": [
    "import np_logging\n",
    "logger =np_logging.getLogger()\n",
    "import np_config"
   ]
  },
  {
   "cell_type": "code",
   "execution_count": null,
   "metadata": {},
   "outputs": [],
   "source": [
    "folders = np_services.OpenEphys.data_files\n",
    "folders = [np_config.local_to_unc(np_config.Rig().acq, f'{_}:/1247605185_366122_20230215') for _ in 'AB']\n",
    "if not folders:\n",
    "    logger.info('Renaming: no ephys folders have been recorded')\n",
    "for name in set(_.name for _ in folders):\n",
    "    if length := len(split_folders := [_ for _ in folders if _.name == name]) != 2:\n",
    "        logger.info(f'Renaming: {length} folders found for {name}, expected 2 - aborted')\n",
    "        # return\n",
    "    logger.debug('Renaming split ephys folders %r', split_folders)\n",
    "    for folder, probe_letters in zip(sorted(split_folders, key=lambda x: x.as_posix()), ('ABC', 'DEF')):\n",
    "        folder.replace(folder.with_name(f'{name}_probe{probe_letters}'))\n",
    "    logger.debug('Renaming split ephys folders %r', split_folders)\n"
   ]
  },
  {
   "cell_type": "code",
   "execution_count": null,
   "metadata": {},
   "outputs": [],
   "source": [
    "np_workflows.quiet_mode_widget()"
   ]
  },
  {
   "cell_type": "code",
   "execution_count": null,
   "metadata": {},
   "outputs": [],
   "source": [
    "import np_logging\n",
    "np_logging.get_logger().info(' ')\n",
    "np_logging.get_logger().debug(' ')\n",
    "1/0"
   ]
  },
  {
   "cell_type": "code",
   "execution_count": null,
   "metadata": {},
   "outputs": [],
   "source": [
    "user, mouse = np_workflows.user_and_mouse_widget()"
   ]
  },
  {
   "cell_type": "code",
   "execution_count": null,
   "metadata": {},
   "outputs": [],
   "source": [
    "#! for testing\n",
    "import np_session, np_services\n",
    "\n",
    "session = np_session.Session('1246096278_366122_20230209')\n",
    "session_folder = session.npexp_path\n",
    "platform_json = session.platform_json\n",
    "session.platform_json.path\n",
    "session.platform_json.mouseID = 366122\n",
    "print(session.platform_json.path)\n",
    "IPython.display.JSON(session.platform_json.path)"
   ]
  },
  {
   "cell_type": "code",
   "execution_count": null,
   "metadata": {},
   "outputs": [],
   "source": [
    "import np_session\n",
    "session = np_session.Session('1246096278_366122_20230209')\n"
   ]
  },
  {
   "cell_type": "code",
   "execution_count": null,
   "metadata": {},
   "outputs": [],
   "source": [
    "%%timeit\n",
    "_ = np_config.from_zk('logins')"
   ]
  },
  {
   "cell_type": "code",
   "execution_count": null,
   "metadata": {},
   "outputs": [],
   "source": [
    "%%timeit\n",
    "session.state['test'] = session.platform_json.json()"
   ]
  },
  {
   "cell_type": "code",
   "execution_count": null,
   "metadata": {},
   "outputs": [],
   "source": [
    "%%timeit\n",
    "session.state['test'] = 1"
   ]
  },
  {
   "cell_type": "code",
   "execution_count": null,
   "metadata": {},
   "outputs": [],
   "source": [
    "%%timeit\n",
    "_ = session.state['test']"
   ]
  },
  {
   "cell_type": "code",
   "execution_count": null,
   "metadata": {},
   "outputs": [],
   "source": [
    "%%timeit\n",
    "_ = session.platform_json.path.stat().st_mtime"
   ]
  },
  {
   "cell_type": "code",
   "execution_count": null,
   "metadata": {},
   "outputs": [],
   "source": [
    "%%timeit\n",
    "session.platform_json.load_from_existing()"
   ]
  },
  {
   "cell_type": "code",
   "execution_count": null,
   "metadata": {},
   "outputs": [],
   "source": [
    "%%timeit\n",
    "session.platform_json.path.read_bytes()"
   ]
  },
  {
   "cell_type": "code",
   "execution_count": null,
   "metadata": {},
   "outputs": [],
   "source": [
    "%%timeit\n",
    "session.platform_json.path.read_text()"
   ]
  },
  {
   "cell_type": "code",
   "execution_count": null,
   "metadata": {},
   "outputs": [],
   "source": [
    "def insertion_notes_widget(session: np_session.Session):\n",
    "    \n",
    "    probes = 'ABCDEF'\n",
    "    probe = lambda _: f'Probe{_}'\n",
    "    fields = (\n",
    "        \"FailedToInsert\",\n",
    "        # \"ProbeLocationChanged\",\n",
    "        # \"ProbeBendingOnSurface\",\n",
    "        # \"ProbeBendingElsewhere\",\n",
    "    )\n",
    "    # \"NumAgarInsertions\",\n",
    "    \n",
    "    get_notes = lambda _: session.platform_json.InsertionNotes.get(probe(_), {}).get('Notes', '')\n",
    "    get_field = lambda _, field: session.platform_json.InsertionNotes.get(probe(_), {}).get(field, None)\n",
    "    \n",
    "    def disp_str(s): # split PascalCase fieldname into 'Title case' words\n",
    "        matches = re.finditer('.+?(?:(?<=[a-z])(?=[A-Z])|(?<=[A-Z])(?=[A-Z][a-z])|$)', s)\n",
    "        return ' '.join([m.group(0) for m in matches]).lower().capitalize()\n",
    "    save_str = lambda s: ''.join([_.capitalize() for _ in s.split(' ')])\n",
    "    \n",
    "    row = lambda *args: ipw.HBox([*args])\n",
    "    probe_row = lambda p: row(\n",
    "        ipw.Text(value=get_notes(p), placeholder='Insertion notes', description=disp_str(probe(p).strip('Probe ')), layout=ipw.Layout(width='auto', min_width='400px')),\n",
    "        *(ipw.Checkbox(value=get_field(p, field), description=disp_str(field)) for field in fields),\n",
    "        )\n",
    "    button = ipw.Button(description=\"Save\", button_style='warning')\n",
    "    console = ipw.Output()\n",
    "    \n",
    "    rows = [probe_row(p) for p in probes]\n",
    "    widget = ipw.VBox([*rows, button, console])\n",
    "    \n",
    "    def save(b):\n",
    "        d = {}\n",
    "        for letter, row in zip(probes, rows):\n",
    "            p = d.get(probe(letter), {})\n",
    "            for widget in row.children:\n",
    "                v = widget.value\n",
    "                if v in (None, False, ''):\n",
    "                    continue\n",
    "                if isinstance(widget, ipw.Text):\n",
    "                    p['Notes'] = widget.value\n",
    "                if isinstance(widget, ipw.Checkbox):\n",
    "                    p[save_str(widget.description)] = widget.value\n",
    "            if p:\n",
    "                d[probe(letter)] = p  \n",
    "        \n",
    "        session.platform_json.InsertionNotes = d \n",
    "        with console:\n",
    "            print('Updated notes')\n",
    "        button.button_style = 'success'\n",
    "        \n",
    "    button.on_click(save)\n",
    "    return IPython.display.display(widget)\n",
    "\n",
    "insertion_notes_widget(session)"
   ]
  },
  {
   "cell_type": "code",
   "execution_count": null,
   "metadata": {},
   "outputs": [],
   "source": [
    "import ipywidgets as ipw\n",
    "import IPython.display\n",
    "import np_session\n",
    "import re\n",
    "\n",
    "def probe_notes_widget(session: np_session.Session):\n",
    "    \n",
    "    probes = 'ABCDEF'\n",
    "    probe = lambda _: f'Probe{_}'\n",
    "    \n",
    "    entry = lambda: session.platform_json.InsertionNotes\n",
    "    \n",
    "    get_notes = lambda _: entry().get(probe(_), {}).get('Notes', '')\n",
    "    set_notes = lambda _, value: entry().setdefault(probe(_), {}).update({'Notes': value} if value else {})\n",
    "    \n",
    "    def disp_str(s): # split PascalCase fieldname into 'Title case' words\n",
    "        matches = re.finditer('.+?(?:(?<=[a-z])(?=[A-Z])|(?<=[A-Z])(?=[A-Z][a-z])|$)', s)\n",
    "        return ' '.join([m.group(0) for m in matches]).lower().capitalize()\n",
    "    \n",
    "    save_str = lambda s: ''.join([_.capitalize() for _ in s.split(' ')])\n",
    "    \n",
    "    fields = (\n",
    "        \"FailedToInsert\",\n",
    "        # \"ProbeLocationChanged\",\n",
    "        # \"ProbeBendingOnSurface\",\n",
    "        # \"ProbeBendingElsewhere\",\n",
    "    )\n",
    "    # \"NumAgarInsertions\",\n",
    "    \n",
    "    get_field = lambda _, field: entry().get(probe(_), {}).get(field, None)\n",
    "    set_field = lambda _, field, value: entry().setdefault(probe(_), {}).update({field: value} if value in (True, False) else {})\n",
    "    \n",
    "    row = lambda *args: ipw.HBox([*args])\n",
    "    probe_row = lambda p: row(\n",
    "        ipw.Text(value=get_notes(p), placeholder='Insertion notes', description=disp_str(probe(p).strip('Probe ')), layout=ipw.Layout(width='auto', min_width='400px')),\n",
    "        *(ipw.Checkbox(value=get_field(p, field), description=disp_str(field)) for field in fields),\n",
    "        )\n",
    "    button = ipw.Button(description=\"Save\", button_style='warning')\n",
    "    console = ipw.Output()\n",
    "    \n",
    "    rows = [probe_row(p) for p in probes]\n",
    "    widget = ipw.VBox([*rows, button, console])\n",
    "    \n",
    "    def save(b):\n",
    "        d = {}\n",
    "        for probe, row in zip(probes, rows):\n",
    "            for widget in row.children:\n",
    "                if not widget.value:\n",
    "                    continue\n",
    "                if isinstance(widget, ipw.Text):\n",
    "                    set_notes(probe, widget.value)\n",
    "                if isinstance(widget, ipw.Checkbox):\n",
    "                    set_field(probe, save_str(widget.description), widget.value)\n",
    "        with console:\n",
    "            print(entry())\n",
    "        button.button_style = 'success'\n",
    "        \n",
    "    button.on_click(save)\n",
    "    return IPython.display.display(widget)\n",
    "\n",
    "probe_notes_widget(session)"
   ]
  },
  {
   "cell_type": "code",
   "execution_count": null,
   "metadata": {},
   "outputs": [],
   "source": [
    "mc = np_session.Session('1252811121_661730_20230309').platform_json.manipulator_coordinates\n",
    "session = np_session.Session('1246096278_366122_20230209')\n",
    "mc.update({'pre_experiment_surface_image': {_ : {'x': 1, 'y': 2, 'z': 3000} for _ in 'ABCDEF'}})\n",
    "mc.update({'post_experiment_surface_image': {_ : {'x': 1, 'y': 2, 'z': 6000.5} for _ in 'ABCDEF'}})\n",
    "mc.update({'post_insertion_surface_image': {_ : {'x': 1, 'y': 2, 'z': 1000.2} for _ in 'ABCDEF'}})\n",
    "mc.update({'pre_insertion_surface_image': {_ : {'x': 1, 'y': 2, 'z': 3} for _ in 'ABCDEF'}})\n",
    "mc.update({'post_experiment_brain_surface_image': {_ : {'x': 1, 'y': 2, 'z': 3000} for _ in 'ABCDEF'}})\n",
    "session.platform_json.manipulator_coordinates = mc"
   ]
  },
  {
   "cell_type": "code",
   "execution_count": null,
   "metadata": {},
   "outputs": [],
   "source": [
    "session.platform_json.manipulator_coordinates"
   ]
  },
  {
   "cell_type": "code",
   "execution_count": null,
   "metadata": {},
   "outputs": [],
   "source": [
    "probes = 'ABCDEF'\n",
    "dict.fromkeys(probes, dict(x=0, y=0, z=0))"
   ]
  },
  {
   "cell_type": "code",
   "execution_count": null,
   "metadata": {},
   "outputs": [],
   "source": [
    "np_workflows.print_countdown_timer(minutes=1)"
   ]
  },
  {
   "cell_type": "code",
   "execution_count": null,
   "metadata": {},
   "outputs": [],
   "source": [
    "import ipywidgets as ipw\n",
    "import IPython.display\n",
    "import np_session\n",
    "import re\n",
    "\n",
    "def probe_depth_widget(session: np_session.Session):\n",
    "    \n",
    "    probes = 'ABCDEF'\n",
    "    \n",
    "    coords = lambda: session.platform_json.manipulator_coordinates\n",
    "    \n",
    "    if not coords():\n",
    "        logger.warning(\"No photodocs have been captured yet.\")\n",
    "    \n",
    "    probe_coords = lambda img: coords().get(img, dict.fromkeys(probes, dict(x=None, y=None, z=None)))\n",
    "    field_str = lambda s: '_'.join(s.split(' ')).lower() + '_surface_image' if s else ''\n",
    "    \n",
    "    selection = ipw.ToggleButtons(\n",
    "    options=[' '.join(_.strip('_surface_image').split('_')).capitalize() for _ in coords().keys()],\n",
    "    description='Probe depth',\n",
    "    disabled=False,\n",
    "    button_style='', # 'success', 'info', 'warning', 'danger' or ''\n",
    "    tooltips=[field_str(_) for _ in coords().keys()],\n",
    "    )\n",
    "    \n",
    "    def update(_):\n",
    "        for probe in probes:\n",
    "            depth = probe_coords(field_str(selection.value))[probe][\"z\"]\n",
    "            textbox[probe].value = f'{depth:6.1f}' if depth is not None else ''\n",
    "            \n",
    "    textbox = {\n",
    "        probe: ipw.Text(\n",
    "        value='', description=probe, \n",
    "        layout=ipw.Layout(max_width='150px'),)\n",
    "        for probe in probes\n",
    "    }\n",
    "    selection.observe(update, 'value')\n",
    "    update(None)\n",
    "    widget = ipw.VBox([selection, ipw.HBox([*textbox.values()])])\n",
    "    return IPython.display.display(widget)\n",
    "\n",
    "# session.platform_json.manipulator_coordinates = {}\n",
    "probe_depth_widget(session)"
   ]
  },
  {
   "cell_type": "code",
   "execution_count": null,
   "metadata": {},
   "outputs": [],
   "source": [
    "session.platform_json.manipulator_coordinates"
   ]
  },
  {
   "cell_type": "code",
   "execution_count": null,
   "metadata": {},
   "outputs": [],
   "source": [
    "import ipywidgets as ipw\n",
    "import IPython.display\n",
    "import np_session\n",
    "\n",
    "def probe_notes_widget(session: np_session.Session):\n",
    "    probes = 'ABCDEF'\n",
    "    probe = lambda _: f'Probe{_}'\n",
    "    \n",
    "    entry = lambda: session.platform_json.InsertionNotes\n",
    "    \n",
    "    get_notes = lambda _: entry().get(probe(_), {}).get('Notes', '')\n",
    "    set_notes = lambda _, value: entry().setdefault(probe(_), {}).update({'Notes': value} if value else {})\n",
    "    \n",
    "    fields = (\n",
    "        \"ProbeLocationChanged\",\n",
    "        \"ProbeBendingOnSurface\",\n",
    "        \"NumAgarInsertions\",\n",
    "        \"FailedToInsert\",\n",
    "        \"ProbeBendingElsewhere\",\n",
    "    )\n",
    "    get_field = lambda _, field: entry().get(probe(_), {}).get(field, None)\n",
    "    set_field = lambda _, field, value: entry().setdefault(probe(_), {}).update({field: value} if value in (True, False) else {})\n",
    "    \n",
    "    row = lambda *args: ipw.HBox([*args])\n",
    "    probe_row = lambda p: row(\n",
    "        ipw.Text(value=get_notes(p), placeholder='Notes', description=probe(p), layout=ipw.Layout(width='auto')),\n",
    "        *(ipw.Checkbox(value=get_field(p, field), description=field) for field in fields),\n",
    "        )\n",
    "    button = ipw.Button(description=\"Save\", button_style='warning')\n",
    "    \n",
    "    widget = ipw.VBox([*map(probe_row, probes), button])\n",
    "    IPython.display.display(widget)\n",
    "\n",
    "probe_notes_widget(session)"
   ]
  },
  {
   "cell_type": "code",
   "execution_count": null,
   "metadata": {},
   "outputs": [],
   "source": [
    "np_workflows.di_widget(platform_json)"
   ]
  },
  {
   "cell_type": "code",
   "execution_count": null,
   "metadata": {},
   "outputs": [],
   "source": [
    "np_workflows.wheel_height_widget(platform_json)"
   ]
  },
  {
   "cell_type": "code",
   "execution_count": null,
   "metadata": {},
   "outputs": [],
   "source": [
    "np_workflows.pre_stim_check_widget()"
   ]
  },
  {
   "cell_type": "code",
   "execution_count": null,
   "metadata": {},
   "outputs": [],
   "source": [
    "experiment = np_workflows.Ephys(session.mouse, session.user)\n",
    "experiment.services"
   ]
  },
  {
   "cell_type": "code",
   "execution_count": null,
   "metadata": {},
   "outputs": [],
   "source": [
    "np_services.Cam3d.data_files"
   ]
  },
  {
   "cell_type": "code",
   "execution_count": null,
   "metadata": {},
   "outputs": [],
   "source": [
    "np_workflows.photodoc('sdf')"
   ]
  },
  {
   "cell_type": "code",
   "execution_count": null,
   "metadata": {},
   "outputs": [],
   "source": [
    "np_services.NewScaleCoordinateRecorder.read()"
   ]
  },
  {
   "cell_type": "code",
   "execution_count": null,
   "metadata": {},
   "outputs": [],
   "source": [
    "print(session.npexp_path)\n",
    "np_services.NewScaleCoordinateRecorder.log_root = session.npexp_path\n",
    "np_services.NewScaleCoordinateRecorder.log_name = session.platform_json.path.name\n",
    "np_services.NewScaleCoordinateRecorder.label = 'test3'\n",
    "# np_services.NewScaleCoordinateRecorder.initialize()\n",
    "print(f'Current newscale log file {np_services.NewScaleCoordinateRecorder.get_current_log()}')\n",
    "np_services.NewScaleCoordinateRecorder.start()\n",
    "print(session.platform_json.path)\n",
    "IPython.display.JSON(session.platform_json.path)"
   ]
  },
  {
   "cell_type": "code",
   "execution_count": null,
   "metadata": {},
   "outputs": [],
   "source": [
    "import datetime\n",
    "import np_config\n",
    "np_config.normalize_time(datetime.datetime.strptime('2023/03/06 14:19:45.992', '%Y/%m/%d %H:%M:%S.%f'))"
   ]
  },
  {
   "cell_type": "code",
   "execution_count": null,
   "metadata": {},
   "outputs": [],
   "source": [
    "np_workflows.check_hardware_widget()"
   ]
  },
  {
   "cell_type": "code",
   "execution_count": null,
   "metadata": {},
   "outputs": [],
   "source": [
    "np_workflows.check_mouse_widget()"
   ]
  },
  {
   "cell_type": "code",
   "execution_count": null,
   "metadata": {},
   "outputs": [],
   "source": [
    "np_workflows.check_openephys_widget()"
   ]
  },
  {
   "cell_type": "code",
   "execution_count": null,
   "metadata": {},
   "outputs": [],
   "source": [
    "np_workflows.elapsed_time_widget()"
   ]
  },
  {
   "cell_type": "code",
   "execution_count": null,
   "metadata": {},
   "outputs": [],
   "source": [
    "np_workflows.mtrain_widget(mouse)"
   ]
  },
  {
   "cell_type": "code",
   "execution_count": null,
   "metadata": {},
   "outputs": [],
   "source": [
    "np_workflows.photodoc_widget('test_image')"
   ]
  },
  {
   "cell_type": "code",
   "execution_count": null,
   "metadata": {},
   "outputs": [],
   "source": [
    "np_workflows.isi_widget(366122, colormap=False)"
   ]
  },
  {
   "cell_type": "code",
   "execution_count": null,
   "metadata": {},
   "outputs": [],
   "source": [
    "np_workflows.isi_widget(366122, colormap=True)"
   ]
  },
  {
   "cell_type": "code",
   "execution_count": null,
   "metadata": {},
   "outputs": [],
   "source": [
    "np_workflows.isi_widget(36612299999) # not in lims"
   ]
  },
  {
   "cell_type": "code",
   "execution_count": null,
   "metadata": {},
   "outputs": [],
   "source": [
    "np_workflows.isi_widget(636766) # no ISI map"
   ]
  },
  {
   "cell_type": "code",
   "execution_count": null,
   "metadata": {},
   "outputs": [],
   "source": [
    "np_workflows.print_countdown_timer(seconds=60)"
   ]
  },
  {
   "cell_type": "code",
   "execution_count": null,
   "metadata": {},
   "outputs": [],
   "source": [
    "import tempfile\n",
    "np_workflows.probe_targeting_widget(tempfile.tempdir)"
   ]
  },
  {
   "cell_type": "code",
   "execution_count": null,
   "metadata": {},
   "outputs": [],
   "source": [
    "np_workflows.finishing_checks_widget()"
   ]
  }
 ],
 "metadata": {
  "kernelspec": {
   "display_name": "Python 3.11.1 64-bit",
   "language": "python",
   "name": "python3"
  },
  "language_info": {
   "codemirror_mode": {
    "name": "ipython",
    "version": 3
   },
   "file_extension": ".py",
   "mimetype": "text/x-python",
   "name": "python",
   "nbconvert_exporter": "python",
   "pygments_lexer": "ipython3",
   "version": "3.11.1"
  },
  "orig_nbformat": 4,
  "vscode": {
   "interpreter": {
    "hash": "7ce81000444f029681845901b79939814e8d088b97cd78b415142c28fe68246a"
   }
  }
 },
 "nbformat": 4,
 "nbformat_minor": 2
}
