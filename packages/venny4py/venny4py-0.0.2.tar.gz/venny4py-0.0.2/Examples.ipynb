{
 "cells": [
  {
   "cell_type": "code",
   "execution_count": null,
   "id": "7a2f274b-a575-4cde-a051-db253178f3d5",
   "metadata": {},
   "outputs": [],
   "source": [
    "from venny4py.venny4py import *\n",
    "%matplotlib inline\n",
    "\n",
    "#dict of sets\n",
    "sets = {\n",
    "    'Set1': set(list(\"Harry Potter\")),\n",
    "    'Set2': set(list(\"Hermione Granger\")),\n",
    "    'Set3': set(list(\"Ron Weasley\")),\n",
    "    'Set4': set(list(\"Severus Snape\"))\n",
    "}\n",
    "\n",
    "venny4py(sets=sets, dpi=600)"
   ]
  }
 ],
 "metadata": {
  "kernelspec": {
   "display_name": "Python 3 (ipykernel)",
   "language": "python",
   "name": "python3"
  },
  "language_info": {
   "codemirror_mode": {
    "name": "ipython",
    "version": 3
   },
   "file_extension": ".py",
   "mimetype": "text/x-python",
   "name": "python",
   "nbconvert_exporter": "python",
   "pygments_lexer": "ipython3",
   "version": "3.9.12"
  }
 },
 "nbformat": 4,
 "nbformat_minor": 5
}
