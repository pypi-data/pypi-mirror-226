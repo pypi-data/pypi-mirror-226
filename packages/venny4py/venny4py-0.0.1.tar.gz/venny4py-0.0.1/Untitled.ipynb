{
 "cells": [
  {
   "cell_type": "code",
   "execution_count": 1,
   "id": "ca4b1ddc-1818-427c-8008-5ea09f393c0e",
   "metadata": {
    "tags": []
   },
   "outputs": [
    {
     "name": "stdout",
     "output_type": "stream",
     "text": [
      "Collecting venn4py\n",
      "  Obtaining dependency information for venn4py from https://files.pythonhosted.org/packages/84/c5/2c655d3c1060837652b17d849fdca7ffdc9caeffa269155fa4e3e495aefc/venn4py-0.0.1-py3-none-any.whl.metadata\n",
      "  Downloading venn4py-0.0.1-py3-none-any.whl.metadata (730 bytes)\n",
      "Downloading venn4py-0.0.1-py3-none-any.whl (3.8 kB)\n",
      "Installing collected packages: venn4py\n",
      "Successfully installed venn4py-0.0.1\n"
     ]
    }
   ],
   "source": [
    "!pip install venn4py"
   ]
  },
  {
   "cell_type": "code",
   "execution_count": 3,
   "id": "6be6d8c8-3bd0-45c4-b148-72a2e5b86729",
   "metadata": {
    "tags": []
   },
   "outputs": [
    {
     "ename": "SyntaxError",
     "evalue": "invalid syntax (venn4py.py, line 8)",
     "output_type": "error",
     "traceback": [
      "Traceback \u001b[0;36m(most recent call last)\u001b[0m:\n",
      "\u001b[0m  File \u001b[1;32m~/anaconda3/envs/Venn/lib/python3.11/site-packages/IPython/core/interactiveshell.py:3508\u001b[0m in \u001b[1;35mrun_code\u001b[0m\n    exec(code_obj, self.user_global_ns, self.user_ns)\u001b[0m\n",
      "\u001b[0;36m  Cell \u001b[0;32mIn[3], line 1\u001b[0;36m\n\u001b[0;31m    from venn4py.venn4py import *\u001b[0;36m\n",
      "\u001b[0;36m  File \u001b[0;32m~/anaconda3/envs/Venn/lib/python3.11/site-packages/venn4py/venn4py.py:8\u001b[0;36m\u001b[0m\n\u001b[0;31m    %matplotlib inline\u001b[0m\n\u001b[0m    ^\u001b[0m\n\u001b[0;31mSyntaxError\u001b[0m\u001b[0;31m:\u001b[0m invalid syntax\n"
     ]
    }
   ],
   "source": [
    "from venn4py.venn4py import *\n",
    "\n",
    "sets = {\n",
    "    'Set1': set(list(\"Harry Potter\")),\n",
    "    'Set2': set(list(\"Hermione Granger\")),\n",
    "    #'Set3': set(list(\"Ron Weasley\")),\n",
    "    #'Set4': set(list(\"Severus Snape\"))\n",
    "}\n",
    "\n",
    "venn4py(sets=sets, dpi=600)"
   ]
  },
  {
   "cell_type": "code",
   "execution_count": null,
   "id": "def02924-6fb3-45a0-8b36-ec86762632ca",
   "metadata": {},
   "outputs": [],
   "source": []
  }
 ],
 "metadata": {
  "kernelspec": {
   "display_name": "Python [conda env:Venn]",
   "language": "python",
   "name": "conda-env-Venn-py"
  },
  "language_info": {
   "codemirror_mode": {
    "name": "ipython",
    "version": 3
   },
   "file_extension": ".py",
   "mimetype": "text/x-python",
   "name": "python",
   "nbconvert_exporter": "python",
   "pygments_lexer": "ipython3",
   "version": "3.11.4"
  }
 },
 "nbformat": 4,
 "nbformat_minor": 5
}
