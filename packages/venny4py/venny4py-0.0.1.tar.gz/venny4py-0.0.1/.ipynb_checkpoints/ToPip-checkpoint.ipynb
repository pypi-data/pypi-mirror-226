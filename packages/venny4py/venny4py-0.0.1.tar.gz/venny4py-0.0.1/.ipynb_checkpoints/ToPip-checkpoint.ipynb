{
 "cells": [
  {
   "cell_type": "markdown",
   "id": "fbb98673-d3ed-425a-bf8e-9630bb882063",
   "metadata": {},
   "source": [
    "# Test\n",
    "https://packaging.python.org/en/latest/tutorials/packaging-projects/"
   ]
  },
  {
   "cell_type": "code",
   "execution_count": 5,
   "id": "baf82e57-2c34-45c5-90ba-a5dfc852c429",
   "metadata": {
    "collapsed": true,
    "jupyter": {
     "outputs_hidden": true
    },
    "tags": []
   },
   "outputs": [
    {
     "name": "stdout",
     "output_type": "stream",
     "text": [
      "Looking in links: /tmp/tmpweesku1h\n",
      "Requirement already satisfied: setuptools in /home/meco/anaconda3/lib/python3.9/site-packages (67.8.0)\n",
      "Processing /tmp/tmpweesku1h/pip-22.0.4-py3-none-any.whl\n",
      "Installing collected packages: pip\n",
      "Successfully installed pip-22.0.4\n"
     ]
    }
   ],
   "source": [
    "!python -m ensurepip --upgrade"
   ]
  },
  {
   "cell_type": "code",
   "execution_count": 7,
   "id": "872962d9-735d-4b39-a4d0-6cb8ad908bb4",
   "metadata": {
    "collapsed": true,
    "jupyter": {
     "outputs_hidden": true
    },
    "tags": []
   },
   "outputs": [
    {
     "name": "stdout",
     "output_type": "stream",
     "text": [
      "Requirement already satisfied: pip in /home/meco/anaconda3/lib/python3.9/site-packages (22.0.4)\n",
      "Collecting pip\n",
      "  Downloading pip-23.2.1-py3-none-any.whl (2.1 MB)\n",
      "\u001b[2K     \u001b[38;2;114;156;31m━━━━━━━━━━━━━━━━━━━━━━━━━━━━━━━━━━━━━━━━\u001b[0m \u001b[32m2.1/2.1 MB\u001b[0m \u001b[31m688.0 kB/s\u001b[0m eta \u001b[36m0:00:00\u001b[0mm eta \u001b[36m0:00:01\u001b[0m0:01\u001b[0m:01\u001b[0m\n",
      "\u001b[?25hInstalling collected packages: pip\n",
      "  Attempting uninstall: pip\n",
      "    Found existing installation: pip 22.0.4\n",
      "    Uninstalling pip-22.0.4:\n",
      "      Successfully uninstalled pip-22.0.4\n",
      "Successfully installed pip-23.2.1\n"
     ]
    }
   ],
   "source": [
    "!python3 -m pip install --upgrade pip"
   ]
  },
  {
   "cell_type": "code",
   "execution_count": 9,
   "id": "fa02e6cc-dd68-414b-88d3-dc29e2b81d90",
   "metadata": {
    "collapsed": true,
    "jupyter": {
     "outputs_hidden": true
    },
    "tags": []
   },
   "outputs": [
    {
     "name": "stdout",
     "output_type": "stream",
     "text": [
      "Collecting build\n",
      "  Downloading build-0.10.0-py3-none-any.whl (17 kB)\n",
      "Requirement already satisfied: packaging>=19.0 in /home/meco/anaconda3/lib/python3.9/site-packages (from build) (23.0)\n",
      "Collecting pyproject_hooks (from build)\n",
      "  Downloading pyproject_hooks-1.0.0-py3-none-any.whl (9.3 kB)\n",
      "Requirement already satisfied: tomli>=1.1.0 in /home/meco/anaconda3/lib/python3.9/site-packages (from build) (2.0.1)\n",
      "Installing collected packages: pyproject_hooks, build\n",
      "Successfully installed build-0.10.0 pyproject_hooks-1.0.0\n"
     ]
    }
   ],
   "source": [
    "!python3 -m pip install --upgrade build"
   ]
  },
  {
   "cell_type": "code",
   "execution_count": 10,
   "id": "be94888b-3d29-4ded-8bc5-a33a73a0221b",
   "metadata": {
    "collapsed": true,
    "jupyter": {
     "outputs_hidden": true
    },
    "tags": []
   },
   "outputs": [
    {
     "name": "stdout",
     "output_type": "stream",
     "text": [
      "\u001b[1m* Creating venv isolated environment...\u001b[0m\n",
      "\u001b[1m* Installing packages in isolated environment... (hatchling)\u001b[0m\n",
      "\u001b[1m* Getting build dependencies for sdist...\u001b[0m\n",
      "\u001b[1m* Building sdist...\u001b[0m\n",
      "\u001b[1m* Building wheel from sdist\u001b[0m\n",
      "\u001b[1m* Creating venv isolated environment...\u001b[0m\n",
      "\u001b[1m* Installing packages in isolated environment... (hatchling)\u001b[0m\n",
      "\u001b[1m* Getting build dependencies for wheel...\u001b[0m\n",
      "\u001b[1m* Building wheel...\u001b[0m\n",
      "\u001b[1m\u001b[92mSuccessfully built \u001b[4mvenn4py_timyerg-0.0.1.tar.gz\u001b[0m\u001b[1m\u001b[92m and \u001b[4mvenn4py_timyerg-0.0.1-py3-none-any.whl\u001b[0m\u001b[1m\u001b[92m\u001b[0m\n"
     ]
    }
   ],
   "source": [
    "!python3 -m build"
   ]
  },
  {
   "cell_type": "code",
   "execution_count": 11,
   "id": "e8e5ea7c-fe7f-4723-a8b3-78df7f7f2b72",
   "metadata": {
    "collapsed": true,
    "jupyter": {
     "outputs_hidden": true
    },
    "tags": []
   },
   "outputs": [
    {
     "name": "stdout",
     "output_type": "stream",
     "text": [
      "Collecting twine\n",
      "  Downloading twine-4.0.2-py3-none-any.whl (36 kB)\n",
      "Requirement already satisfied: pkginfo>=1.8.1 in /home/meco/anaconda3/lib/python3.9/site-packages (from twine) (1.9.6)\n",
      "Collecting readme-renderer>=35.0 (from twine)\n",
      "  Obtaining dependency information for readme-renderer>=35.0 from https://files.pythonhosted.org/packages/b5/a2/99fbffc358c2d19700d3a4a038fa451e7ac6a4067a16df4588d068f841e2/readme_renderer-41.0-py3-none-any.whl.metadata\n",
      "  Downloading readme_renderer-41.0-py3-none-any.whl.metadata (2.7 kB)\n",
      "Requirement already satisfied: requests>=2.20 in /home/meco/anaconda3/lib/python3.9/site-packages (from twine) (2.29.0)\n",
      "Requirement already satisfied: requests-toolbelt!=0.9.0,>=0.8.0 in /home/meco/anaconda3/lib/python3.9/site-packages (from twine) (0.9.1)\n",
      "Requirement already satisfied: urllib3>=1.26.0 in /home/meco/anaconda3/lib/python3.9/site-packages (from twine) (1.26.16)\n",
      "Requirement already satisfied: importlib-metadata>=3.6 in /home/meco/anaconda3/lib/python3.9/site-packages (from twine) (6.0.0)\n",
      "Collecting keyring>=15.1 (from twine)\n",
      "  Obtaining dependency information for keyring>=15.1 from https://files.pythonhosted.org/packages/0e/8f/5772801169cf62e8232721034f91f81e33b0cfa6e51d3bf6ff65c503af2a/keyring-24.2.0-py3-none-any.whl.metadata\n",
      "  Downloading keyring-24.2.0-py3-none-any.whl.metadata (20 kB)\n",
      "Collecting rfc3986>=1.4.0 (from twine)\n",
      "  Downloading rfc3986-2.0.0-py2.py3-none-any.whl (31 kB)\n",
      "Collecting rich>=12.0.0 (from twine)\n",
      "  Obtaining dependency information for rich>=12.0.0 from https://files.pythonhosted.org/packages/8d/5f/21a93b2ec205f4b79853ff6e838e3c99064d5dbe85ec6b05967506f14af0/rich-13.5.2-py3-none-any.whl.metadata\n",
      "  Downloading rich-13.5.2-py3-none-any.whl.metadata (18 kB)\n",
      "Requirement already satisfied: zipp>=0.5 in /home/meco/anaconda3/lib/python3.9/site-packages (from importlib-metadata>=3.6->twine) (3.11.0)\n",
      "Collecting jaraco.classes (from keyring>=15.1->twine)\n",
      "  Obtaining dependency information for jaraco.classes from https://files.pythonhosted.org/packages/c7/6b/1bc8fa93ea85146e08f0e0883bc579b7c7328364ed7df90b1628dcb36e10/jaraco.classes-3.3.0-py3-none-any.whl.metadata\n",
      "  Downloading jaraco.classes-3.3.0-py3-none-any.whl.metadata (2.9 kB)\n",
      "Collecting SecretStorage>=3.2 (from keyring>=15.1->twine)\n",
      "  Downloading SecretStorage-3.3.3-py3-none-any.whl (15 kB)\n",
      "Collecting jeepney>=0.4.2 (from keyring>=15.1->twine)\n",
      "  Downloading jeepney-0.8.0-py3-none-any.whl (48 kB)\n",
      "\u001b[2K     \u001b[38;2;114;156;31m━━━━━━━━━━━━━━━━━━━━━━━━━━━━━━━━━━━━━━━\u001b[0m \u001b[32m48.4/48.4 kB\u001b[0m \u001b[31m612.7 kB/s\u001b[0m eta \u001b[36m0:00:00\u001b[0m1m682.5 kB/s\u001b[0m eta \u001b[36m0:00:01\u001b[0m\n",
      "\u001b[?25hRequirement already satisfied: bleach>=2.1.0 in /home/meco/anaconda3/lib/python3.9/site-packages (from readme-renderer>=35.0->twine) (4.1.0)\n",
      "Collecting docutils>=0.13.1 (from readme-renderer>=35.0->twine)\n",
      "  Obtaining dependency information for docutils>=0.13.1 from https://files.pythonhosted.org/packages/26/87/f238c0670b94533ac0353a4e2a1a771a0cc73277b88bff23d3ae35a256c1/docutils-0.20.1-py3-none-any.whl.metadata\n",
      "  Downloading docutils-0.20.1-py3-none-any.whl.metadata (2.8 kB)\n",
      "Requirement already satisfied: Pygments>=2.5.1 in /home/meco/anaconda3/lib/python3.9/site-packages (from readme-renderer>=35.0->twine) (2.15.1)\n",
      "Requirement already satisfied: charset-normalizer<4,>=2 in /home/meco/anaconda3/lib/python3.9/site-packages (from requests>=2.20->twine) (2.0.4)\n",
      "Requirement already satisfied: idna<4,>=2.5 in /home/meco/anaconda3/lib/python3.9/site-packages (from requests>=2.20->twine) (3.4)\n",
      "Requirement already satisfied: certifi>=2017.4.17 in /home/meco/anaconda3/lib/python3.9/site-packages (from requests>=2.20->twine) (2023.5.7)\n",
      "Collecting markdown-it-py>=2.2.0 (from rich>=12.0.0->twine)\n",
      "  Obtaining dependency information for markdown-it-py>=2.2.0 from https://files.pythonhosted.org/packages/42/d7/1ec15b46af6af88f19b8e5ffea08fa375d433c998b8a7639e76935c14f1f/markdown_it_py-3.0.0-py3-none-any.whl.metadata\n",
      "  Downloading markdown_it_py-3.0.0-py3-none-any.whl.metadata (6.9 kB)\n",
      "Requirement already satisfied: packaging in /home/meco/anaconda3/lib/python3.9/site-packages (from bleach>=2.1.0->readme-renderer>=35.0->twine) (23.0)\n",
      "Requirement already satisfied: six>=1.9.0 in /home/meco/anaconda3/lib/python3.9/site-packages (from bleach>=2.1.0->readme-renderer>=35.0->twine) (1.16.0)\n",
      "Requirement already satisfied: webencodings in /home/meco/anaconda3/lib/python3.9/site-packages (from bleach>=2.1.0->readme-renderer>=35.0->twine) (0.5.1)\n",
      "Collecting mdurl~=0.1 (from markdown-it-py>=2.2.0->rich>=12.0.0->twine)\n",
      "  Downloading mdurl-0.1.2-py3-none-any.whl (10.0 kB)\n",
      "Requirement already satisfied: cryptography>=2.0 in /home/meco/anaconda3/lib/python3.9/site-packages (from SecretStorage>=3.2->keyring>=15.1->twine) (39.0.1)\n",
      "Requirement already satisfied: more-itertools in /home/meco/anaconda3/lib/python3.9/site-packages (from jaraco.classes->keyring>=15.1->twine) (8.12.0)\n",
      "Requirement already satisfied: cffi>=1.12 in /home/meco/anaconda3/lib/python3.9/site-packages (from cryptography>=2.0->SecretStorage>=3.2->keyring>=15.1->twine) (1.15.1)\n",
      "Requirement already satisfied: pycparser in /home/meco/anaconda3/lib/python3.9/site-packages (from cffi>=1.12->cryptography>=2.0->SecretStorage>=3.2->keyring>=15.1->twine) (2.21)\n",
      "Downloading keyring-24.2.0-py3-none-any.whl (37 kB)\n",
      "Downloading readme_renderer-41.0-py3-none-any.whl (14 kB)\n",
      "Downloading rich-13.5.2-py3-none-any.whl (239 kB)\n",
      "\u001b[2K   \u001b[38;2;114;156;31m━━━━━━━━━━━━━━━━━━━━━━━━━━━━━━━━━━━━━━━\u001b[0m \u001b[32m239.7/239.7 kB\u001b[0m \u001b[31m530.0 kB/s\u001b[0m eta \u001b[36m0:00:00\u001b[0m[36m0:00:01\u001b[0m[36m0:00:01\u001b[0m:01\u001b[0m\n",
      "\u001b[?25hDownloading docutils-0.20.1-py3-none-any.whl (572 kB)\n",
      "\u001b[2K   \u001b[38;2;114;156;31m━━━━━━━━━━━━━━━━━━━━━━━━━━━━━━━━━━━━━━━\u001b[0m \u001b[32m572.7/572.7 kB\u001b[0m \u001b[31m500.0 kB/s\u001b[0m eta \u001b[36m0:00:00\u001b[0m[36m0:00:01\u001b[0mm eta \u001b[36m0:00:01\u001b[0m\n",
      "\u001b[?25hDownloading markdown_it_py-3.0.0-py3-none-any.whl (87 kB)\n",
      "\u001b[2K   \u001b[38;2;114;156;31m━━━━━━━━━━━━━━━━━━━━━━━━━━━━━━━━━━━━━━━━\u001b[0m \u001b[32m87.5/87.5 kB\u001b[0m \u001b[31m334.8 kB/s\u001b[0m eta \u001b[36m0:00:00\u001b[0m kB/s\u001b[0m eta \u001b[36m0:00:01\u001b[0m:01\u001b[0m\n",
      "\u001b[?25hDownloading jaraco.classes-3.3.0-py3-none-any.whl (5.9 kB)\n",
      "Installing collected packages: rfc3986, mdurl, jeepney, jaraco.classes, docutils, readme-renderer, markdown-it-py, SecretStorage, rich, keyring, twine\n",
      "Successfully installed SecretStorage-3.3.3 docutils-0.20.1 jaraco.classes-3.3.0 jeepney-0.8.0 keyring-24.2.0 markdown-it-py-3.0.0 mdurl-0.1.2 readme-renderer-41.0 rfc3986-2.0.0 rich-13.5.2 twine-4.0.2\n"
     ]
    }
   ],
   "source": [
    "!python3 -m pip install --upgrade twine"
   ]
  },
  {
   "cell_type": "code",
   "execution_count": 20,
   "id": "e2ab727c-bbb5-476b-8d55-a5de60661749",
   "metadata": {
    "tags": []
   },
   "outputs": [
    {
     "name": "stdout",
     "output_type": "stream",
     "text": [
      "Uploading distributions to https://test.pypi.org/legacy/\n",
      "Uploading venn4py_timyerg-0.0.1-py3-none-any.whl\n",
      "\u001b[2K\u001b[35m100%\u001b[0m \u001b[38;2;114;156;31m━━━━━━━━━━━━━━━━━━━━━━━━━━━━━━━━━━━━━━━━\u001b[0m \u001b[32m7.4/7.4 kB\u001b[0m • \u001b[33m00:00\u001b[0m • \u001b[31m?\u001b[0m\n",
      "\u001b[?25hUploading venn4py_timyerg-0.0.1.tar.gz\n",
      "\u001b[2K\u001b[35m100%\u001b[0m \u001b[38;2;114;156;31m━━━━━━━━━━━━━━━━━━━━━━━━━━━━━━━━━━━━━━━━\u001b[0m \u001b[32m7.6/7.6 kB\u001b[0m • \u001b[33m00:00\u001b[0m • \u001b[31m?\u001b[0m\n",
      "\u001b[?25h\n",
      "\u001b[32mView at:\u001b[0m\n",
      "https://test.pypi.org/project/venn4py-timyerg/0.0.1/\n"
     ]
    }
   ],
   "source": [
    "!python3 -m twine upload --repository testpypi dist/* \\\n",
    "    -u __token__ -p pypi-AgENdGVzdC5weXBpLm9yZwIkYmFhMWE4MDEtMDg0My00YTM1LThkZDEtMGU0ZTU0OGI0ODU2AAIqWzMsImEwOGQxOGFjLWEyZGUtNDQ2ZC1hZDkzLWRlMTk0OWYwNGI2YyJdAAAGIPZp9I71Y7Rn9zCL2CHOyeeZbAFn_649dDiCiUhbGzF2\n"
   ]
  },
  {
   "cell_type": "code",
   "execution_count": 25,
   "id": "7b3ccc8b-4fc3-42df-ac67-be2be99dc218",
   "metadata": {
    "tags": []
   },
   "outputs": [
    {
     "name": "stdout",
     "output_type": "stream",
     "text": [
      "Looking in indexes: https://test.pypi.org/simple/\n",
      "Collecting venn4py-timyerg==0.0.1\n",
      "  Obtaining dependency information for venn4py-timyerg==0.0.1 from https://test-files.pythonhosted.org/packages/74/20/7425f64798a7736310d7a8a495be56b0261d47c61173ac7098890a3cebcd/venn4py_timyerg-0.0.1-py3-none-any.whl.metadata\n",
      "  Downloading https://test-files.pythonhosted.org/packages/74/20/7425f64798a7736310d7a8a495be56b0261d47c61173ac7098890a3cebcd/venn4py_timyerg-0.0.1-py3-none-any.whl.metadata (709 bytes)\n",
      "Downloading https://test-files.pythonhosted.org/packages/74/20/7425f64798a7736310d7a8a495be56b0261d47c61173ac7098890a3cebcd/venn4py_timyerg-0.0.1-py3-none-any.whl (3.9 kB)\n",
      "Installing collected packages: venn4py-timyerg\n",
      "Successfully installed venn4py-timyerg-0.0.1\n"
     ]
    }
   ],
   "source": [
    "!pip install -i https://test.pypi.org/simple/ venn4py-timyerg==0.0.1"
   ]
  },
  {
   "cell_type": "code",
   "execution_count": 3,
   "id": "2982ccd2-63d5-4f34-b30e-9b75f4ee2d24",
   "metadata": {
    "tags": []
   },
   "outputs": [
    {
     "data": {
      "image/png": "[encoded data removed]",
      "text/plain": [
       "<Figure size 700x700 with 1 Axes>"
      ]
     },
     "metadata": {},
     "output_type": "display_data"
    }
   ],
   "source": [
    "from venn4py_timyerg.Venn4Py import *\n",
    "\n",
    "sets = {\n",
    "    'Set1': set(list(\"Harry Potter\")),\n",
    "    'Set2': set(list(\"Hermione Granger\")),\n",
    "    #'Set3': set(list(\"Ron Weasley\")),\n",
    "    #'Set4': set(list(\"Severus Snape\"))\n",
    "}\n",
    "\n",
    "venn4py(sets=sets, dpi=600)"
   ]
  },
  {
   "cell_type": "markdown",
   "id": "bd414dea-f910-41b1-b660-d4bc94c94d38",
   "metadata": {},
   "source": [
    "# Upload to Pip"
   ]
  },
  {
   "cell_type": "code",
   "execution_count": 10,
   "id": "aa1f86a3-9b86-4bec-b08f-8cede27cf0c6",
   "metadata": {
    "collapsed": true,
    "jupyter": {
     "outputs_hidden": true
    },
    "tags": []
   },
   "outputs": [
    {
     "name": "stdout",
     "output_type": "stream",
     "text": [
      "\u001b[1m* Creating venv isolated environment...\u001b[0m\n",
      "\u001b[1m* Installing packages in isolated environment... (hatchling)\u001b[0m\n",
      "\u001b[1m* Getting build dependencies for sdist...\u001b[0m\n",
      "\u001b[1m* Building sdist...\u001b[0m\n",
      "\u001b[1m* Building wheel from sdist\u001b[0m\n",
      "\u001b[1m* Creating venv isolated environment...\u001b[0m\n",
      "\u001b[1m* Installing packages in isolated environment... (hatchling)\u001b[0m\n",
      "\u001b[1m* Getting build dependencies for wheel...\u001b[0m\n",
      "\u001b[1m* Building wheel...\u001b[0m\n",
      "\u001b[1m\u001b[92mSuccessfully built \u001b[4mvenn4py_timyerg-0.0.1.tar.gz\u001b[0m\u001b[1m\u001b[92m and \u001b[4mvenn4py_timyerg-0.0.1-py3-none-any.whl\u001b[0m\u001b[1m\u001b[92m\u001b[0m\n"
     ]
    }
   ],
   "source": [
    "!python3 -m build"
   ]
  },
  {
   "cell_type": "code",
   "execution_count": null,
   "id": "e92c4f58-735d-4fe0-99d3-5754363ecbee",
   "metadata": {},
   "outputs": [],
   "source": []
  }
 ],
 "metadata": {
  "kernelspec": {
   "display_name": "Python 3 (ipykernel)",
   "language": "python",
   "name": "python3"
  },
  "language_info": {
   "codemirror_mode": {
    "name": "ipython",
    "version": 3
   },
   "file_extension": ".py",
   "mimetype": "text/x-python",
   "name": "python",
   "nbconvert_exporter": "python",
   "pygments_lexer": "ipython3",
   "version": "3.9.12"
  }
 },
 "nbformat": 4,
 "nbformat_minor": 5
}
