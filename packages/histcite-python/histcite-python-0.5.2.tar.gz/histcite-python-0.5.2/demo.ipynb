{
 "cells": [
  {
   "cell_type": "code",
   "execution_count": null,
   "metadata": {},
   "outputs": [],
   "source": [
    "import os\n",
    "from typing import Literal\n",
    "from histcite import ReadFile\n",
    "from histcite import ProcessFile\n",
    "from histcite import ComputeMetrics\n",
    "from histcite import GraphViz"
   ]
  },
  {
   "cell_type": "markdown",
   "metadata": {},
   "source": [
    "#### 输入文件夹路径及数据源类型"
   ]
  },
  {
   "cell_type": "code",
   "execution_count": null,
   "metadata": {},
   "outputs": [],
   "source": [
    "source_type: Literal[\"wos\", \"cssci\", \"scopus\"]\n",
    "folder_path = \"/Users/.../Downloads/dataset\"\n",
    "source_type = \"wos\""
   ]
  },
  {
   "cell_type": "markdown",
   "metadata": {},
   "source": [
    "#### 读取并处理文件"
   ]
  },
  {
   "cell_type": "code",
   "execution_count": null,
   "metadata": {},
   "outputs": [],
   "source": [
    "docs_df = ReadFile(folder_path, source_type).read_all()  # 读取文件\n",
    "docs_df"
   ]
  },
  {
   "cell_type": "code",
   "execution_count": null,
   "metadata": {},
   "outputs": [],
   "source": [
    "process = ProcessFile(docs_df, source_type)\n",
    "refs_df = process.extract_reference()  # 提取参考文献\n",
    "citation_relationship = process.process_citation(refs_df)  # 识别引用关系"
   ]
  },
  {
   "cell_type": "markdown",
   "metadata": {},
   "source": [
    "#### 导出描述性统计数据"
   ]
  },
  {
   "cell_type": "code",
   "execution_count": null,
   "metadata": {},
   "outputs": [],
   "source": [
    "cm = ComputeMetrics(docs_df, citation_relationship, source_type)\n",
    "cm.write2excel(os.path.join(folder_path, \"result\", \"descriptive_statistics.xlsx\"))"
   ]
  },
  {
   "cell_type": "markdown",
   "metadata": {},
   "source": [
    "#### 导出引文网络图文件\n",
    "图文件(后缀为.dot)可以使用 [Graphviz在线编辑器](http://magjac.com/graphviz-visual-editor/) 或下载到本地的 [Graphviz工具](https://graphviz.org/) 生成引文网络图。 "
   ]
  },
  {
   "cell_type": "code",
   "execution_count": null,
   "metadata": {},
   "outputs": [],
   "source": [
    "graph = GraphViz(docs_df, citation_relationship, source_type)\n",
    "\n",
    "# 选取LSC最高的100篇文献\n",
    "doc_indices = (\n",
    "    citation_relationship[citation_relationship[\"LCS\"] > 0]\n",
    "    .sort_values(\"LCS\", ascending=False)\n",
    "    .index[:100]\n",
    "    .tolist()\n",
    ")\n",
    "graph_dot_file = graph.generate_dot_file(doc_indices)\n",
    "print(graph_dot_file)"
   ]
  },
  {
   "cell_type": "code",
   "execution_count": null,
   "metadata": {},
   "outputs": [],
   "source": [
    "# 选取LSC大于等于5的文献\n",
    "doc_indices = citation_relationship[citation_relationship[\"LCS\"] >= 5].index.tolist()\n",
    "graph_dot_file = graph.generate_dot_file(doc_indices)\n",
    "print(graph_dot_file)"
   ]
  },
  {
   "cell_type": "code",
   "execution_count": null,
   "metadata": {},
   "outputs": [],
   "source": [
    "# 查看doc_index为10的文献的参考文献网络图\n",
    "graph_dot_file = graph.generate_dot_file(10, edge_type=\"cited\")\n",
    "print(graph_dot_file)"
   ]
  },
  {
   "cell_type": "code",
   "execution_count": null,
   "metadata": {},
   "outputs": [],
   "source": [
    "# 查看doc_index为10的文献的施引文献网络图\n",
    "graph_dot_file = graph.generate_dot_file(10, edge_type=\"cited\")\n",
    "print(graph_dot_file)"
   ]
  },
  {
   "cell_type": "code",
   "execution_count": null,
   "metadata": {},
   "outputs": [],
   "source": [
    "# 查看doc_index为10的文献的引文网络图\n",
    "graph_dot_file = graph.generate_dot_file(10)\n",
    "print(graph_dot_file)"
   ]
  },
  {
   "cell_type": "code",
   "execution_count": null,
   "metadata": {},
   "outputs": [],
   "source": [
    "# 导出dot文件\n",
    "with open(os.path.join(folder_path, \"result\", \"graph.dot\"), \"w\") as f:\n",
    "    f.write(graph_dot_file)"
   ]
  },
  {
   "cell_type": "code",
   "execution_count": null,
   "metadata": {},
   "outputs": [],
   "source": [
    "# 查看图节点信息\n",
    "graph_node_info = graph.generate_graph_node_info()\n",
    "graph_node_info"
   ]
  },
  {
   "cell_type": "code",
   "execution_count": null,
   "metadata": {},
   "outputs": [],
   "source": [
    "# 导出图节点信息\n",
    "graph_node_info.to_excel(\n",
    "    os.path.join(folder_path, \"result\", \"graph_node_info.xlsx\"), index=False\n",
    ")"
   ]
  }
 ],
 "metadata": {
  "kernelspec": {
   "display_name": "Python 3",
   "language": "python",
   "name": "python3"
  },
  "language_info": {
   "codemirror_mode": {
    "name": "ipython",
    "version": 3
   },
   "file_extension": ".py",
   "mimetype": "text/x-python",
   "name": "python",
   "nbconvert_exporter": "python",
   "pygments_lexer": "ipython3",
   "version": "3.11.4"
  },
  "orig_nbformat": 4
 },
 "nbformat": 4,
 "nbformat_minor": 2
}
