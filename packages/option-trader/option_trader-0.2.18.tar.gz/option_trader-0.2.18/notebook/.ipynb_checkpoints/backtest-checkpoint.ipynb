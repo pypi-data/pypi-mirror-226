{
 "cells": [
  {
   "cell_type": "markdown",
   "id": "4edb1b20",
   "metadata": {},
   "source": [
    "Here are a few relevant projects related to machine learning in option trading that you can find on GitLab:\n",
    "\n",
    "Option Pricing and Greeks with Python:\n",
    "This project provides an implementation of the Black-Scholes model for option pricing in Python. It also includes code for calculating option Greeks, such as delta, gamma, and theta. The code is well-documented and can be easily adapted for different use cases.\n",
    "Link: https://gitlab.com/snippets/2043283\n",
    "\n",
    "Reinforcement Learning for Option Trading:\n",
    "This project uses reinforcement learning to develop a trading strategy for options. The agent learns to make decisions about buying and selling options based on historical data and feedback from the market. The code includes a detailed explanation of the reinforcement learning algorithm and can be used as a starting point for building your own trading strategy.\n",
    "Link: https://gitlab.com/pravin1220/reinforcement-learning-for-option-trading\n",
    "\n",
    "Predicting Option Prices with Neural Networks:\n",
    "This project uses a neural network to predict the prices of options based on historical market data. The code includes a Jupyter notebook with step-by-step instructions for building and training the neural network. The notebook also includes code for visualizing the predictions and evaluating the model's accuracy.\n",
    "Link: https://gitlab.com/nadimbioinfo/predicting-option-prices-with-neural-networks\n",
    "\n",
    "Portfolio Optimization with Genetic Algorithms:\n",
    "This project uses a genetic algorithm to optimize a portfolio of options based on historical market data. The code includes an implementation of the genetic algorithm in Python, as well as a Jupyter notebook with examples of how to use the algorithm to optimize portfolios based on different criteria.\n",
    "Link: https://gitlab.com/panpanmade/portfolio-optimization-with-genetic-algorithms\n",
    "\n",
    "These are just a few examples of relevant projects related to machine learning in option trading that you can find on GitLab. There are many other projects available, depending on your interests and expertise."
   ]
  },
  {
   "cell_type": "code",
   "execution_count": 1,
   "id": "8c877e8f",
   "metadata": {},
   "outputs": [],
   "source": [
    "from tradingBot.excel import accountBook as act_wb\n",
    "from tradingBot.excel import watchListBook as watch_wb\n",
    "from tradingBot.settings import tradeConfig as cf\n",
    "from tradingBot.consts import strategy as Strategy\n",
    "from tradingBot.settings.tradeConfig import entryCrit, riskManager, marketCondition, runtimeConfig\n",
    "from tradingBot.excel import accountBook as act_wb\n",
    "\n",
    "import logging\n",
    "import logging.config\n",
    "\n",
    "LOGGING = {\n",
    "    'version': 1,\n",
    "    'disable_existing_loggers': False,\n",
    "    'formatters': {\n",
    "        'simple': {\n",
    "            'format': '%(levelname)s: %(message)s'\n",
    "        },\n",
    "    },\n",
    "    'handlers': {\n",
    "        'console': {\n",
    "            'level': 'DEBUG',\n",
    "            'class': 'logging.StreamHandler',\n",
    "        },\n",
    "    },\n",
    "    'loggers': {\n",
    "        '': {\n",
    "            'level': 'INFO',\n",
    "            'handlers': ['console'],\n",
    "        },\n",
    "    },\n",
    "}\n",
    "\n",
    "logging.config.dictConfig(LOGGING)\n",
    "\n",
    "import warnings\n",
    "\n",
    "warnings.filterwarnings(\"ignore\")"
   ]
  },
  {
   "cell_type": "code",
   "execution_count": 2,
   "id": "e3d033a3",
   "metadata": {},
   "outputs": [],
   "source": [
    "risk_mgr = riskManager()\n",
    "\n",
    "risk_mgr.stop_loss_percent = 50\n",
    "risk_mgr.stop_gain_percent = 100\n",
    "risk_mgr.close_days_before_earning = 1\n",
    "risk_mgr.close_days_before_expire = 1\n",
    "risk_mgr.open_min_days_to_earning = 4\n",
    "risk_mgr.open_min_days_to_expire = 4\n",
    "risk_mgr.max_option_positions = 10\n",
    "risk_mgr.max_loss_per_position = 1500\n",
    "                       \n",
    "entry_crit = entryCrit()\n",
    "\n",
    "entry_crit.max_rating = 1.8\n",
    "\n",
    "runtime_config = runtimeConfig()\n",
    "runtime_config.init_balance = 100000\n",
    "\n",
    "market_condition = marketCondition()"
   ]
  },
  {
   "cell_type": "code",
   "execution_count": 3,
   "id": "a091a41f",
   "metadata": {},
   "outputs": [
    {
     "ename": "com_error",
     "evalue": "(-2147221164, 'Class not registered', None, None)",
     "output_type": "error",
     "traceback": [
      "\u001b[1;31m---------------------------------------------------------------------------\u001b[0m",
      "\u001b[1;31mcom_error\u001b[0m                                 Traceback (most recent call last)",
      "Cell \u001b[1;32mIn[3], line 7\u001b[0m\n\u001b[0;32m      3\u001b[0m data_dir \u001b[38;5;241m=\u001b[39m \u001b[38;5;124mr\u001b[39m\u001b[38;5;124m'\u001b[39m\u001b[38;5;124mC:\u001b[39m\u001b[38;5;124m\\\u001b[39m\u001b[38;5;124mUsers\u001b[39m\u001b[38;5;124m\\\u001b[39m\u001b[38;5;124mjimhu\u001b[39m\u001b[38;5;124m\\\u001b[39m\u001b[38;5;124moption_trader\u001b[39m\u001b[38;5;124m\\\u001b[39m\u001b[38;5;124mdata\u001b[39m\u001b[38;5;124m\\\u001b[39m\u001b[38;5;124mcharts\u001b[39m\u001b[38;5;124m'\u001b[39m\n\u001b[0;32m      5\u001b[0m wb_file_path \u001b[38;5;241m=\u001b[39m \u001b[38;5;124mr\u001b[39m\u001b[38;5;124m'\u001b[39m\u001b[38;5;124mC:\u001b[39m\u001b[38;5;124m\\\u001b[39m\u001b[38;5;124mUsers\u001b[39m\u001b[38;5;124m\\\u001b[39m\u001b[38;5;124mjimhu\u001b[39m\u001b[38;5;124m\\\u001b[39m\u001b[38;5;124moption_trader\u001b[39m\u001b[38;5;124m\\\u001b[39m\u001b[38;5;124mdata\u001b[39m\u001b[38;5;124m\\\u001b[39m\u001b[38;5;124mexcell\u001b[39m\u001b[38;5;124m\\\u001b[39m\u001b[38;5;124mjihuang.xlsm\u001b[39m\u001b[38;5;124m'\u001b[39m \n\u001b[1;32m----> 7\u001b[0m watchBook \u001b[38;5;241m=\u001b[39m \u001b[43mwatch_wb\u001b[49m\u001b[38;5;241;43m.\u001b[39;49m\u001b[43mwatchListBook\u001b[49m\u001b[43m(\u001b[49m\u001b[43mwb_file_path\u001b[49m\u001b[43m,\u001b[49m\u001b[43m \u001b[49m\u001b[43mdata_dir\u001b[49m\u001b[43m)\u001b[49m\n\u001b[0;32m      9\u001b[0m watch_list \u001b[38;5;241m=\u001b[39m watchBook\u001b[38;5;241m.\u001b[39mget_all_watch_list()\n",
      "File \u001b[1;32m~\\option_trader\\notebooks\\tradingBot\\excel\\watchListBook.py:43\u001b[0m, in \u001b[0;36mwatchListBook.__init__\u001b[1;34m(self, acct_file_path, data_dir, runtime_config)\u001b[0m\n\u001b[0;32m     41\u001b[0m \u001b[38;5;28;01mdef\u001b[39;00m \u001b[38;5;21m__init__\u001b[39m(\u001b[38;5;28mself\u001b[39m, acct_file_path, data_dir\u001b[38;5;241m=\u001b[39m\u001b[38;5;28;01mNone\u001b[39;00m, runtime_config\u001b[38;5;241m=\u001b[39mruntimeConfig()):\n\u001b[0;32m     42\u001b[0m     \u001b[38;5;28mself\u001b[39m\u001b[38;5;241m.\u001b[39mfile_path \u001b[38;5;241m=\u001b[39m acct_file_path\n\u001b[1;32m---> 43\u001b[0m     \u001b[38;5;28mself\u001b[39m\u001b[38;5;241m.\u001b[39mwb \u001b[38;5;241m=\u001b[39m \u001b[43mxw\u001b[49m\u001b[38;5;241;43m.\u001b[39;49m\u001b[43mBook\u001b[49m\u001b[43m(\u001b[49m\u001b[38;5;28;43mself\u001b[39;49m\u001b[38;5;241;43m.\u001b[39;49m\u001b[43mfile_path\u001b[49m\u001b[43m)\u001b[49m\n\u001b[0;32m     44\u001b[0m     \u001b[38;5;28mself\u001b[39m\u001b[38;5;241m.\u001b[39mworkingDir \u001b[38;5;241m=\u001b[39m  data_dir \n\u001b[0;32m     45\u001b[0m     \u001b[38;5;28mself\u001b[39m\u001b[38;5;241m.\u001b[39mruntime_config \u001b[38;5;241m=\u001b[39m runtime_config\n",
      "File \u001b[1;32m~\\Anaconda3\\envs\\py39\\lib\\site-packages\\xlwings\\main.py:686\u001b[0m, in \u001b[0;36mBook.__init__\u001b[1;34m(self, fullname, update_links, read_only, format, password, write_res_password, ignore_read_only_recommended, origin, delimiter, editable, notify, converter, add_to_mru, local, corrupt_load, impl)\u001b[0m\n\u001b[0;32m    684\u001b[0m \u001b[38;5;28;01mif\u001b[39;00m \u001b[38;5;28mlen\u001b[39m(candidates) \u001b[38;5;241m==\u001b[39m \u001b[38;5;241m0\u001b[39m:\n\u001b[0;32m    685\u001b[0m     \u001b[38;5;28;01mif\u001b[39;00m \u001b[38;5;129;01mnot\u001b[39;00m app:\n\u001b[1;32m--> 686\u001b[0m         app \u001b[38;5;241m=\u001b[39m \u001b[43mApp\u001b[49m\u001b[43m(\u001b[49m\u001b[43madd_book\u001b[49m\u001b[38;5;241;43m=\u001b[39;49m\u001b[38;5;28;43;01mFalse\u001b[39;49;00m\u001b[43m)\u001b[49m\n\u001b[0;32m    687\u001b[0m     impl \u001b[38;5;241m=\u001b[39m app\u001b[38;5;241m.\u001b[39mbooks\u001b[38;5;241m.\u001b[39mopen(fullname, update_links, read_only, \u001b[38;5;28mformat\u001b[39m, password, write_res_password,\n\u001b[0;32m    688\u001b[0m                           ignore_read_only_recommended, origin, delimiter, editable, notify, converter,\n\u001b[0;32m    689\u001b[0m                           add_to_mru, local, corrupt_load)\u001b[38;5;241m.\u001b[39mimpl\n\u001b[0;32m    690\u001b[0m \u001b[38;5;28;01melif\u001b[39;00m \u001b[38;5;28mlen\u001b[39m(candidates) \u001b[38;5;241m>\u001b[39m \u001b[38;5;241m1\u001b[39m:\n",
      "File \u001b[1;32m~\\Anaconda3\\envs\\py39\\lib\\site-packages\\xlwings\\main.py:220\u001b[0m, in \u001b[0;36mApp.__init__\u001b[1;34m(self, visible, spec, add_book, impl)\u001b[0m\n\u001b[0;32m    218\u001b[0m \u001b[38;5;28;01mdef\u001b[39;00m \u001b[38;5;21m__init__\u001b[39m(\u001b[38;5;28mself\u001b[39m, visible\u001b[38;5;241m=\u001b[39m\u001b[38;5;28;01mNone\u001b[39;00m, spec\u001b[38;5;241m=\u001b[39m\u001b[38;5;28;01mNone\u001b[39;00m, add_book\u001b[38;5;241m=\u001b[39m\u001b[38;5;28;01mTrue\u001b[39;00m, impl\u001b[38;5;241m=\u001b[39m\u001b[38;5;28;01mNone\u001b[39;00m):\n\u001b[0;32m    219\u001b[0m     \u001b[38;5;28;01mif\u001b[39;00m impl \u001b[38;5;129;01mis\u001b[39;00m \u001b[38;5;28;01mNone\u001b[39;00m:\n\u001b[1;32m--> 220\u001b[0m         \u001b[38;5;28mself\u001b[39m\u001b[38;5;241m.\u001b[39mimpl \u001b[38;5;241m=\u001b[39m \u001b[43mxlplatform\u001b[49m\u001b[38;5;241;43m.\u001b[39;49m\u001b[43mApp\u001b[49m\u001b[43m(\u001b[49m\u001b[43mspec\u001b[49m\u001b[38;5;241;43m=\u001b[39;49m\u001b[43mspec\u001b[49m\u001b[43m,\u001b[49m\u001b[43m \u001b[49m\u001b[43madd_book\u001b[49m\u001b[38;5;241;43m=\u001b[39;49m\u001b[43madd_book\u001b[49m\u001b[43m,\u001b[49m\u001b[43m \u001b[49m\u001b[43mvisible\u001b[49m\u001b[38;5;241;43m=\u001b[39;49m\u001b[43mvisible\u001b[49m\u001b[43m)\u001b[49m\n\u001b[0;32m    221\u001b[0m         \u001b[38;5;28;01mif\u001b[39;00m visible \u001b[38;5;129;01mor\u001b[39;00m visible \u001b[38;5;129;01mis\u001b[39;00m \u001b[38;5;28;01mNone\u001b[39;00m:\n\u001b[0;32m    222\u001b[0m             \u001b[38;5;28mself\u001b[39m\u001b[38;5;241m.\u001b[39mvisible \u001b[38;5;241m=\u001b[39m \u001b[38;5;28;01mTrue\u001b[39;00m\n",
      "File \u001b[1;32m~\\Anaconda3\\envs\\py39\\lib\\site-packages\\xlwings\\_xlwindows.py:326\u001b[0m, in \u001b[0;36mApp.__init__\u001b[1;34m(self, spec, add_book, xl, visible)\u001b[0m\n\u001b[0;32m    323\u001b[0m     warn(\u001b[38;5;124m'\u001b[39m\u001b[38;5;124mspec is ignored on Windows.\u001b[39m\u001b[38;5;124m'\u001b[39m)\n\u001b[0;32m    324\u001b[0m \u001b[38;5;28;01mif\u001b[39;00m xl \u001b[38;5;129;01mis\u001b[39;00m \u001b[38;5;28;01mNone\u001b[39;00m:\n\u001b[0;32m    325\u001b[0m     \u001b[38;5;66;03m# new instance\u001b[39;00m\n\u001b[1;32m--> 326\u001b[0m     \u001b[38;5;28mself\u001b[39m\u001b[38;5;241m.\u001b[39m_xl \u001b[38;5;241m=\u001b[39m COMRetryObjectWrapper(\u001b[43mDispatchEx\u001b[49m\u001b[43m(\u001b[49m\u001b[38;5;124;43m'\u001b[39;49m\u001b[38;5;124;43mExcel.Application\u001b[39;49m\u001b[38;5;124;43m'\u001b[39;49m\u001b[43m)\u001b[49m)\n\u001b[0;32m    327\u001b[0m     \u001b[38;5;28;01mif\u001b[39;00m add_book:\n\u001b[0;32m    328\u001b[0m         \u001b[38;5;28mself\u001b[39m\u001b[38;5;241m.\u001b[39m_xl\u001b[38;5;241m.\u001b[39mWorkbooks\u001b[38;5;241m.\u001b[39mAdd()\n",
      "File \u001b[1;32m~\\AppData\\Roaming\\Python\\Python39\\site-packages\\win32com\\client\\__init__.py:145\u001b[0m, in \u001b[0;36mDispatchEx\u001b[1;34m(clsid, machine, userName, resultCLSID, typeinfo, UnicodeToString, clsctx)\u001b[0m\n\u001b[0;32m    143\u001b[0m \u001b[38;5;28;01mif\u001b[39;00m userName \u001b[38;5;129;01mis\u001b[39;00m \u001b[38;5;28;01mNone\u001b[39;00m:\n\u001b[0;32m    144\u001b[0m     userName \u001b[38;5;241m=\u001b[39m clsid\n\u001b[1;32m--> 145\u001b[0m dispatch \u001b[38;5;241m=\u001b[39m \u001b[43mpythoncom\u001b[49m\u001b[38;5;241;43m.\u001b[39;49m\u001b[43mCoCreateInstanceEx\u001b[49m\u001b[43m(\u001b[49m\n\u001b[0;32m    146\u001b[0m \u001b[43m    \u001b[49m\u001b[43mclsid\u001b[49m\u001b[43m,\u001b[49m\u001b[43m \u001b[49m\u001b[38;5;28;43;01mNone\u001b[39;49;00m\u001b[43m,\u001b[49m\u001b[43m \u001b[49m\u001b[43mclsctx\u001b[49m\u001b[43m,\u001b[49m\u001b[43m \u001b[49m\u001b[43mserverInfo\u001b[49m\u001b[43m,\u001b[49m\u001b[43m \u001b[49m\u001b[43m(\u001b[49m\u001b[43mpythoncom\u001b[49m\u001b[38;5;241;43m.\u001b[39;49m\u001b[43mIID_IDispatch\u001b[49m\u001b[43m,\u001b[49m\u001b[43m)\u001b[49m\n\u001b[0;32m    147\u001b[0m \u001b[43m\u001b[49m\u001b[43m)\u001b[49m[\u001b[38;5;241m0\u001b[39m]\n\u001b[0;32m    148\u001b[0m \u001b[38;5;28;01mreturn\u001b[39;00m Dispatch(dispatch, userName, resultCLSID, typeinfo, clsctx\u001b[38;5;241m=\u001b[39mclsctx)\n",
      "\u001b[1;31mcom_error\u001b[0m: (-2147221164, 'Class not registered', None, None)"
     ]
    }
   ],
   "source": [
    "#logging.basicConfig(level=logging.DEBUG)\n",
    "\n",
    "data_dir = r'C:\\Users\\jimhu\\option_trader\\data\\charts'\n",
    "\n",
    "wb_file_path = r'C:\\Users\\jimhu\\option_trader\\data\\excell\\jihuang.xlsm' \n",
    "\n",
    "watchBook = watch_wb.watchListBook(wb_file_path, data_dir)\n",
    "\n",
    "watch_list = watchBook.get_all_watch_list()\n"
   ]
  },
  {
   "cell_type": "code",
   "execution_count": 4,
   "id": "49021686",
   "metadata": {},
   "outputs": [],
   "source": [
    "#SPREAD\n",
    "spread_acc_file_path = r'C:\\Users\\jimhu\\option_trader\\data\\excell\\jihuang-spread.xlsm'\n",
    "spread_strategy_list = [Strategy.CREDIT_PUT_SPREAD, Strategy.DEBIT_PUT_SPREAD, Strategy.CREDIT_CALL_SPREAD, Strategy.DEBIT_PUT_SPREAD]\n",
    "\n",
    "#IRON CONDOR\n",
    "condor_acc_file_path = r'C:\\Users\\jimhu\\option_trader\\data\\excell\\jihuang-condor.xlsm'\n",
    "condor_strategy_list = [Strategy.CREDIT_IRON_CONDOR, Strategy.DEBIT_IRON_CONDOR]\n",
    "\n",
    "#Butterfly\n",
    "butterfly_acc_file_path = r'C:\\Users\\jimhu\\option_trader\\data\\excell\\jihuang-butterfly.xlsm'\n",
    "butterfly_strategy_list = [Strategy.CREDIT_CALL_BUTTERFLY, Strategy.CREDIT_PUT_BUTTERFLY, Strategy.DEBIT_CALL_BUTTERFLY, Strategy.DEBIT_PUT_BUTTERFLY, Strategy.IRON_BUTTERFLY, Strategy.REVERSE_IRON_BUTTERFLY]\n"
   ]
  },
  {
   "cell_type": "code",
   "execution_count": 5,
   "id": "e385798e",
   "metadata": {},
   "outputs": [
    {
     "ename": "com_error",
     "evalue": "(-2147221164, 'Class not registered', None, None)",
     "output_type": "error",
     "traceback": [
      "\u001b[1;31m---------------------------------------------------------------------------\u001b[0m",
      "\u001b[1;31mcom_error\u001b[0m                                 Traceback (most recent call last)",
      "Cell \u001b[1;32mIn[5], line 1\u001b[0m\n\u001b[1;32m----> 1\u001b[0m spread_accountBook \u001b[38;5;241m=\u001b[39m \u001b[43mact_wb\u001b[49m\u001b[38;5;241;43m.\u001b[39;49m\u001b[43maccountBook\u001b[49m\u001b[43m(\u001b[49m\u001b[43mfile_path\u001b[49m\u001b[38;5;241;43m=\u001b[39;49m\u001b[43mspread_acc_file_path\u001b[49m\u001b[43m,\u001b[49m\n\u001b[0;32m      2\u001b[0m \u001b[43m                                 \u001b[49m\u001b[43mrisk_mgr\u001b[49m\u001b[38;5;241;43m=\u001b[39;49m\u001b[43mrisk_mgr\u001b[49m\u001b[43m,\u001b[49m\u001b[43m \u001b[49m\n\u001b[0;32m      3\u001b[0m \u001b[43m                                 \u001b[49m\u001b[43mentry_crit\u001b[49m\u001b[43m \u001b[49m\u001b[38;5;241;43m=\u001b[39;49m\u001b[43m \u001b[49m\u001b[43mentry_crit\u001b[49m\u001b[43m,\u001b[49m\n\u001b[0;32m      4\u001b[0m \u001b[43m                                 \u001b[49m\u001b[43mruntime_config\u001b[49m\u001b[43m \u001b[49m\u001b[38;5;241;43m=\u001b[39;49m\u001b[43m \u001b[49m\u001b[43mruntime_config\u001b[49m\u001b[43m,\u001b[49m\n\u001b[0;32m      5\u001b[0m \u001b[43m                                 \u001b[49m\u001b[43mmarket_condition\u001b[49m\u001b[43m \u001b[49m\u001b[38;5;241;43m=\u001b[39;49m\u001b[43m \u001b[49m\u001b[43mmarket_condition\u001b[49m\u001b[43m,\u001b[49m\n\u001b[0;32m      6\u001b[0m \u001b[43m                                 \u001b[49m\u001b[43mstrategy_list\u001b[49m\u001b[38;5;241;43m=\u001b[39;49m\u001b[43mspread_strategy_list\u001b[49m\u001b[43m)\u001b[49m\n\u001b[0;32m      8\u001b[0m condor_accountBook \u001b[38;5;241m=\u001b[39m act_wb\u001b[38;5;241m.\u001b[39maccountBook(file_path\u001b[38;5;241m=\u001b[39mcondor_acc_file_path,\n\u001b[0;32m      9\u001b[0m                                  risk_mgr\u001b[38;5;241m=\u001b[39mrisk_mgr, \n\u001b[0;32m     10\u001b[0m                                  entry_crit \u001b[38;5;241m=\u001b[39m entry_crit,\n\u001b[0;32m     11\u001b[0m                                  runtime_config \u001b[38;5;241m=\u001b[39m runtime_config,\n\u001b[0;32m     12\u001b[0m                                  market_condition \u001b[38;5;241m=\u001b[39m market_condition,\n\u001b[0;32m     13\u001b[0m                                  strategy_list\u001b[38;5;241m=\u001b[39mcondor_strategy_list)\n\u001b[0;32m     15\u001b[0m butterfly_accountBook \u001b[38;5;241m=\u001b[39m act_wb\u001b[38;5;241m.\u001b[39maccountBook(file_path\u001b[38;5;241m=\u001b[39mbutterfly_acc_file_path,\n\u001b[0;32m     16\u001b[0m                                  risk_mgr\u001b[38;5;241m=\u001b[39mrisk_mgr, \n\u001b[0;32m     17\u001b[0m                                  entry_crit \u001b[38;5;241m=\u001b[39m entry_crit,\n\u001b[0;32m     18\u001b[0m                                  runtime_config \u001b[38;5;241m=\u001b[39m runtime_config,\n\u001b[0;32m     19\u001b[0m                                  market_condition \u001b[38;5;241m=\u001b[39m market_condition,\n\u001b[0;32m     20\u001b[0m                                  strategy_list\u001b[38;5;241m=\u001b[39mbutterfly_strategy_list)\n",
      "File \u001b[1;32m~\\option_trader\\notebooks\\tradingBot\\excel\\accountBook.py:101\u001b[0m, in \u001b[0;36maccountBook.__init__\u001b[1;34m(self, file_path, strategy_list, entry_crit, runtime_config, market_condition, risk_mgr)\u001b[0m\n\u001b[0;32m     99\u001b[0m     \u001b[38;5;28mself\u001b[39m\u001b[38;5;241m.\u001b[39moption_summary_sheet\u001b[38;5;241m.\u001b[39msave_risk_mgr(\u001b[38;5;28mself\u001b[39m\u001b[38;5;241m.\u001b[39mrisk_mgr)                                                                                  \n\u001b[0;32m    100\u001b[0m \u001b[38;5;28;01melse\u001b[39;00m:            \n\u001b[1;32m--> 101\u001b[0m     \u001b[38;5;28mself\u001b[39m\u001b[38;5;241m.\u001b[39mwb \u001b[38;5;241m=\u001b[39m \u001b[43mxw\u001b[49m\u001b[38;5;241;43m.\u001b[39;49m\u001b[43mBook\u001b[49m\u001b[43m(\u001b[49m\u001b[43mfile_path\u001b[49m\u001b[43m)\u001b[49m             \n\u001b[0;32m    102\u001b[0m     \u001b[38;5;28mself\u001b[39m\u001b[38;5;241m.\u001b[39moption_summary_sheet \u001b[38;5;241m=\u001b[39m ps\u001b[38;5;241m.\u001b[39mpositionSheet(\u001b[38;5;28mself\u001b[39m\u001b[38;5;241m.\u001b[39mwb, sheet_name\u001b[38;5;241m=\u001b[39m\u001b[38;5;124m'\u001b[39m\u001b[38;5;124moption summary\u001b[39m\u001b[38;5;124m'\u001b[39m, create\u001b[38;5;241m=\u001b[39m\u001b[38;5;28;01mFalse\u001b[39;00m)     \n\u001b[0;32m    103\u001b[0m     \u001b[38;5;28mself\u001b[39m\u001b[38;5;241m.\u001b[39macct_summary_sheet \u001b[38;5;241m=\u001b[39m sm\u001b[38;5;241m.\u001b[39maccSummarySheet(\u001b[38;5;28mself\u001b[39m\u001b[38;5;241m.\u001b[39mwb, sheet_name\u001b[38;5;241m=\u001b[39m\u001b[38;5;124m'\u001b[39m\u001b[38;5;124maccount summary\u001b[39m\u001b[38;5;124m'\u001b[39m, create\u001b[38;5;241m=\u001b[39m\u001b[38;5;28;01mFalse\u001b[39;00m)               \n",
      "File \u001b[1;32m~\\Anaconda3\\envs\\py39\\lib\\site-packages\\xlwings\\main.py:686\u001b[0m, in \u001b[0;36mBook.__init__\u001b[1;34m(self, fullname, update_links, read_only, format, password, write_res_password, ignore_read_only_recommended, origin, delimiter, editable, notify, converter, add_to_mru, local, corrupt_load, impl)\u001b[0m\n\u001b[0;32m    684\u001b[0m \u001b[38;5;28;01mif\u001b[39;00m \u001b[38;5;28mlen\u001b[39m(candidates) \u001b[38;5;241m==\u001b[39m \u001b[38;5;241m0\u001b[39m:\n\u001b[0;32m    685\u001b[0m     \u001b[38;5;28;01mif\u001b[39;00m \u001b[38;5;129;01mnot\u001b[39;00m app:\n\u001b[1;32m--> 686\u001b[0m         app \u001b[38;5;241m=\u001b[39m \u001b[43mApp\u001b[49m\u001b[43m(\u001b[49m\u001b[43madd_book\u001b[49m\u001b[38;5;241;43m=\u001b[39;49m\u001b[38;5;28;43;01mFalse\u001b[39;49;00m\u001b[43m)\u001b[49m\n\u001b[0;32m    687\u001b[0m     impl \u001b[38;5;241m=\u001b[39m app\u001b[38;5;241m.\u001b[39mbooks\u001b[38;5;241m.\u001b[39mopen(fullname, update_links, read_only, \u001b[38;5;28mformat\u001b[39m, password, write_res_password,\n\u001b[0;32m    688\u001b[0m                           ignore_read_only_recommended, origin, delimiter, editable, notify, converter,\n\u001b[0;32m    689\u001b[0m                           add_to_mru, local, corrupt_load)\u001b[38;5;241m.\u001b[39mimpl\n\u001b[0;32m    690\u001b[0m \u001b[38;5;28;01melif\u001b[39;00m \u001b[38;5;28mlen\u001b[39m(candidates) \u001b[38;5;241m>\u001b[39m \u001b[38;5;241m1\u001b[39m:\n",
      "File \u001b[1;32m~\\Anaconda3\\envs\\py39\\lib\\site-packages\\xlwings\\main.py:220\u001b[0m, in \u001b[0;36mApp.__init__\u001b[1;34m(self, visible, spec, add_book, impl)\u001b[0m\n\u001b[0;32m    218\u001b[0m \u001b[38;5;28;01mdef\u001b[39;00m \u001b[38;5;21m__init__\u001b[39m(\u001b[38;5;28mself\u001b[39m, visible\u001b[38;5;241m=\u001b[39m\u001b[38;5;28;01mNone\u001b[39;00m, spec\u001b[38;5;241m=\u001b[39m\u001b[38;5;28;01mNone\u001b[39;00m, add_book\u001b[38;5;241m=\u001b[39m\u001b[38;5;28;01mTrue\u001b[39;00m, impl\u001b[38;5;241m=\u001b[39m\u001b[38;5;28;01mNone\u001b[39;00m):\n\u001b[0;32m    219\u001b[0m     \u001b[38;5;28;01mif\u001b[39;00m impl \u001b[38;5;129;01mis\u001b[39;00m \u001b[38;5;28;01mNone\u001b[39;00m:\n\u001b[1;32m--> 220\u001b[0m         \u001b[38;5;28mself\u001b[39m\u001b[38;5;241m.\u001b[39mimpl \u001b[38;5;241m=\u001b[39m \u001b[43mxlplatform\u001b[49m\u001b[38;5;241;43m.\u001b[39;49m\u001b[43mApp\u001b[49m\u001b[43m(\u001b[49m\u001b[43mspec\u001b[49m\u001b[38;5;241;43m=\u001b[39;49m\u001b[43mspec\u001b[49m\u001b[43m,\u001b[49m\u001b[43m \u001b[49m\u001b[43madd_book\u001b[49m\u001b[38;5;241;43m=\u001b[39;49m\u001b[43madd_book\u001b[49m\u001b[43m,\u001b[49m\u001b[43m \u001b[49m\u001b[43mvisible\u001b[49m\u001b[38;5;241;43m=\u001b[39;49m\u001b[43mvisible\u001b[49m\u001b[43m)\u001b[49m\n\u001b[0;32m    221\u001b[0m         \u001b[38;5;28;01mif\u001b[39;00m visible \u001b[38;5;129;01mor\u001b[39;00m visible \u001b[38;5;129;01mis\u001b[39;00m \u001b[38;5;28;01mNone\u001b[39;00m:\n\u001b[0;32m    222\u001b[0m             \u001b[38;5;28mself\u001b[39m\u001b[38;5;241m.\u001b[39mvisible \u001b[38;5;241m=\u001b[39m \u001b[38;5;28;01mTrue\u001b[39;00m\n",
      "File \u001b[1;32m~\\Anaconda3\\envs\\py39\\lib\\site-packages\\xlwings\\_xlwindows.py:326\u001b[0m, in \u001b[0;36mApp.__init__\u001b[1;34m(self, spec, add_book, xl, visible)\u001b[0m\n\u001b[0;32m    323\u001b[0m     warn(\u001b[38;5;124m'\u001b[39m\u001b[38;5;124mspec is ignored on Windows.\u001b[39m\u001b[38;5;124m'\u001b[39m)\n\u001b[0;32m    324\u001b[0m \u001b[38;5;28;01mif\u001b[39;00m xl \u001b[38;5;129;01mis\u001b[39;00m \u001b[38;5;28;01mNone\u001b[39;00m:\n\u001b[0;32m    325\u001b[0m     \u001b[38;5;66;03m# new instance\u001b[39;00m\n\u001b[1;32m--> 326\u001b[0m     \u001b[38;5;28mself\u001b[39m\u001b[38;5;241m.\u001b[39m_xl \u001b[38;5;241m=\u001b[39m COMRetryObjectWrapper(\u001b[43mDispatchEx\u001b[49m\u001b[43m(\u001b[49m\u001b[38;5;124;43m'\u001b[39;49m\u001b[38;5;124;43mExcel.Application\u001b[39;49m\u001b[38;5;124;43m'\u001b[39;49m\u001b[43m)\u001b[49m)\n\u001b[0;32m    327\u001b[0m     \u001b[38;5;28;01mif\u001b[39;00m add_book:\n\u001b[0;32m    328\u001b[0m         \u001b[38;5;28mself\u001b[39m\u001b[38;5;241m.\u001b[39m_xl\u001b[38;5;241m.\u001b[39mWorkbooks\u001b[38;5;241m.\u001b[39mAdd()\n",
      "File \u001b[1;32m~\\AppData\\Roaming\\Python\\Python39\\site-packages\\win32com\\client\\__init__.py:145\u001b[0m, in \u001b[0;36mDispatchEx\u001b[1;34m(clsid, machine, userName, resultCLSID, typeinfo, UnicodeToString, clsctx)\u001b[0m\n\u001b[0;32m    143\u001b[0m \u001b[38;5;28;01mif\u001b[39;00m userName \u001b[38;5;129;01mis\u001b[39;00m \u001b[38;5;28;01mNone\u001b[39;00m:\n\u001b[0;32m    144\u001b[0m     userName \u001b[38;5;241m=\u001b[39m clsid\n\u001b[1;32m--> 145\u001b[0m dispatch \u001b[38;5;241m=\u001b[39m \u001b[43mpythoncom\u001b[49m\u001b[38;5;241;43m.\u001b[39;49m\u001b[43mCoCreateInstanceEx\u001b[49m\u001b[43m(\u001b[49m\n\u001b[0;32m    146\u001b[0m \u001b[43m    \u001b[49m\u001b[43mclsid\u001b[49m\u001b[43m,\u001b[49m\u001b[43m \u001b[49m\u001b[38;5;28;43;01mNone\u001b[39;49;00m\u001b[43m,\u001b[49m\u001b[43m \u001b[49m\u001b[43mclsctx\u001b[49m\u001b[43m,\u001b[49m\u001b[43m \u001b[49m\u001b[43mserverInfo\u001b[49m\u001b[43m,\u001b[49m\u001b[43m \u001b[49m\u001b[43m(\u001b[49m\u001b[43mpythoncom\u001b[49m\u001b[38;5;241;43m.\u001b[39;49m\u001b[43mIID_IDispatch\u001b[49m\u001b[43m,\u001b[49m\u001b[43m)\u001b[49m\n\u001b[0;32m    147\u001b[0m \u001b[43m\u001b[49m\u001b[43m)\u001b[49m[\u001b[38;5;241m0\u001b[39m]\n\u001b[0;32m    148\u001b[0m \u001b[38;5;28;01mreturn\u001b[39;00m Dispatch(dispatch, userName, resultCLSID, typeinfo, clsctx\u001b[38;5;241m=\u001b[39mclsctx)\n",
      "\u001b[1;31mcom_error\u001b[0m: (-2147221164, 'Class not registered', None, None)"
     ]
    }
   ],
   "source": [
    "spread_accountBook = act_wb.accountBook(file_path=spread_acc_file_path,\n",
    "                                 risk_mgr=risk_mgr, \n",
    "                                 entry_crit = entry_crit,\n",
    "                                 runtime_config = runtime_config,\n",
    "                                 market_condition = market_condition,\n",
    "                                 strategy_list=spread_strategy_list)\n",
    "\n",
    "condor_accountBook = act_wb.accountBook(file_path=condor_acc_file_path,\n",
    "                                 risk_mgr=risk_mgr, \n",
    "                                 entry_crit = entry_crit,\n",
    "                                 runtime_config = runtime_config,\n",
    "                                 market_condition = market_condition,\n",
    "                                 strategy_list=condor_strategy_list)\n",
    "\n",
    "butterfly_accountBook = act_wb.accountBook(file_path=butterfly_acc_file_path,\n",
    "                                 risk_mgr=risk_mgr, \n",
    "                                 entry_crit = entry_crit,\n",
    "                                 runtime_config = runtime_config,\n",
    "                                 market_condition = market_condition,\n",
    "                                 strategy_list=butterfly_strategy_list)"
   ]
  },
  {
   "cell_type": "code",
   "execution_count": null,
   "id": "851fe095",
   "metadata": {
    "scrolled": false
   },
   "outputs": [],
   "source": [
    "condor_accountBook.update_all_strategy_positions()\n",
    "butterfly_accountBook.update_all_strategy_positions()\n",
    "spread_accountBook.update_all_strategy_positions()"
   ]
  },
  {
   "cell_type": "code",
   "execution_count": null,
   "id": "1de1038d",
   "metadata": {},
   "outputs": [],
   "source": [
    "spread_accountBook.try_stop_strategy_positions()\n",
    "condor_accountBook.try_stop_strategy_positions()\n",
    "butterfly_accountBook.try_stop_strategy_positions()"
   ]
  },
  {
   "cell_type": "code",
   "execution_count": null,
   "id": "1ea7b0e3",
   "metadata": {},
   "outputs": [],
   "source": [
    "from tradingBot.optionPosition import iron_condor as ic\n",
    "\n",
    "q = ic.iron_condor_position('AAPL', entry_crit, runtime_config)\n",
    "dfi = q.get_positions(condor_strategy_list)"
   ]
  },
  {
   "cell_type": "code",
   "execution_count": null,
   "id": "b7d67fb7",
   "metadata": {
    "scrolled": false
   },
   "outputs": [],
   "source": [
    "from tradingBot.excel import watchListBook as wb\n",
    "\n",
    "acc_file_path = r'C:\\Users\\jimhu\\option_trader\\assets\\static\\assets\\data\\jihuang.xlsm' \n",
    "\n",
    "watchBook = wb.watchListBook(acc_file_path)\n",
    "\n",
    "#watchBook.refresh_one_watch_list('Software', update_TD=True)\n",
    "#watchBook.refresh_one_watch_list('Semi', update_TD=True)\n",
    "#watchBook.refresh_one_watch_list('Foods', update_TD=True)\n",
    "#watchBook.refresh_one_watch_list('Medical', update_TD=True)\n",
    "#watchBook.refresh_one_watch_list('Travel', update_TD=True)\n",
    "#watchBook.refresh_one_watch_list('Financial', update_TD=True)\n",
    "#watchBook.refresh_one_watch_list('Retail', update_TD=True)\n",
    "#watchBook.refresh_one_watch_list('Energy', update_TD=True)\n",
    "#watchBook.refresh_one_watch_list('Manufacture', update_TD=True)\n",
    "#watchBook.refresh_one_watch_list('ETF', update_TD=True)\n",
    "\n",
    "watchBook.refresh_all_watch_list(update_TD=True)"
   ]
  },
  {
   "cell_type": "code",
   "execution_count": null,
   "id": "9bc7c310",
   "metadata": {},
   "outputs": [],
   "source": [
    "###############################################\n",
    "# get option positions for all watch list     #\n",
    "###############################################"
   ]
  },
  {
   "cell_type": "code",
   "execution_count": null,
   "id": "1cdbedf4",
   "metadata": {},
   "outputs": [],
   "source": [
    "from tradingBot.excel import watchListBook as wb\n",
    "from tradingBot.excel import positionBook as pb\n",
    "\n",
    "data_dir = r'C:\\Users\\jimhu\\option_trader\\data\\charts'\n",
    "\n",
    "acc_file_path = r'C:\\Users\\jimhu\\option_trader\\data\\excell\\jihuang.xlsm'\n",
    "\n",
    "watchBook = wb.watchListBook(acc_file_path, data_dir)\n",
    "\n",
    "watch_list = watchBook.get_all_watch_list()\n",
    "\n",
    "position_file_path = r'C:\\Users\\jimhu\\option_trader\\data\\excell\\positions.xlsm'\n",
    "positionBook = pb.positionBook(file_path=position_file_path)\n",
    "\n",
    "positionBook.get_spread_positions(watch_list)\n",
    "#positionBook.get_iron_condor_positions(watch_list)\n",
    "#positionBook.get_butterfly_positions(watch_list)\n",
    "#positionBook.get_one_leg_positions(watch_list)"
   ]
  },
  {
   "cell_type": "code",
   "execution_count": null,
   "id": "b213ac92",
   "metadata": {},
   "outputs": [],
   "source": []
  },
  {
   "cell_type": "code",
   "execution_count": null,
   "id": "188f62ab",
   "metadata": {},
   "outputs": [],
   "source": [
    "##############################################\n",
    "# get option positions for given symbols     #\n",
    "##############################################"
   ]
  },
  {
   "cell_type": "code",
   "execution_count": null,
   "id": "3408bd55",
   "metadata": {
    "scrolled": true
   },
   "outputs": [],
   "source": [
    "import logging\n",
    "logging.disable(logging.DEBUG)\n",
    "\n",
    "from tradingBot.excel import positionBook as pb\n",
    "\n",
    "myBook = pb.positionBook()\n",
    "myBook.get_position_candidate(['TLT', 'SHY'])"
   ]
  },
  {
   "cell_type": "code",
   "execution_count": null,
   "id": "b0ba2434",
   "metadata": {},
   "outputs": [],
   "source": [
    "############################\n",
    "# update option positions  #\n",
    "#############################"
   ]
  },
  {
   "cell_type": "code",
   "execution_count": 2,
   "id": "da7b2f57",
   "metadata": {},
   "outputs": [
    {
     "name": "stderr",
     "output_type": "stream",
     "text": [
      "Processing Iron Condor 2023-04-18\n"
     ]
    }
   ],
   "source": [
    "import logging\n",
    "logging.disable(logging.DEBUG)\n",
    "\n",
    "from tradingBot.excel import positionBook as pb\n",
    "from tradingBot.settings.tradeConfig import entryCrit, riskManager, marketCondition, runtimeConfig\n",
    "\n",
    "risk_mgr = riskManager()\n",
    "\n",
    "risk_mgr.stop_loss_percent = 50\n",
    "risk_mgr.stop_gain_percent = 100\n",
    "risk_mgr.close_days_before_earning = 1\n",
    "risk_mgr.close_days_before_expire = 1\n",
    "risk_mgr.open_min_days_to_earning = 4\n",
    "risk_mgr.open_min_days_to_expire = 4\n",
    "risk_mgr.max_option_positions = 10\n",
    "risk_mgr.max_loss_per_position = 1500\n",
    "\n",
    "position_file_path = r'C:\\Users\\jimhu\\option_trader\\data\\excell\\positions.xlsm'\n",
    "positionBook = pb.positionBook(file_path=position_file_path)\n",
    "\n",
    "positionBook.update_quotes('Iron Condor 2023-04-18', risk_mgr=risk_mgr)"
   ]
  },
  {
   "cell_type": "code",
   "execution_count": null,
   "id": "3ffee0f1",
   "metadata": {},
   "outputs": [],
   "source": []
  },
  {
   "cell_type": "code",
   "execution_count": null,
   "id": "b6a11e37",
   "metadata": {},
   "outputs": [],
   "source": [
    "dir(single_leg.single_leg_position)"
   ]
  },
  {
   "cell_type": "code",
   "execution_count": null,
   "id": "cc9a16a5",
   "metadata": {},
   "outputs": [],
   "source": [
    "###########################################################\n",
    "# backtest all strategies for all symbols in watchlist    #\n",
    "###########################################################"
   ]
  },
  {
   "cell_type": "code",
   "execution_count": null,
   "id": "6c9935f9",
   "metadata": {},
   "outputs": [],
   "source": [
    "from tradingBot.backtest.option.single_option import bt_single_option\n",
    "from tradingBot.backtest.option.spread import bt_spread\n",
    "from tradingBot.backtest.option.butterfly import bt_butterfly\n",
    "from tradingBot.backtest.option.credit_iron_condor import bt_credit_iron_condor\n",
    "\n",
    "strategy_list = [bt_single_option('Put',Credit=False), \n",
    "                 bt_single_option('Put'), \n",
    "                 bt_single_option('Call',Credit=False),\n",
    "                 bt_single_option('Call'), \n",
    "                 bt_butterfly(Type='Call', Credit=False),\n",
    "                 bt_butterfly(Type='Call', Credit=True),\n",
    "                 bt_butterfly(Type='Put', Credit=False), \n",
    "                 bt_butterfly(Type='Put', Credit=True),\n",
    "                 bt_butterfly(Type='Iron', Credit=False),\n",
    "                 bt_butterfly(Type='Iron', Credit=True),\n",
    "                 bt_credit_iron_condor(), \n",
    "                 bt_spread(Type='Call', Credit=True),\n",
    "                 bt_spread(Type='Call', Credit=False),\n",
    "                 bt_spread(Type='Put', Credit=True),\n",
    "                 bt_spread(Type='Put', Credit=False)]  \n",
    "\n",
    "watch_list = watchBook.get_all_watch_list()\n",
    "symbol_list = watch_list['Symbol'].to_list()\n",
    "\n",
    "from tradeBot.excel import backtestBook as bb\n",
    "\n",
    "backtest_file_path = r'C:\\Users\\jimhu\\option_trader\\assets\\static\\assets\\data\\backtest.xlsm' \n",
    "\n",
    "backtestBook = bb.backtestBook(backtest_file_path)\n",
    "today = date.today().strftime(\"%Y-%m-%d\")   \n",
    "backtestBook.backtest('all ' + today, symbol_list, strategy_list)"
   ]
  },
  {
   "cell_type": "code",
   "execution_count": null,
   "id": "5cd323f4",
   "metadata": {},
   "outputs": [],
   "source": []
  },
  {
   "cell_type": "code",
   "execution_count": null,
   "id": "84fce29a",
   "metadata": {},
   "outputs": [],
   "source": [
    "strategy_list = [bt_single_option('Put',Credit=False), \n",
    "                 bt_single_option('Put'), \n",
    "                 bt_single_option('Call',Credit=False),\n",
    "                 bt_single_option('Call'), \n",
    "                 bt_butterfly(Type='Call', Credit=False),\n",
    "                 bt_butterfly(Type='Call', Credit=True),\n",
    "                 bt_butterfly(Type='Put', Credit=False), \n",
    "                 bt_butterfly(Type='Put', Credit=True),\n",
    "                 bt_butterfly(Type='Iron', Credit=False),\n",
    "                 bt_butterfly(Type='Iron', Credit=True),\n",
    "                 bt_credit_iron_condor(), \n",
    "                 bt_spread(Type='Call', Credit=True),\n",
    "                 bt_spread(Type='Call', Credit=False),\n",
    "                 bt_spread(Type='Put', Credit=True),\n",
    "                 bt_spread(Type='Put', Credit=False)]  \n",
    "\n",
    "#back test monitor list\n",
    "acc_file_path = r'C:\\Users\\jimhu\\option_trader\\assets\\static\\assets\\data\\jihuang.xlsm' \n",
    "\n",
    "backtest_file_path = r'C:\\Users\\jimhu\\option_trader\\assets\\static\\assets\\data\\backtest.xlsm' \n",
    "\n",
    "acctLists = AccountWatchListBook(acc_file_path)\n",
    "\n",
    "watch_list = acctLists.get_watch_list('UpUp')\n",
    "\n",
    "symbol_list = watch_list[Fundamental_Sheet.SYMBOL_t].to_list()     \n",
    "\n",
    "backtester = BacktestBook(backtest_file_path)\n",
    "\n",
    "backtester.backtest('UpUp', symbol_list, strategy_list)"
   ]
  },
  {
   "cell_type": "code",
   "execution_count": null,
   "id": "4c699ab8",
   "metadata": {},
   "outputs": [],
   "source": []
  },
  {
   "cell_type": "code",
   "execution_count": null,
   "id": "750fa59b",
   "metadata": {},
   "outputs": [],
   "source": [
    "#loggiFng.disable(logging.INFO)\n",
    "logger.setLevel(logging.INFO)\n",
    "pb.update_quotes('One', watch_list)"
   ]
  },
  {
   "cell_type": "code",
   "execution_count": null,
   "id": "5f6d879c",
   "metadata": {},
   "outputs": [],
   "source": [
    "from tradingBot.optionPosition import single_leg as sl \n",
    "from tradingBot.optionPosition import spread as sp\n",
    "from tradingBot.optionPosition import iron_condor as ic\n",
    "from tradingBot.optionPosition import butterfly as bf   \n",
    "from tradingBot.settings.tradeConfig import entryCrit\n",
    "from tradingBot.consts import strategy as Strategy\n",
    "\n",
    "symbol='ORCL'\n",
    "\n",
    "entry_crit = entryCrit()\n",
    "\n",
    "spread_pos = sp.spread_position(symbol, entry_crit=entry_crit)\n",
    "\n",
    "df = spread_pos.get_positions([Strategy.CREDIT_PUT_SPREAD, Strategy.DEBIT_PUT_SPREAD, Strategy.CREDIT_CALL_SPREAD, Strategy.DEBIT_PUT_SPREAD], max_days_to_expire=60)"
   ]
  },
  {
   "cell_type": "code",
   "execution_count": null,
   "id": "918fb08e",
   "metadata": {},
   "outputs": [],
   "source": [
    "df"
   ]
  },
  {
   "cell_type": "code",
   "execution_count": null,
   "id": "b3c8da12",
   "metadata": {},
   "outputs": [],
   "source": [
    "from tradingBot.optionPosition import single_leg as sl \n",
    "from tradingBot.optionPosition import spread as sp\n",
    "from tradingBot.optionPosition import iron_condor as ic\n",
    "from tradingBot.optionPosition import butterfly as bf   \n",
    "from tradingBot.settings.tradeConfig import entryCrit\n",
    "from tradingBot.consts import strategy as Strategy\n",
    "\n",
    "entry_crit = entryCrit()\n",
    "\n",
    "symbol='OKTA'\n",
    "iron_condor =ic.iron_condor_position(symbol, entry_crit)\n",
    "df = iron_condor.get_positions([Strategy.CREDIT_IRON_CONDOR, Strategy.DEBIT_IRON_CONDOR])"
   ]
  },
  {
   "cell_type": "code",
   "execution_count": null,
   "id": "17141e3b",
   "metadata": {},
   "outputs": [],
   "source": [
    "pd.__version__"
   ]
  },
  {
   "cell_type": "code",
   "execution_count": null,
   "id": "ad73192b",
   "metadata": {},
   "outputs": [],
   "source": [
    "from tradingBot.optionPosition import single_leg as sl \n",
    "from tradingBot.optionPosition import spread as sp\n",
    "from tradingBot.optionPosition import iron_condor as ic\n",
    "from tradingBot.optionPosition import butterfly as bf   \n",
    "from tradingBot.settings.tradeConfig import entryCrit\n",
    "from tradingBot.consts import strategy as Strategy\n",
    "\n",
    "entry_crit = entryCrit()\n",
    "entry_crit.min_pnl = 0.5\n",
    "entry_crit.min_chance_of_win = 25 \n",
    "entry_crit.min_open_interest = 1\n",
    "entry_crit.min_opt_vol = 1 \n",
    "entry_crit.min_delta_for_long = 0\n",
    "entry_crit.max_delta_for_short = 1\n",
    "\n",
    "symbol='ORCL'\n",
    "\n",
    "strategys = [Strategy.CREDIT_CALL_BUTTERFLY, Strategy.CREDIT_PUT_BUTTERFLY, Strategy.DEBIT_CALL_BUTTERFLY, Strategy.DEBIT_PUT_BUTTERFLY, Strategy.IRON_BUTTERFLY, Strategy.REVERSE_IRON_BUTTERFLY]\n",
    "q =bf.butterfly_position(symbol, entry_crit)\n",
    "q.get_positions(strategys)"
   ]
  },
  {
   "cell_type": "code",
   "execution_count": null,
   "id": "ff8c6f55",
   "metadata": {},
   "outputs": [],
   "source": []
  },
  {
   "cell_type": "code",
   "execution_count": null,
   "id": "dfa94732",
   "metadata": {},
   "outputs": [],
   "source": [
    "from sklearn.model_selection import train_test_split\n",
    "from sklearn.model_selection import cross_val_score\n",
    "from sklearn.model_selection import StratifiedKFold\n",
    "from sklearn.metrics import classification_report\n",
    "from sklearn.metrics import confusion_matrix\n",
    "from sklearn.metrics import accuracy_score\n",
    "from sklearn.linear_model import LogisticRegression\n",
    "from sklearn.tree import DecisionTreeClassifier\n",
    "from sklearn.neighbors import KNeighborsClassifier\n",
    "from sklearn.discriminant_analysis import LinearDiscriminantAnalysis\n",
    "from sklearn.naive_bayes import GaussianNB\n",
    "from sklearn.svm import SVC\n",
    "# Split-out validation dataset\n",
    "array = df1.values\n",
    "X = array[:,0:4]\n",
    "y = array[:,4]\n",
    "X_train, X_validation, Y_train, Y_validation = train_test_split(X, y, test_size=0.20, random_state=1)\n",
    "\n",
    "...\n",
    "# Spot Check Algorithms\n",
    "models = []\n",
    "models.append(('LR', LogisticRegression(solver='liblinear', multi_class='ovr')))\n",
    "models.append(('LDA', LinearDiscriminantAnalysis()))\n",
    "models.append(('KNN', KNeighborsClassifier()))\n",
    "models.append(('CART', DecisionTreeClassifier()))\n",
    "models.append(('NB', GaussianNB()))\n",
    "models.append(('SVM', SVC(gamma='auto')))\n",
    "# evaluate each model in turn\n",
    "results = []\n",
    "names = []\n",
    "for name, model in models:\n",
    "\tkfold = StratifiedKFold(n_splits=10, random_state=1, shuffle=True)\n",
    "\tcv_results = cross_val_score(model, X_train, Y_train, cv=kfold, scoring='accuracy')\n",
    "\tresults.append(cv_results)\n",
    "\tnames.append(name)\n",
    "\tprint('%s: %f (%f)' % (name, cv_results.mean(), cv_results.std()))"
   ]
  },
  {
   "cell_type": "code",
   "execution_count": null,
   "id": "f2e3d6b5",
   "metadata": {},
   "outputs": [],
   "source": []
  },
  {
   "cell_type": "code",
   "execution_count": null,
   "id": "afc83696",
   "metadata": {},
   "outputs": [],
   "source": []
  }
 ],
 "metadata": {
  "kernelspec": {
   "display_name": "Python 3 (ipykernel)",
   "language": "python",
   "name": "python3"
  },
  "language_info": {
   "codemirror_mode": {
    "name": "ipython",
    "version": 3
   },
   "file_extension": ".py",
   "mimetype": "text/x-python",
   "name": "python",
   "nbconvert_exporter": "python",
   "pygments_lexer": "ipython3",
   "version": "3.9.16"
  },
  "vscode": {
   "interpreter": {
    "hash": "c347c8f9a7ef94e4c9e03b4513be7835ed18f45b99a2a817fb579f408b867b16"
   }
  }
 },
 "nbformat": 4,
 "nbformat_minor": 5
}
